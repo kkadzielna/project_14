{
 "cells": [
  {
   "cell_type": "code",
   "execution_count": 262,
   "metadata": {},
   "outputs": [],
   "source": [
    "import pandas as pd\n",
    "import numpy as np\n",
    "import matplotlib.pyplot as plt\n",
    "from scipy import stats\n",
    "import seaborn as sns\n",
    "import missingno as msno\n",
    "from collections import Counter"
   ]
  },
  {
   "cell_type": "markdown",
   "metadata": {},
   "source": [
    "## Raw data:"
   ]
  },
  {
   "cell_type": "code",
   "execution_count": 263,
   "metadata": {
    "scrolled": false
   },
   "outputs": [
    {
     "name": "stdout",
     "output_type": "stream",
     "text": [
      "<class 'pandas.core.frame.DataFrame'>\n",
      "RangeIndex: 13734 entries, 0 to 13733\n",
      "Data columns (total 85 columns):\n",
      " #   Column             Non-Null Count  Dtype  \n",
      "---  ------             --------------  -----  \n",
      " 0   Unnamed: 0         13734 non-null  int64  \n",
      " 1   X                  13734 non-null  int64  \n",
      " 2   flag               13734 non-null  object \n",
      " 3   comp_bed_9         8174 non-null   object \n",
      " 4   mat_dep            11145 non-null  float64\n",
      " 5   mat_age            13326 non-null  object \n",
      " 6   weight_16          5351 non-null   float64\n",
      " 7   height_16          5364 non-null   float64\n",
      " 8   iq                 7288 non-null   float64\n",
      " 9   comp_noint_bed_16  471 non-null    object \n",
      " 10  comp_int_bed_16    2570 non-null   object \n",
      " 11  talk_phon_wend     4850 non-null   object \n",
      " 12  text_wend          4841 non-null   object \n",
      " 13  talk_mob_wend      4834 non-null   object \n",
      " 14  comp_wend          4839 non-null   object \n",
      " 15  musi_wend          4831 non-null   object \n",
      " 16  read_wend          4834 non-null   object \n",
      " 17  work_wend          4833 non-null   object \n",
      " 18  alon_wend          4850 non-null   object \n",
      " 19  draw_wend          4842 non-null   object \n",
      " 20  play_wend          4850 non-null   object \n",
      " 21  tv_wend            4853 non-null   object \n",
      " 22  out_win_wend       4849 non-null   object \n",
      " 23  out_sum_wend       4822 non-null   object \n",
      " 24  tran_wend          4861 non-null   object \n",
      " 25  talk_phon_week     4999 non-null   object \n",
      " 26  text_week          5004 non-null   object \n",
      " 27  talk_mob_week      5016 non-null   object \n",
      " 28  comp_week          5011 non-null   object \n",
      " 29  musi_week          5003 non-null   object \n",
      " 30  read_week          4993 non-null   object \n",
      " 31  work_week          5012 non-null   object \n",
      " 32  alon_week          5008 non-null   object \n",
      " 33  draw_week          5012 non-null   object \n",
      " 34  play_week          5015 non-null   object \n",
      " 35  tv_week            5020 non-null   object \n",
      " 36  out_win_week       5007 non-null   object \n",
      " 37  out_sum_week       5014 non-null   object \n",
      " 38  tran_week          5024 non-null   object \n",
      " 39  pat_pres_10        8057 non-null   object \n",
      " 40  pat_pres_8         7729 non-null   object \n",
      " 41  pat_pres           9579 non-null   object \n",
      " 42  num_home           9583 non-null   object \n",
      " 43  mat_anx_1          9700 non-null   object \n",
      " 44  mat_anx_18m        9884 non-null   object \n",
      " 45  mat_anx_8m         10488 non-null  object \n",
      " 46  agg_score          10714 non-null  float64\n",
      " 47  emot_cruel         11301 non-null  object \n",
      " 48  phys_cruel         11301 non-null  object \n",
      " 49  mat_anx_0m         11265 non-null  object \n",
      " 50  pat_ses            11021 non-null  object \n",
      " 51  mat_ses            10110 non-null  object \n",
      " 52  pat_edu            10750 non-null  object \n",
      " 53  mat_edu            12375 non-null  object \n",
      " 54  parity             12544 non-null  float64\n",
      " 55  dep_band_15        5299 non-null   object \n",
      " 56  dep_band_13        7003 non-null   object \n",
      " 57  dep_band_10        7679 non-null   object \n",
      " 58  dep_band_07        8089 non-null   object \n",
      " 59  anx_band_15        5303 non-null   object \n",
      " 60  anx_band_13        7158 non-null   object \n",
      " 61  anx_band_10        7852 non-null   object \n",
      " 62  anx_band_07        8280 non-null   object \n",
      " 63  exercise           4971 non-null   object \n",
      " 64  child_bull         4989 non-null   object \n",
      " 65  phone_14_wend      5962 non-null   object \n",
      " 66  phone_14_week      6131 non-null   object \n",
      " 67  musi_13            6880 non-null   object \n",
      " 68  tv_bed_9           8348 non-null   object \n",
      " 69  own_mob            4386 non-null   object \n",
      " 70  has_dep_diag       4513 non-null   object \n",
      " 71  secd_diag          4513 non-null   float64\n",
      " 72  prim_diag          4513 non-null   float64\n",
      " 73  panic_score        4513 non-null   float64\n",
      " 74  dep_thoughts       1805 non-null   float64\n",
      " 75  dep_score          4513 non-null   float64\n",
      " 76  comp_house         713 non-null    object \n",
      " 77  tv_bed_16          3877 non-null   object \n",
      " 78  creat_14           7093 non-null   object \n",
      " 79  comp_games         9660 non-null   object \n",
      " 80  fam_tv_eve         11174 non-null  object \n",
      " 81  fam_tv_aft         11038 non-null  object \n",
      " 82  fam_tv_mor         11096 non-null  object \n",
      " 83  sex                13734 non-null  object \n",
      " 84  birth_order        13734 non-null  object \n",
      "dtypes: float64(11), int64(2), object(72)\n",
      "memory usage: 8.9+ MB\n"
     ]
    }
   ],
   "source": [
    "data = pd.read_csv(\"./dataset/maps-synthetic-data-v1.1.csv\", engine='python')\n",
    "data.head()\n",
    "data.info()\n"
   ]
  },
  {
   "cell_type": "code",
   "execution_count": 264,
   "metadata": {},
   "outputs": [
    {
     "data": {
      "text/html": [
       "<div>\n",
       "<style scoped>\n",
       "    .dataframe tbody tr th:only-of-type {\n",
       "        vertical-align: middle;\n",
       "    }\n",
       "\n",
       "    .dataframe tbody tr th {\n",
       "        vertical-align: top;\n",
       "    }\n",
       "\n",
       "    .dataframe thead th {\n",
       "        text-align: right;\n",
       "    }\n",
       "</style>\n",
       "<table border=\"1\" class=\"dataframe\">\n",
       "  <thead>\n",
       "    <tr style=\"text-align: right;\">\n",
       "      <th></th>\n",
       "      <th>Variable Name</th>\n",
       "      <th>Variable ALSPAC Name</th>\n",
       "      <th>Variable Description</th>\n",
       "      <th>Variable Type</th>\n",
       "      <th>Administered to</th>\n",
       "      <th>Age of child at administration</th>\n",
       "      <th>ALSPAC Measure</th>\n",
       "      <th>ALSPAC Responses</th>\n",
       "      <th>Processing Details</th>\n",
       "      <th>Reference Document</th>\n",
       "    </tr>\n",
       "  </thead>\n",
       "  <tbody>\n",
       "    <tr>\n",
       "      <th>0</th>\n",
       "      <td>agg_score</td>\n",
       "      <td>f596</td>\n",
       "      <td>Aggression score of partnership</td>\n",
       "      <td>Discrete</td>\n",
       "      <td>Mother</td>\n",
       "      <td>Aged 8 months</td>\n",
       "      <td>Derived by ALSPAC. See Processing Details</td>\n",
       "      <td>NaN</td>\n",
       "      <td>Aggression score was determined by three questions: (f581) \"Does your partner get angry with you?\" (f583) \"Do you have arguments with and feelings?\" and (f585) \"Do you get angry with your partner?\". The response options for all three questions were \"Very often\", \"Often\", \"Sometimes\", \"Rarely\" and \"Never\" with the codes 1, 2, 3, 4 and 5 respectively. The codes for the three questions were summed together to calculate the score.</td>\n",
       "      <td>NaN</td>\n",
       "    </tr>\n",
       "    <tr>\n",
       "      <th>1</th>\n",
       "      <td>alon_week</td>\n",
       "      <td>ccs1006</td>\n",
       "      <td>Average time child spent per day doing things by yourself on a typical weekday</td>\n",
       "      <td>Ordinal</td>\n",
       "      <td>Child</td>\n",
       "      <td>Aged 198 months</td>\n",
       "      <td>\"How much time on average do you spend each day doing things by yourself on a typical weekday?\"</td>\n",
       "      <td>Not at all</td>\n",
       "      <td>The category \"Not at all\" was collapsed into the \"Less than 1 hour\" category</td>\n",
       "      <td>NaN</td>\n",
       "    </tr>\n",
       "    <tr>\n",
       "      <th>2</th>\n",
       "      <td>NaN</td>\n",
       "      <td>NaN</td>\n",
       "      <td>NaN</td>\n",
       "      <td>NaN</td>\n",
       "      <td>NaN</td>\n",
       "      <td>NaN</td>\n",
       "      <td>NaN</td>\n",
       "      <td>Less than 1 hour</td>\n",
       "      <td>NaN</td>\n",
       "      <td>NaN</td>\n",
       "    </tr>\n",
       "    <tr>\n",
       "      <th>3</th>\n",
       "      <td></td>\n",
       "      <td></td>\n",
       "      <td>NaN</td>\n",
       "      <td>NaN</td>\n",
       "      <td>NaN</td>\n",
       "      <td>NaN</td>\n",
       "      <td>NaN</td>\n",
       "      <td>1-2 hours</td>\n",
       "      <td>NaN</td>\n",
       "      <td>NaN</td>\n",
       "    </tr>\n",
       "    <tr>\n",
       "      <th>4</th>\n",
       "      <td></td>\n",
       "      <td></td>\n",
       "      <td>NaN</td>\n",
       "      <td>NaN</td>\n",
       "      <td>NaN</td>\n",
       "      <td>NaN</td>\n",
       "      <td>NaN</td>\n",
       "      <td>3 or more hours</td>\n",
       "      <td>NaN</td>\n",
       "      <td>NaN</td>\n",
       "    </tr>\n",
       "  </tbody>\n",
       "</table>\n",
       "</div>"
      ],
      "text/plain": [
       "  Variable Name Variable ALSPAC Name  \\\n",
       "0  agg_score     f596                  \n",
       "1  alon_week     ccs1006               \n",
       "2  NaN           NaN                   \n",
       "3                                      \n",
       "4                                      \n",
       "\n",
       "                                                             Variable Description  \\\n",
       "0  Aggression score of partnership                                                  \n",
       "1  Average time child spent per day doing things by yourself on a typical weekday   \n",
       "2  NaN                                                                              \n",
       "3  NaN                                                                              \n",
       "4  NaN                                                                              \n",
       "\n",
       "  Variable Type Administered to Age of child at administration  \\\n",
       "0  Discrete      Mother          Aged 8 months                   \n",
       "1  Ordinal       Child           Aged 198 months                 \n",
       "2  NaN           NaN             NaN                             \n",
       "3  NaN           NaN             NaN                             \n",
       "4  NaN           NaN             NaN                             \n",
       "\n",
       "                                                                                    ALSPAC Measure  \\\n",
       "0  Derived by ALSPAC. See Processing Details                                                         \n",
       "1  \"How much time on average do you spend each day doing things by yourself on a typical weekday?\"   \n",
       "2  NaN                                                                                               \n",
       "3  NaN                                                                                               \n",
       "4  NaN                                                                                               \n",
       "\n",
       "   ALSPAC Responses  \\\n",
       "0  NaN                \n",
       "1  Not at all         \n",
       "2  Less than 1 hour   \n",
       "3  1-2 hours          \n",
       "4  3 or more hours    \n",
       "\n",
       "                                                                                                                                                                                                                                                                                                                                                                                                                               Processing Details  \\\n",
       "0  Aggression score was determined by three questions: (f581) \"Does your partner get angry with you?\" (f583) \"Do you have arguments with and feelings?\" and (f585) \"Do you get angry with your partner?\". The response options for all three questions were \"Very often\", \"Often\", \"Sometimes\", \"Rarely\" and \"Never\" with the codes 1, 2, 3, 4 and 5 respectively. The codes for the three questions were summed together to calculate the score.   \n",
       "1  The category \"Not at all\" was collapsed into the \"Less than 1 hour\" category                                                                                                                                                                                                                                                                                                                                                                     \n",
       "2  NaN                                                                                                                                                                                                                                                                                                                                                                                                                                              \n",
       "3  NaN                                                                                                                                                                                                                                                                                                                                                                                                                                              \n",
       "4  NaN                                                                                                                                                                                                                                                                                                                                                                                                                                              \n",
       "\n",
       "  Reference Document  \n",
       "0  NaN                \n",
       "1  NaN                \n",
       "2  NaN                \n",
       "3  NaN                \n",
       "4  NaN                "
      ]
     },
     "execution_count": 264,
     "metadata": {},
     "output_type": "execute_result"
    }
   ],
   "source": [
    "dictionary = pd.read_csv(\"./dataset/synthetic_data_dictionary.csv\", engine='python')\n",
    "dictionary.head()"
   ]
  },
  {
   "cell_type": "markdown",
   "metadata": {},
   "source": [
    "Variables have different Age Of Child At Administration parameters. We don't need the variables with this parameter not equal to 16 (for variables related to screen time) and 18 (for variables related to a depression or anxiety diagnosis)."
   ]
  },
  {
   "cell_type": "markdown",
   "metadata": {},
   "source": [
    "## only the columns at 16 and 18:"
   ]
  },
  {
   "cell_type": "markdown",
   "metadata": {},
   "source": [
    "All vars at 16 are separated into weekend and weekdays. Might be worth summing it up into total per week."
   ]
  },
  {
   "cell_type": "code",
   "execution_count": 265,
   "metadata": {},
   "outputs": [
    {
     "name": "stdout",
     "output_type": "stream",
     "text": [
      "['alon_week', 'alon_wend', 'child_bull', 'comp_house', 'comp_int_bed_16', 'comp_noint_bed_16', 'comp_week', 'comp_wend', 'draw_week', 'draw_wend', 'exercise', 'musi_week', 'musi_wend', 'out_sum_week', 'out_sum_wend', 'out_win_week', 'out_win_wend', 'play_week', 'play_wend', 'read_week', 'read_wend', 'talk_mob_week', 'talk_mob_wend', 'talk_phon_week', 'talk_phon_wend', 'text_week', 'text_wend', 'tran_week', 'tran_wend', 'tv_week', 'tv_wend', 'work_week', 'work_wend', 'dep_score', 'dep_thoughts', 'has_dep_diag', 'panic_score', 'prim_diag', 'secd_diag', 'anx_band_15', 'dep_band_15', 'height_16', 'weight_16']\n"
     ]
    },
    {
     "name": "stderr",
     "output_type": "stream",
     "text": [
      "C:\\Users\\moham\\AppData\\Local\\Temp/ipykernel_25508/2955949351.py:5: FutureWarning: The series.append method is deprecated and will be removed from pandas in a future version. Use pandas.concat instead.\n",
      "  columns_to_keep_names = list(rows['Variable Name'].append(rows2['Variable Name']).append(rows3['Variable Name']))\n",
      "C:\\Users\\moham\\AppData\\Local\\Temp/ipykernel_25508/2955949351.py:5: FutureWarning: The series.append method is deprecated and will be removed from pandas in a future version. Use pandas.concat instead.\n",
      "  columns_to_keep_names = list(rows['Variable Name'].append(rows2['Variable Name']).append(rows3['Variable Name']))\n"
     ]
    }
   ],
   "source": [
    "rows = dictionary[(dictionary[\"Age of child at administration\"] == \"Aged 198 months\")]\n",
    "rows2 = dictionary[(dictionary[\"Age of child at administration\"] == \"Aged around 17.5 years\")]\n",
    "rows3 = dictionary[(dictionary[\"Age of child at administration\"] == \"Aged around 15.5 years\")]\n",
    "\n",
    "columns_to_keep_names = list(rows['Variable Name'].append(rows2['Variable Name']).append(rows3['Variable Name']))\n",
    "\n",
    "print(columns_to_keep_names)"
   ]
  },
  {
   "cell_type": "markdown",
   "metadata": {},
   "source": [
    "## Remove vars at wrong ages"
   ]
  },
  {
   "cell_type": "code",
   "execution_count": 266,
   "metadata": {},
   "outputs": [],
   "source": [
    "data = pd.DataFrame(data)\n",
    "for i in data.columns:\n",
    "    if (i not in columns_to_keep_names):\n",
    "        data.drop(i, inplace = True, axis = 1)\n",
    "    #else:\n",
    "        #print(i, \"keep\")"
   ]
  },
  {
   "cell_type": "markdown",
   "metadata": {},
   "source": [
    "## Mohammed's stuff:"
   ]
  },
  {
   "cell_type": "code",
   "execution_count": 267,
   "metadata": {},
   "outputs": [],
   "source": [
    "for i in ['comp_bed_9', 'pat_pres_10', 'pat_pres_8', 'pat_pres', 'mat_anx_1', 'mat_anx_18m', 'mat_anx_8m', 'emot_cruel',\n",
    "          'phys_cruel', 'mat_anx_0m', 'child_bull', 'musi_13', 'tv_bed_9', 'own_mob', 'comp_games']:\n",
    "    if(i in data.columns):\n",
    "        data[i] = data[i].replace(['Yes'], 1)\n",
    "        data[i] = data[i].replace(['No'], 0)\n",
    "    \n",
    "for i in ['comp_noint_bed_16', 'comp_int_bed_16', 'comp_house', 'tv_bed_16']:\n",
    "    if(i in data.columns):\n",
    "        data[i] = data[i].replace(['Yes'], 1)\n",
    "        data[i] = data[i].fillna(0)\n",
    "    \n",
    "for i in ['talk_phon_wend', 'musi_wend', 'talk_phon_week', 'musi_week']:\n",
    "    if(i in data.columns):\n",
    "        data[i] = data[i].replace(['Not at all'], 0)\n",
    "        data[i] = data[i].replace(['Any at all'], 1)\n",
    "\n",
    "for i in ['play_wend', 'out_sum_wend', 'play_week', 'out_sum_week']:\n",
    "    if(i in data.columns):\n",
    "        data[i] = data[i].replace(['Less than 3 hours'], 0)\n",
    "        data[i] = data[i].replace(['3 or more hours'], 1)\n",
    "    \n",
    "for i in ['tran_wend', 'tran_week']:\n",
    "    if(i in data.columns):\n",
    "        data[i] = data[i].replace(['Less than 1 hour'], 0)\n",
    "        data[i] = data[i].replace(['1 or more hours'], 1)"
   ]
  },
  {
   "cell_type": "code",
   "execution_count": 268,
   "metadata": {},
   "outputs": [],
   "source": [
    "for i in ['talk_mob_wend', 'read_wend', 'draw_wend', 'talk_mob_week', 'read_week', 'draw_week']:\n",
    "    if(i in data.columns):\n",
    "        data[i] = data[i].replace(['Not at all', 'Less than 1 hour', '1 or more hours'], range(3))\n",
    "    \n",
    "for i in ['work_wend', 'alon_wend', 'out_win_wend', 'work_week', 'alon_week', 'out_win_week']:\n",
    "    if(i in data.columns):\n",
    "        data[i] = data[i].replace(['Less than 1 hour', '1-2 hours', '3 or more hours'], range(3))\n",
    "    \n",
    "for i in ['phone_14_wend', 'phone_14_week']:\n",
    "    if(i in data.columns):\n",
    "        data[i] = data[i].replace(['Not at all', '< 1 hour', '1 or more hours'], range(3))\n",
    "    \n",
    "for i in ['fam_tv_eve', 'fam_tv_aft', 'fam_tv_mor']:\n",
    "    if(i in data.columns):\n",
    "        data[i] = data[i].replace(['Other', 'Yes, Some Days', 'Yes, Every Day'], range(3))    "
   ]
  },
  {
   "cell_type": "code",
   "execution_count": 269,
   "metadata": {},
   "outputs": [],
   "source": [
    "for i in ['text_wend', 'comp_wend', 'tv_wend', 'text_week', 'comp_week', 'tv_week']:\n",
    "    if(i in data.columns):\n",
    "        data[i] = data[i].replace(['Not at all', 'Less than 1 hour', '1-2 hours', '3 or more hours'], range(4))"
   ]
  },
  {
   "cell_type": "code",
   "execution_count": 270,
   "metadata": {},
   "outputs": [],
   "source": [
    "percentages = ['dep_band_07', 'dep_band_15', 'dep_band_13', 'dep_band_10', 'anx_band_15', 'anx_band_07',\n",
    "               'anx_band_13', 'anx_band_10']\n",
    "for i in percentages:\n",
    "    if(i in data.columns):\n",
    "        data[i] = data[i].str.strip('%<>~').astype('float')"
   ]
  },
  {
   "cell_type": "code",
   "execution_count": 271,
   "metadata": {},
   "outputs": [],
   "source": [
    "data['weight_16'].round(decimals = 2)\n",
    "data['height_16'].round(decimals = 2).head()\n",
    "data['has_dep_diag'].replace(['Yes ICD-10 diagnosis of depression', ' No ICD-10 diagnosis of depression'], [1, 0], inplace = True)\n",
    "data['exercise'].replace(['Never','Less than once a month', '1-3 times a month',\n",
    "                         '1-4 times a week', '5 or more times a week'], range(5), inplace = True)"
   ]
  },
  {
   "cell_type": "markdown",
   "metadata": {},
   "source": [
    "# Combining variable"
   ]
  },
  {
   "cell_type": "code",
   "execution_count": 272,
   "metadata": {},
   "outputs": [],
   "source": [
    "add1 = ['alon_week','draw_week','musi_week','out_sum_week','play_week','read_week','text_week',\n",
    "        'tran_week','work_week','comp_week','tv_week','talk_mob_week','talk_phon_week']\n",
    "add2 = ['alon_wend','draw_wend','musi_wend','out_sum_wend','play_wend','read_wend','text_wend',\n",
    "        'tran_wend','work_wend','comp_wend','tv_wend','talk_mob_wend','talk_phon_wend']\n",
    "add3 = ['alon','draw','musi','out_sum','play','read','text',\n",
    "        'tran','work','comp','tv','talk_mob','talk_phon']\n",
    "\n",
    "for i in range(len(add1)):\n",
    "    data[add3[i]] = data[add1[i]] + data[add2[i]]\n",
    "\n",
    "data['comp_bed_16'] = (data['comp_int_bed_16'] + data['comp_noint_bed_16'])\n",
    "data['comp_house_at_all'] = (data['comp_int_bed_16'] + data['comp_noint_bed_16'] + data['comp_house'])"
   ]
  },
  {
   "cell_type": "markdown",
   "metadata": {},
   "source": [
    "# Checking if combined variables were answered together"
   ]
  },
  {
   "cell_type": "code",
   "execution_count": 291,
   "metadata": {},
   "outputs": [
    {
     "name": "stdout",
     "output_type": "stream",
     "text": [
      "[]\n"
     ]
    }
   ],
   "source": [
    "error = []\n",
    "for i in data.index:\n",
    "    for j in range(len(add1)):\n",
    "        if(type(data[add1[j]][i]) != type(data[add2[j]][i])):\n",
    "            if(add1[j] not in error):\n",
    "                error.append(add1[j])\n",
    "print(error)\n",
    "for i in error:\n",
    "    print(i , data[i].unique())"
   ]
  },
  {
   "cell_type": "markdown",
   "metadata": {},
   "source": [
    "## Mohamed's stuff"
   ]
  },
  {
   "cell_type": "code",
   "execution_count": 274,
   "metadata": {
    "scrolled": true
   },
   "outputs": [],
   "source": [
    "transposed_data = data.T\n"
   ]
  },
  {
   "cell_type": "code",
   "execution_count": 275,
   "metadata": {},
   "outputs": [],
   "source": [
    "missing_data = pd.DataFrame(data[data.columns[data.isnull().any()]].isnull().sum()/len(data)*100)"
   ]
  },
  {
   "cell_type": "code",
   "execution_count": 276,
   "metadata": {},
   "outputs": [
    {
     "name": "stderr",
     "output_type": "stream",
     "text": [
      "C:\\Users\\moham\\AppData\\Local\\Temp/ipykernel_25508/1096907238.py:4: FutureWarning: Passing a negative integer is deprecated in version 1.0 and will not be supported in future version. Instead, use None to not limit the column width.\n",
      "  pd.set_option('display.max_colwidth', -1)\n"
     ]
    }
   ],
   "source": [
    "pd.set_option('display.max_rows', 15)\n",
    "pd.set_option('display.max_columns', 15)\n",
    "pd.set_option('display.width', None)\n",
    "pd.set_option('display.max_colwidth', -1)"
   ]
  },
  {
   "cell_type": "code",
   "execution_count": 277,
   "metadata": {},
   "outputs": [
    {
     "data": {
      "text/html": [
       "<div>\n",
       "<style scoped>\n",
       "    .dataframe tbody tr th:only-of-type {\n",
       "        vertical-align: middle;\n",
       "    }\n",
       "\n",
       "    .dataframe tbody tr th {\n",
       "        vertical-align: top;\n",
       "    }\n",
       "\n",
       "    .dataframe thead th {\n",
       "        text-align: right;\n",
       "    }\n",
       "</style>\n",
       "<table border=\"1\" class=\"dataframe\">\n",
       "  <thead>\n",
       "    <tr style=\"text-align: right;\">\n",
       "      <th></th>\n",
       "      <th>Features</th>\n",
       "      <th>% Missing Data</th>\n",
       "    </tr>\n",
       "  </thead>\n",
       "  <tbody>\n",
       "    <tr>\n",
       "      <th>38</th>\n",
       "      <td>dep_thoughts</td>\n",
       "      <td>86.857434</td>\n",
       "    </tr>\n",
       "    <tr>\n",
       "      <th>39</th>\n",
       "      <td>dep_score</td>\n",
       "      <td>67.139945</td>\n",
       "    </tr>\n",
       "    <tr>\n",
       "      <th>34</th>\n",
       "      <td>has_dep_diag</td>\n",
       "      <td>67.139945</td>\n",
       "    </tr>\n",
       "    <tr>\n",
       "      <th>35</th>\n",
       "      <td>secd_diag</td>\n",
       "      <td>67.139945</td>\n",
       "    </tr>\n",
       "    <tr>\n",
       "      <th>36</th>\n",
       "      <td>prim_diag</td>\n",
       "      <td>67.139945</td>\n",
       "    </tr>\n",
       "    <tr>\n",
       "      <th>...</th>\n",
       "      <td>...</td>\n",
       "      <td>...</td>\n",
       "    </tr>\n",
       "    <tr>\n",
       "      <th>29</th>\n",
       "      <td>tran_week</td>\n",
       "      <td>63.419251</td>\n",
       "    </tr>\n",
       "    <tr>\n",
       "      <th>30</th>\n",
       "      <td>dep_band_15</td>\n",
       "      <td>61.416922</td>\n",
       "    </tr>\n",
       "    <tr>\n",
       "      <th>31</th>\n",
       "      <td>anx_band_15</td>\n",
       "      <td>61.387797</td>\n",
       "    </tr>\n",
       "    <tr>\n",
       "      <th>0</th>\n",
       "      <td>weight_16</td>\n",
       "      <td>61.038299</td>\n",
       "    </tr>\n",
       "    <tr>\n",
       "      <th>1</th>\n",
       "      <td>height_16</td>\n",
       "      <td>60.943644</td>\n",
       "    </tr>\n",
       "  </tbody>\n",
       "</table>\n",
       "<p>53 rows × 2 columns</p>\n",
       "</div>"
      ],
      "text/plain": [
       "        Features  % Missing Data\n",
       "38  dep_thoughts  86.857434     \n",
       "39  dep_score     67.139945     \n",
       "34  has_dep_diag  67.139945     \n",
       "35  secd_diag     67.139945     \n",
       "36  prim_diag     67.139945     \n",
       "..        ...           ...     \n",
       "29  tran_week     63.419251     \n",
       "30  dep_band_15   61.416922     \n",
       "31  anx_band_15   61.387797     \n",
       "0   weight_16     61.038299     \n",
       "1   height_16     60.943644     \n",
       "\n",
       "[53 rows x 2 columns]"
      ]
     },
     "execution_count": 277,
     "metadata": {},
     "output_type": "execute_result"
    }
   ],
   "source": [
    "names = []\n",
    "for i in range(len(missing_data)):\n",
    "        names.append(missing_data.iloc[i].name)\n",
    "values = []\n",
    "for i in range(len(missing_data)):\n",
    "        values.append(missing_data.iloc[i][0])\n",
    "\n",
    "data_1 = {'Features': names,'% Missing Data': values}\n",
    "\n",
    "missing_df = pd.DataFrame(data_1)\n",
    "\n",
    "missing_df.sort_values(by = ['% Missing Data'], ascending = False)"
   ]
  },
  {
   "cell_type": "code",
   "execution_count": 278,
   "metadata": {},
   "outputs": [],
   "source": [
    "## Dropping columns (features / variables) that have NaN values above a certain threshold\n",
    "\n",
    "threshold = 100\n",
    "\n",
    "for i in range (len(missing_df)):\n",
    "  if(missing_df.iloc[i]['% Missing Data'] > threshold):\n",
    "    data.drop(columns = missing_df.iloc[i][0], inplace = True)"
   ]
  },
  {
   "cell_type": "code",
   "execution_count": 279,
   "metadata": {},
   "outputs": [
    {
     "name": "stdout",
     "output_type": "stream",
     "text": [
      "<class 'pandas.core.frame.DataFrame'>\n",
      "RangeIndex: 13734 entries, 0 to 13733\n",
      "Data columns (total 58 columns):\n",
      " #   Column             Non-Null Count  Dtype  \n",
      "---  ------             --------------  -----  \n",
      " 0   weight_16          5351 non-null   float64\n",
      " 1   height_16          5364 non-null   float64\n",
      " 2   comp_noint_bed_16  13734 non-null  float64\n",
      " 3   comp_int_bed_16    13734 non-null  float64\n",
      " 4   talk_phon_wend     4850 non-null   float64\n",
      " 5   text_wend          4841 non-null   float64\n",
      " 6   talk_mob_wend      4834 non-null   float64\n",
      " 7   comp_wend          4839 non-null   float64\n",
      " 8   musi_wend          4831 non-null   float64\n",
      " 9   read_wend          4834 non-null   float64\n",
      " 10  work_wend          4833 non-null   float64\n",
      " 11  alon_wend          4850 non-null   float64\n",
      " 12  draw_wend          4842 non-null   float64\n",
      " 13  play_wend          4850 non-null   float64\n",
      " 14  tv_wend            4853 non-null   float64\n",
      " 15  out_win_wend       4849 non-null   float64\n",
      " 16  out_sum_wend       4822 non-null   float64\n",
      " 17  tran_wend          4861 non-null   float64\n",
      " 18  talk_phon_week     4999 non-null   float64\n",
      " 19  text_week          5004 non-null   float64\n",
      " 20  talk_mob_week      5016 non-null   float64\n",
      " 21  comp_week          5011 non-null   float64\n",
      " 22  musi_week          5003 non-null   float64\n",
      " 23  read_week          4993 non-null   float64\n",
      " 24  work_week          5012 non-null   float64\n",
      " 25  alon_week          5008 non-null   float64\n",
      " 26  draw_week          5012 non-null   float64\n",
      " 27  play_week          5015 non-null   float64\n",
      " 28  tv_week            5020 non-null   float64\n",
      " 29  out_win_week       5007 non-null   float64\n",
      " 30  out_sum_week       5014 non-null   float64\n",
      " 31  tran_week          5024 non-null   float64\n",
      " 32  dep_band_15        5299 non-null   float64\n",
      " 33  anx_band_15        5303 non-null   float64\n",
      " 34  exercise           4971 non-null   float64\n",
      " 35  child_bull         4989 non-null   float64\n",
      " 36  has_dep_diag       4513 non-null   float64\n",
      " 37  secd_diag          4513 non-null   float64\n",
      " 38  prim_diag          4513 non-null   float64\n",
      " 39  panic_score        4513 non-null   float64\n",
      " 40  dep_thoughts       1805 non-null   float64\n",
      " 41  dep_score          4513 non-null   float64\n",
      " 42  comp_house         13734 non-null  float64\n",
      " 43  alon               4837 non-null   float64\n",
      " 44  draw               4827 non-null   float64\n",
      " 45  musi               4816 non-null   float64\n",
      " 46  out_sum            4812 non-null   float64\n",
      " 47  play               4834 non-null   float64\n",
      " 48  read               4825 non-null   float64\n",
      " 49  text               4824 non-null   float64\n",
      " 50  tran               4854 non-null   float64\n",
      " 51  work               4828 non-null   float64\n",
      " 52  comp               4829 non-null   float64\n",
      " 53  tv                 4849 non-null   float64\n",
      " 54  talk_mob           4830 non-null   float64\n",
      " 55  talk_phon          4834 non-null   float64\n",
      " 56  comp_bed_16        13734 non-null  float64\n",
      " 57  comp_house_at_all  13734 non-null  float64\n",
      "dtypes: float64(58)\n",
      "memory usage: 6.1 MB\n"
     ]
    }
   ],
   "source": [
    "data.info()"
   ]
  },
  {
   "cell_type": "code",
   "execution_count": 280,
   "metadata": {
    "scrolled": true
   },
   "outputs": [
    {
     "data": {
      "text/html": [
       "<div>\n",
       "<style scoped>\n",
       "    .dataframe tbody tr th:only-of-type {\n",
       "        vertical-align: middle;\n",
       "    }\n",
       "\n",
       "    .dataframe tbody tr th {\n",
       "        vertical-align: top;\n",
       "    }\n",
       "\n",
       "    .dataframe thead th {\n",
       "        text-align: right;\n",
       "    }\n",
       "</style>\n",
       "<table border=\"1\" class=\"dataframe\">\n",
       "  <thead>\n",
       "    <tr style=\"text-align: right;\">\n",
       "      <th></th>\n",
       "      <th>weight_16</th>\n",
       "      <th>height_16</th>\n",
       "      <th>comp_noint_bed_16</th>\n",
       "      <th>comp_int_bed_16</th>\n",
       "      <th>talk_phon_wend</th>\n",
       "      <th>text_wend</th>\n",
       "      <th>talk_mob_wend</th>\n",
       "      <th>...</th>\n",
       "      <th>work</th>\n",
       "      <th>comp</th>\n",
       "      <th>tv</th>\n",
       "      <th>talk_mob</th>\n",
       "      <th>talk_phon</th>\n",
       "      <th>comp_bed_16</th>\n",
       "      <th>comp_house_at_all</th>\n",
       "    </tr>\n",
       "  </thead>\n",
       "  <tbody>\n",
       "    <tr>\n",
       "      <th>0</th>\n",
       "      <td>59.294132</td>\n",
       "      <td>181.602831</td>\n",
       "      <td>0.0</td>\n",
       "      <td>0.0</td>\n",
       "      <td>1.0</td>\n",
       "      <td>1.0</td>\n",
       "      <td>1.0</td>\n",
       "      <td>...</td>\n",
       "      <td>4.0</td>\n",
       "      <td>4.0</td>\n",
       "      <td>4.0</td>\n",
       "      <td>2.0</td>\n",
       "      <td>1.0</td>\n",
       "      <td>0.0</td>\n",
       "      <td>1.0</td>\n",
       "    </tr>\n",
       "    <tr>\n",
       "      <th>1</th>\n",
       "      <td>NaN</td>\n",
       "      <td>NaN</td>\n",
       "      <td>0.0</td>\n",
       "      <td>0.0</td>\n",
       "      <td>NaN</td>\n",
       "      <td>NaN</td>\n",
       "      <td>NaN</td>\n",
       "      <td>...</td>\n",
       "      <td>NaN</td>\n",
       "      <td>NaN</td>\n",
       "      <td>NaN</td>\n",
       "      <td>NaN</td>\n",
       "      <td>NaN</td>\n",
       "      <td>0.0</td>\n",
       "      <td>0.0</td>\n",
       "    </tr>\n",
       "    <tr>\n",
       "      <th>2</th>\n",
       "      <td>NaN</td>\n",
       "      <td>NaN</td>\n",
       "      <td>0.0</td>\n",
       "      <td>0.0</td>\n",
       "      <td>NaN</td>\n",
       "      <td>NaN</td>\n",
       "      <td>NaN</td>\n",
       "      <td>...</td>\n",
       "      <td>NaN</td>\n",
       "      <td>NaN</td>\n",
       "      <td>NaN</td>\n",
       "      <td>NaN</td>\n",
       "      <td>NaN</td>\n",
       "      <td>0.0</td>\n",
       "      <td>0.0</td>\n",
       "    </tr>\n",
       "    <tr>\n",
       "      <th>3</th>\n",
       "      <td>49.812426</td>\n",
       "      <td>160.224186</td>\n",
       "      <td>0.0</td>\n",
       "      <td>0.0</td>\n",
       "      <td>NaN</td>\n",
       "      <td>NaN</td>\n",
       "      <td>NaN</td>\n",
       "      <td>...</td>\n",
       "      <td>NaN</td>\n",
       "      <td>NaN</td>\n",
       "      <td>NaN</td>\n",
       "      <td>NaN</td>\n",
       "      <td>NaN</td>\n",
       "      <td>0.0</td>\n",
       "      <td>0.0</td>\n",
       "    </tr>\n",
       "    <tr>\n",
       "      <th>4</th>\n",
       "      <td>62.270030</td>\n",
       "      <td>191.703227</td>\n",
       "      <td>1.0</td>\n",
       "      <td>0.0</td>\n",
       "      <td>0.0</td>\n",
       "      <td>0.0</td>\n",
       "      <td>0.0</td>\n",
       "      <td>...</td>\n",
       "      <td>2.0</td>\n",
       "      <td>3.0</td>\n",
       "      <td>5.0</td>\n",
       "      <td>0.0</td>\n",
       "      <td>0.0</td>\n",
       "      <td>1.0</td>\n",
       "      <td>1.0</td>\n",
       "    </tr>\n",
       "  </tbody>\n",
       "</table>\n",
       "<p>5 rows × 58 columns</p>\n",
       "</div>"
      ],
      "text/plain": [
       "   weight_16   height_16  comp_noint_bed_16  comp_int_bed_16  talk_phon_wend  \\\n",
       "0  59.294132  181.602831  0.0                0.0              1.0              \n",
       "1 NaN        NaN          0.0                0.0             NaN               \n",
       "2 NaN        NaN          0.0                0.0             NaN               \n",
       "3  49.812426  160.224186  0.0                0.0             NaN               \n",
       "4  62.270030  191.703227  1.0                0.0              0.0              \n",
       "\n",
       "   text_wend  talk_mob_wend  ...  work  comp   tv  talk_mob  talk_phon  \\\n",
       "0  1.0        1.0            ...  4.0   4.0   4.0  2.0       1.0         \n",
       "1 NaN        NaN             ... NaN   NaN   NaN  NaN       NaN          \n",
       "2 NaN        NaN             ... NaN   NaN   NaN  NaN       NaN          \n",
       "3 NaN        NaN             ... NaN   NaN   NaN  NaN       NaN          \n",
       "4  0.0        0.0            ...  2.0   3.0   5.0  0.0       0.0         \n",
       "\n",
       "   comp_bed_16  comp_house_at_all  \n",
       "0  0.0          1.0                \n",
       "1  0.0          0.0                \n",
       "2  0.0          0.0                \n",
       "3  0.0          0.0                \n",
       "4  1.0          1.0                \n",
       "\n",
       "[5 rows x 58 columns]"
      ]
     },
     "execution_count": 280,
     "metadata": {},
     "output_type": "execute_result"
    }
   ],
   "source": [
    "data.head()"
   ]
  },
  {
   "cell_type": "code",
   "execution_count": 300,
   "metadata": {},
   "outputs": [
    {
     "data": {
      "image/png": "[encoded data removed]",
      "text/plain": [
       "<Figure size 432x288 with 2 Axes>"
      ]
     },
     "metadata": {},
     "output_type": "display_data"
    },
    {
     "data": {
      "image/png": "[encoded data removed]",
      "text/plain": [
       "<Figure size 360x360 with 4 Axes>"
      ]
     },
     "metadata": {},
     "output_type": "display_data"
    }
   ],
   "source": [
    "sns.set_theme()\n",
    "sns.histplot(data.comp_noint_bed_16)\n",
    "#g = sns.PairGrid(data, vars = ['height_16','weight_16', 'dep_score'], hue = 'out_sum')\n",
    "#graph = g.map(sns.scatterplot)\n",
    "data.corr()\n",
    "df = pd.DataFrame(data, columns = ['comp_week', 'comp', 'dep_score', 'dep_thoughts', 'child_bull'])\n",
    "sns.heatmap(df.corr(), annot=True)\n",
    "plt.show()\n",
    "g = sns.PairGrid(data, vars = ['comp', 'dep_score'], hue = )\n",
    "graph = g.map(sns.scatterplot)\n"
   ]
  },
  {
   "cell_type": "code",
   "execution_count": null,
   "metadata": {},
   "outputs": [],
   "source": [
    "mean = np.mean(data.comp_week)\n",
    "print(\"mean:\", mean)\n",
    "mode = stats.mode(data.comp_week)\n",
    "print(\"mode:\", mode)\n",
    "median = np.median(data.comp_week)\n",
    "print(\"median:\", median)"
   ]
  },
  {
   "cell_type": "markdown",
   "metadata": {},
   "source": [
    "## Karolina's stuff:\n",
    "+ type screening \n",
    "+ outliers\n",
    "+ black swans \n",
    "+ worst cases\n",
    "+ imbalanced samples "
   ]
  },
  {
   "cell_type": "markdown",
   "metadata": {},
   "source": [
    "Outliers: https://www.analyticsvidhya.com/blog/2021/05/detecting-and-treating-outliers-treating-the-odd-one-out/\n",
    "https://statisticsbyjim.com/basics/remove-outliers/\n",
    "https://cxl.com/blog/outliers/\n",
    "\n",
    "\n",
    "A black swan is an unpredictable event that is beyond what is normally expected of a situation and has potentially severe consequences. Black swan events are characterized by their extreme rarity, severe impact, and the widespread insistence they were obvious in hindsight."
   ]
  },
  {
   "cell_type": "markdown",
   "metadata": {},
   "source": [
    "Imbalanced datasets: https://datascience.foundation/sciencewhitepaper/understanding-imbalanced-datasets-and-techniques-for-handling-them\n",
    "https://www.analyticsvidhya.com/blog/2021/06/5-techniques-to-handle-imbalanced-data-for-a-classification-problem/\n",
    "https://www.kdnuggets.com/2020/01/5-most-useful-techniques-handle-imbalanced-datasets.html\n",
    "https://towardsdatascience.com/handling-imbalanced-datasets-in-machine-learning-7a0e84220f28"
   ]
  },
  {
   "cell_type": "markdown",
   "metadata": {},
   "source": [
    "Worst case analysis: https://proceedings.neurips.cc/paper/2020/hash/d34a281acc62c6bec66425f0ad6dd645-Abstract.html\n",
    "Not sure if we need it at all, probably not"
   ]
  },
  {
   "cell_type": "markdown",
   "metadata": {},
   "source": [
    "### Outliers"
   ]
  },
  {
   "cell_type": "code",
   "execution_count": null,
   "metadata": {},
   "outputs": [],
   "source": [
    "data.head()"
   ]
  },
  {
   "cell_type": "code",
   "execution_count": null,
   "metadata": {},
   "outputs": [],
   "source": [
    "\n",
    "\n",
    "#data.to_csv(\"newdata2.csv\")\n",
    "\n"
   ]
  },
  {
   "cell_type": "code",
   "execution_count": null,
   "metadata": {},
   "outputs": [],
   "source": []
  }
 ],
 "metadata": {
  "kernelspec": {
   "display_name": "Python 3",
   "language": "python",
   "name": "python3"
  },
  "language_info": {
   "codemirror_mode": {
    "name": "ipython",
    "version": 3
   },
   "file_extension": ".py",
   "mimetype": "text/x-python",
   "name": "python",
   "nbconvert_exporter": "python",
   "pygments_lexer": "ipython3",
   "version": "3.8.5"
  }
 },
 "nbformat": 4,
 "nbformat_minor": 4
}
