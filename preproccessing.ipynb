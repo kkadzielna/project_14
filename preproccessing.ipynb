{
 "cells": [
  {
   "cell_type": "code",
   "execution_count": 59,
   "metadata": {},
   "outputs": [],
   "source": [
    "import pandas as pd\n",
    "import numpy as np\n",
    "import matplotlib.pyplot as plt\n",
    "from scipy import stats\n",
    "import seaborn as sns\n",
    "import missingno as msno\n",
    "from collections import Counter"
   ]
  },
  {
   "cell_type": "markdown",
   "metadata": {},
   "source": [
    "# Pre-proccessing"
   ]
  },
  {
   "cell_type": "markdown",
   "metadata": {},
   "source": [
    "## Raw data:"
   ]
  },
  {
   "cell_type": "code",
   "execution_count": 60,
   "metadata": {
    "scrolled": false
   },
   "outputs": [
    {
     "data": {
      "text/html": [
       "<div>\n",
       "<style scoped>\n",
       "    .dataframe tbody tr th:only-of-type {\n",
       "        vertical-align: middle;\n",
       "    }\n",
       "\n",
       "    .dataframe tbody tr th {\n",
       "        vertical-align: top;\n",
       "    }\n",
       "\n",
       "    .dataframe thead th {\n",
       "        text-align: right;\n",
       "    }\n",
       "</style>\n",
       "<table border=\"1\" class=\"dataframe\">\n",
       "  <thead>\n",
       "    <tr style=\"text-align: right;\">\n",
       "      <th></th>\n",
       "      <th>Unnamed: 0</th>\n",
       "      <th>X</th>\n",
       "      <th>flag</th>\n",
       "      <th>comp_bed_9</th>\n",
       "      <th>mat_dep</th>\n",
       "      <th>mat_age</th>\n",
       "      <th>weight_16</th>\n",
       "      <th>height_16</th>\n",
       "      <th>iq</th>\n",
       "      <th>comp_noint_bed_16</th>\n",
       "      <th>...</th>\n",
       "      <th>dep_score</th>\n",
       "      <th>comp_house</th>\n",
       "      <th>tv_bed_16</th>\n",
       "      <th>creat_14</th>\n",
       "      <th>comp_games</th>\n",
       "      <th>fam_tv_eve</th>\n",
       "      <th>fam_tv_aft</th>\n",
       "      <th>fam_tv_mor</th>\n",
       "      <th>sex</th>\n",
       "      <th>birth_order</th>\n",
       "    </tr>\n",
       "  </thead>\n",
       "  <tbody>\n",
       "    <tr>\n",
       "      <th>0</th>\n",
       "      <td>1</td>\n",
       "      <td>1</td>\n",
       "      <td>synthetic</td>\n",
       "      <td>NaN</td>\n",
       "      <td>3.0</td>\n",
       "      <td>30</td>\n",
       "      <td>59.294132</td>\n",
       "      <td>181.602831</td>\n",
       "      <td>107.0</td>\n",
       "      <td>NaN</td>\n",
       "      <td>...</td>\n",
       "      <td>0.0</td>\n",
       "      <td>Yes</td>\n",
       "      <td>Yes</td>\n",
       "      <td>often</td>\n",
       "      <td>No</td>\n",
       "      <td>Yes, Some Days</td>\n",
       "      <td>Other</td>\n",
       "      <td>Yes, Every Day</td>\n",
       "      <td>Female</td>\n",
       "      <td>A</td>\n",
       "    </tr>\n",
       "    <tr>\n",
       "      <th>1</th>\n",
       "      <td>2</td>\n",
       "      <td>2</td>\n",
       "      <td>synthetic</td>\n",
       "      <td>NaN</td>\n",
       "      <td>9.0</td>\n",
       "      <td>26</td>\n",
       "      <td>NaN</td>\n",
       "      <td>NaN</td>\n",
       "      <td>85.0</td>\n",
       "      <td>NaN</td>\n",
       "      <td>...</td>\n",
       "      <td>NaN</td>\n",
       "      <td>NaN</td>\n",
       "      <td>NaN</td>\n",
       "      <td>NaN</td>\n",
       "      <td>NaN</td>\n",
       "      <td>NaN</td>\n",
       "      <td>NaN</td>\n",
       "      <td>NaN</td>\n",
       "      <td>Female</td>\n",
       "      <td>B</td>\n",
       "    </tr>\n",
       "    <tr>\n",
       "      <th>2</th>\n",
       "      <td>3</td>\n",
       "      <td>3</td>\n",
       "      <td>synthetic</td>\n",
       "      <td>NaN</td>\n",
       "      <td>3.0</td>\n",
       "      <td>24</td>\n",
       "      <td>NaN</td>\n",
       "      <td>NaN</td>\n",
       "      <td>NaN</td>\n",
       "      <td>NaN</td>\n",
       "      <td>...</td>\n",
       "      <td>NaN</td>\n",
       "      <td>NaN</td>\n",
       "      <td>NaN</td>\n",
       "      <td>NaN</td>\n",
       "      <td>NaN</td>\n",
       "      <td>Yes, Some Days</td>\n",
       "      <td>Yes, Every Day</td>\n",
       "      <td>Other</td>\n",
       "      <td>Male</td>\n",
       "      <td>A</td>\n",
       "    </tr>\n",
       "    <tr>\n",
       "      <th>3</th>\n",
       "      <td>4</td>\n",
       "      <td>4</td>\n",
       "      <td>synthetic</td>\n",
       "      <td>No</td>\n",
       "      <td>NaN</td>\n",
       "      <td>22</td>\n",
       "      <td>49.812426</td>\n",
       "      <td>160.224186</td>\n",
       "      <td>NaN</td>\n",
       "      <td>NaN</td>\n",
       "      <td>...</td>\n",
       "      <td>NaN</td>\n",
       "      <td>NaN</td>\n",
       "      <td>NaN</td>\n",
       "      <td>NaN</td>\n",
       "      <td>No</td>\n",
       "      <td>NaN</td>\n",
       "      <td>NaN</td>\n",
       "      <td>NaN</td>\n",
       "      <td>Male</td>\n",
       "      <td>A</td>\n",
       "    </tr>\n",
       "    <tr>\n",
       "      <th>4</th>\n",
       "      <td>5</td>\n",
       "      <td>5</td>\n",
       "      <td>synthetic</td>\n",
       "      <td>No</td>\n",
       "      <td>8.0</td>\n",
       "      <td>31</td>\n",
       "      <td>62.270030</td>\n",
       "      <td>191.703227</td>\n",
       "      <td>132.0</td>\n",
       "      <td>Yes</td>\n",
       "      <td>...</td>\n",
       "      <td>NaN</td>\n",
       "      <td>NaN</td>\n",
       "      <td>NaN</td>\n",
       "      <td>often</td>\n",
       "      <td>No</td>\n",
       "      <td>Yes, Some Days</td>\n",
       "      <td>Yes, Every Day</td>\n",
       "      <td>Yes, Every Day</td>\n",
       "      <td>Female</td>\n",
       "      <td>A</td>\n",
       "    </tr>\n",
       "  </tbody>\n",
       "</table>\n",
       "<p>5 rows × 85 columns</p>\n",
       "</div>"
      ],
      "text/plain": [
       "   Unnamed: 0  X       flag comp_bed_9  mat_dep mat_age  weight_16  \\\n",
       "0           1  1  synthetic        NaN      3.0      30  59.294132   \n",
       "1           2  2  synthetic        NaN      9.0      26        NaN   \n",
       "2           3  3  synthetic        NaN      3.0      24        NaN   \n",
       "3           4  4  synthetic         No      NaN      22  49.812426   \n",
       "4           5  5  synthetic         No      8.0      31  62.270030   \n",
       "\n",
       "    height_16     iq comp_noint_bed_16  ... dep_score comp_house tv_bed_16  \\\n",
       "0  181.602831  107.0               NaN  ...       0.0        Yes       Yes   \n",
       "1         NaN   85.0               NaN  ...       NaN        NaN       NaN   \n",
       "2         NaN    NaN               NaN  ...       NaN        NaN       NaN   \n",
       "3  160.224186    NaN               NaN  ...       NaN        NaN       NaN   \n",
       "4  191.703227  132.0               Yes  ...       NaN        NaN       NaN   \n",
       "\n",
       "  creat_14 comp_games      fam_tv_eve      fam_tv_aft      fam_tv_mor     sex  \\\n",
       "0    often         No  Yes, Some Days           Other  Yes, Every Day  Female   \n",
       "1      NaN        NaN             NaN             NaN             NaN  Female   \n",
       "2      NaN        NaN  Yes, Some Days  Yes, Every Day           Other    Male   \n",
       "3      NaN         No             NaN             NaN             NaN    Male   \n",
       "4    often         No  Yes, Some Days  Yes, Every Day  Yes, Every Day  Female   \n",
       "\n",
       "  birth_order  \n",
       "0           A  \n",
       "1           B  \n",
       "2           A  \n",
       "3           A  \n",
       "4           A  \n",
       "\n",
       "[5 rows x 85 columns]"
      ]
     },
     "execution_count": 60,
     "metadata": {},
     "output_type": "execute_result"
    }
   ],
   "source": [
    "data = pd.read_csv(\"./dataset/maps-synthetic-data-v1.1.csv\", engine='python')\n",
    "data.head()\n",
    "#data.info()"
   ]
  },
  {
   "cell_type": "code",
   "execution_count": 61,
   "metadata": {},
   "outputs": [
    {
     "data": {
      "text/html": [
       "<div>\n",
       "<style scoped>\n",
       "    .dataframe tbody tr th:only-of-type {\n",
       "        vertical-align: middle;\n",
       "    }\n",
       "\n",
       "    .dataframe tbody tr th {\n",
       "        vertical-align: top;\n",
       "    }\n",
       "\n",
       "    .dataframe thead th {\n",
       "        text-align: right;\n",
       "    }\n",
       "</style>\n",
       "<table border=\"1\" class=\"dataframe\">\n",
       "  <thead>\n",
       "    <tr style=\"text-align: right;\">\n",
       "      <th></th>\n",
       "      <th>Variable Name</th>\n",
       "      <th>Variable ALSPAC Name</th>\n",
       "      <th>Variable Description</th>\n",
       "      <th>Variable Type</th>\n",
       "      <th>Administered to</th>\n",
       "      <th>Age of child at administration</th>\n",
       "      <th>ALSPAC Measure</th>\n",
       "      <th>ALSPAC Responses</th>\n",
       "      <th>Processing Details</th>\n",
       "      <th>Reference Document</th>\n",
       "    </tr>\n",
       "  </thead>\n",
       "  <tbody>\n",
       "    <tr>\n",
       "      <th>0</th>\n",
       "      <td>agg_score</td>\n",
       "      <td>f596</td>\n",
       "      <td>Aggression score of partnership</td>\n",
       "      <td>Discrete</td>\n",
       "      <td>Mother</td>\n",
       "      <td>Aged 8 months</td>\n",
       "      <td>Derived by ALSPAC. See Processing Details</td>\n",
       "      <td>NaN</td>\n",
       "      <td>Aggression score was determined by three quest...</td>\n",
       "      <td>NaN</td>\n",
       "    </tr>\n",
       "    <tr>\n",
       "      <th>1</th>\n",
       "      <td>alon_week</td>\n",
       "      <td>ccs1006</td>\n",
       "      <td>Average time child spent per day doing things ...</td>\n",
       "      <td>Ordinal</td>\n",
       "      <td>Child</td>\n",
       "      <td>Aged 198 months</td>\n",
       "      <td>\"How much time on average do you spend each da...</td>\n",
       "      <td>Not at all</td>\n",
       "      <td>The category \"Not at all\" was collapsed into t...</td>\n",
       "      <td>NaN</td>\n",
       "    </tr>\n",
       "    <tr>\n",
       "      <th>2</th>\n",
       "      <td>NaN</td>\n",
       "      <td>NaN</td>\n",
       "      <td>NaN</td>\n",
       "      <td>NaN</td>\n",
       "      <td>NaN</td>\n",
       "      <td>NaN</td>\n",
       "      <td>NaN</td>\n",
       "      <td>Less than 1 hour</td>\n",
       "      <td>NaN</td>\n",
       "      <td>NaN</td>\n",
       "    </tr>\n",
       "    <tr>\n",
       "      <th>3</th>\n",
       "      <td></td>\n",
       "      <td></td>\n",
       "      <td>NaN</td>\n",
       "      <td>NaN</td>\n",
       "      <td>NaN</td>\n",
       "      <td>NaN</td>\n",
       "      <td>NaN</td>\n",
       "      <td>1-2 hours</td>\n",
       "      <td>NaN</td>\n",
       "      <td>NaN</td>\n",
       "    </tr>\n",
       "    <tr>\n",
       "      <th>4</th>\n",
       "      <td></td>\n",
       "      <td></td>\n",
       "      <td>NaN</td>\n",
       "      <td>NaN</td>\n",
       "      <td>NaN</td>\n",
       "      <td>NaN</td>\n",
       "      <td>NaN</td>\n",
       "      <td>3 or more hours</td>\n",
       "      <td>NaN</td>\n",
       "      <td>NaN</td>\n",
       "    </tr>\n",
       "  </tbody>\n",
       "</table>\n",
       "</div>"
      ],
      "text/plain": [
       "  Variable Name Variable ALSPAC Name  \\\n",
       "0     agg_score                 f596   \n",
       "1     alon_week              ccs1006   \n",
       "2           NaN                  NaN   \n",
       "3                                      \n",
       "4                                      \n",
       "\n",
       "                                Variable Description Variable Type  \\\n",
       "0                    Aggression score of partnership      Discrete   \n",
       "1  Average time child spent per day doing things ...       Ordinal   \n",
       "2                                                NaN           NaN   \n",
       "3                                                NaN           NaN   \n",
       "4                                                NaN           NaN   \n",
       "\n",
       "  Administered to Age of child at administration  \\\n",
       "0          Mother                  Aged 8 months   \n",
       "1           Child                Aged 198 months   \n",
       "2             NaN                            NaN   \n",
       "3             NaN                            NaN   \n",
       "4             NaN                            NaN   \n",
       "\n",
       "                                      ALSPAC Measure  ALSPAC Responses  \\\n",
       "0          Derived by ALSPAC. See Processing Details               NaN   \n",
       "1  \"How much time on average do you spend each da...        Not at all   \n",
       "2                                                NaN  Less than 1 hour   \n",
       "3                                                NaN         1-2 hours   \n",
       "4                                                NaN   3 or more hours   \n",
       "\n",
       "                                  Processing Details Reference Document  \n",
       "0  Aggression score was determined by three quest...                NaN  \n",
       "1  The category \"Not at all\" was collapsed into t...                NaN  \n",
       "2                                                NaN                NaN  \n",
       "3                                                NaN                NaN  \n",
       "4                                                NaN                NaN  "
      ]
     },
     "execution_count": 61,
     "metadata": {},
     "output_type": "execute_result"
    }
   ],
   "source": [
    "dictionary = pd.read_csv(\"./dataset/synthetic_data_dictionary.csv\", engine='python')\n",
    "dictionary.head()"
   ]
  },
  {
   "cell_type": "markdown",
   "metadata": {},
   "source": [
    "Variables have different Age Of Child At Administration parameters. We don't need the variables with this parameter not equal to 16 (for variables related to screen time) and 18 (for variables related to a depression or anxiety diagnosis)."
   ]
  },
  {
   "cell_type": "markdown",
   "metadata": {},
   "source": [
    "## only the columns at 16 and 18:"
   ]
  },
  {
   "cell_type": "markdown",
   "metadata": {},
   "source": [
    "All vars at 16 are separated into weekend and weekdays. Might be worth summing it up into total per week."
   ]
  },
  {
   "cell_type": "code",
   "execution_count": 62,
   "metadata": {},
   "outputs": [
    {
     "name": "stderr",
     "output_type": "stream",
     "text": [
      "C:\\Users\\moham\\AppData\\Local\\Temp/ipykernel_28652/655318495.py:5: FutureWarning: The series.append method is deprecated and will be removed from pandas in a future version. Use pandas.concat instead.\n",
      "  columns_to_keep_names = list(rows['Variable Name'].append(rows2['Variable Name']).append(rows3['Variable Name']))\n",
      "C:\\Users\\moham\\AppData\\Local\\Temp/ipykernel_28652/655318495.py:5: FutureWarning: The series.append method is deprecated and will be removed from pandas in a future version. Use pandas.concat instead.\n",
      "  columns_to_keep_names = list(rows['Variable Name'].append(rows2['Variable Name']).append(rows3['Variable Name']))\n"
     ]
    }
   ],
   "source": [
    "rows = dictionary[(dictionary[\"Age of child at administration\"] == \"Aged 198 months\")]\n",
    "rows2 = dictionary[(dictionary[\"Age of child at administration\"] == \"Aged around 17.5 years\")]\n",
    "rows3 = dictionary[(dictionary[\"Age of child at administration\"] == \"Aged around 15.5 years\")]\n",
    "\n",
    "columns_to_keep_names = list(rows['Variable Name'].append(rows2['Variable Name']).append(rows3['Variable Name']))\n",
    "columns_to_keep_names.append('iq')\n",
    "#print(columns_to_keep_names, len(columns_to_keep_names))"
   ]
  },
  {
   "cell_type": "markdown",
   "metadata": {},
   "source": [
    "## Changing the data types:\n",
    "Changing the categories to numbers and yes/no answers to 0/1"
   ]
  },
  {
   "cell_type": "code",
   "execution_count": 63,
   "metadata": {},
   "outputs": [],
   "source": [
    "for i in ['comp_bed_9', 'pat_pres_10', 'pat_pres_8', 'pat_pres', 'mat_anx_1', 'mat_anx_18m', 'mat_anx_8m', 'emot_cruel',\n",
    "          'phys_cruel', 'mat_anx_0m', 'child_bull', 'musi_13', 'tv_bed_9', 'own_mob', 'comp_games']:\n",
    "    data[i] = data[i].replace(['Yes'], 1)\n",
    "    data[i] = data[i].replace(['No'], 0)\n",
    "    \n",
    "for i in ['comp_noint_bed_16', 'comp_int_bed_16', 'comp_house', 'tv_bed_16']:\n",
    "    data[i] = data[i].replace(['Yes'], 1)\n",
    "    data[i] = data[i].fillna(0)\n",
    "    \n",
    "for i in ['talk_phon_wend', 'musi_wend', 'talk_phon_week', 'musi_week']:\n",
    "    data[i] = data[i].replace(['Not at all'], 0)\n",
    "    data[i] = data[i].replace(['Any at all'], 1)\n",
    "\n",
    "for i in ['play_wend', 'out_sum_wend', 'play_week', 'out_sum_week']:\n",
    "    data[i] = data[i].replace(['Less than 3 hours'], 0)\n",
    "    data[i] = data[i].replace(['3 or more hours'], 3)\n",
    "    \n",
    "for i in ['tran_wend', 'tran_week']:\n",
    "    data[i] = data[i].replace(['Less than 1 hour'], 0)\n",
    "    data[i] = data[i].replace(['1 or more hours'], 1)\n"
   ]
  },
  {
   "cell_type": "code",
   "execution_count": 64,
   "metadata": {},
   "outputs": [],
   "source": [
    "for i in ['talk_mob_wend', 'read_wend', 'draw_wend', 'talk_mob_week', 'read_week', 'draw_week']:\n",
    "    data[i] = data[i].replace(['Not at all', 'Less than 1 hour', '1 or more hours'], range(3))\n",
    "    \n",
    "for i in ['work_wend', 'alon_wend', 'out_win_wend', 'work_week', 'alon_week', 'out_win_week']:\n",
    "    data[i] = data[i].replace(['Less than 1 hour', '1-2 hours', '3 or more hours'], [0, 1, 3])\n",
    "    \n",
    "for i in ['phone_14_wend', 'phone_14_week']:\n",
    "    data[i] = data[i].replace(['Not at all', '< 1 hour', '1 or more hours'], range(3))\n",
    "    \n",
    "for i in ['fam_tv_eve', 'fam_tv_aft', 'fam_tv_mor']:\n",
    "    data[i] = data[i].replace(['Other', 'Yes, Some Days', 'Yes, Every Day'], range(3))    "
   ]
  },
  {
   "cell_type": "code",
   "execution_count": 65,
   "metadata": {},
   "outputs": [],
   "source": [
    "for i in ['text_wend', 'comp_wend', 'tv_wend', 'text_week', 'comp_week', 'tv_week']:\n",
    "    data[i] = data[i].replace(['Not at all', 'Less than 1 hour', '1-2 hours', '3 or more hours'], range(4))"
   ]
  },
  {
   "cell_type": "code",
   "execution_count": 66,
   "metadata": {},
   "outputs": [],
   "source": [
    "percentages = ['dep_band_07', 'dep_band_15', 'dep_band_13', 'dep_band_10', 'anx_band_15', 'anx_band_07',\n",
    "               'anx_band_13', 'anx_band_10']\n",
    "for i in percentages:\n",
    "    data[i] = data[i].str.strip('%<>~').astype('float')"
   ]
  },
  {
   "cell_type": "code",
   "execution_count": 67,
   "metadata": {},
   "outputs": [],
   "source": [
    "data['weight_16'].round(decimals = 2)\n",
    "data['height_16'].round(decimals = 2).head()\n",
    "data['has_dep_diag'].replace(['Yes ICD-10 diagnosis of depression', ' No ICD-10 diagnosis of depression'], [1, 0], inplace = True)\n",
    "data['exercise'].replace(['Never','Less than once a month', '1-3 times a month',\n",
    "                         '1-4 times a week', '5 or more times a week'], range(5), inplace = True)"
   ]
  },
  {
   "cell_type": "markdown",
   "metadata": {},
   "source": [
    "## Remove vars at wrong ages"
   ]
  },
  {
   "cell_type": "code",
   "execution_count": 68,
   "metadata": {},
   "outputs": [],
   "source": [
    "data = pd.DataFrame(data)\n",
    "for i in data.columns:\n",
    "    if (i not in columns_to_keep_names):\n",
    "        data.drop(i, inplace = True, axis = 1)"
   ]
  },
  {
   "cell_type": "markdown",
   "metadata": {},
   "source": [
    "## Combining variables\n",
    "Weekend + weekday columns combines into a sum column"
   ]
  },
  {
   "cell_type": "code",
   "execution_count": 69,
   "metadata": {},
   "outputs": [],
   "source": [
    "add1 = ['alon_week','draw_week','musi_week','out_sum_week','out_win_week', 'play_week','read_week','text_week',\n",
    "        'tran_week','work_week','comp_week','tv_week','talk_mob_week','talk_phon_week', 'comp_int_bed_16']\n",
    "add2 = ['alon_wend','draw_wend','musi_wend','out_sum_wend','out_win_wend', 'play_wend','read_wend','text_wend',\n",
    "        'tran_wend','work_wend','comp_wend','tv_wend','talk_mob_wend','talk_phon_wend', 'comp_noint_bed_16']\n",
    "add3 = ['alon','draw','musi','out_sum','out_win', 'play','read','text',\n",
    "        'tran','work','comp','tv','talk_mob','talk_phon', 'comp_bed_16']\n",
    "\n",
    "for i in range(len(add1)):\n",
    "    data[add3[i]] = data[add1[i]] + data[add2[i]]\n",
    "\n",
    "data['comp_house_at_all'] = (data['comp_int_bed_16'] + data['comp_noint_bed_16'] + data['comp_house'])\n",
    "for i in ['talk_phon', 'musi']:\n",
    "    data[i].replace([2], 1, inplace = True)"
   ]
  },
  {
   "cell_type": "markdown",
   "metadata": {},
   "source": [
    "## Checking if combined variables were answered together\n"
   ]
  },
  {
   "cell_type": "code",
   "execution_count": 70,
   "metadata": {},
   "outputs": [],
   "source": [
    "error = []\n",
    "for i in data.index:\n",
    "    for j in range(len(add1)):\n",
    "        if(type(data[add1[j]][i]) != type(data[add2[j]][i])):\n",
    "            if(add1[j] not in error):\n",
    "                error.append(add1[j])\n",
    "\n",
    "for i in error:\n",
    "    print(i , data[i].unique())"
   ]
  },
  {
   "cell_type": "markdown",
   "metadata": {},
   "source": [
    "## Export the pre-proccessed data:"
   ]
  },
  {
   "cell_type": "code",
   "execution_count": 71,
   "metadata": {},
   "outputs": [],
   "source": [
    "data.to_csv(\"newdata2.csv\") # all vars"
   ]
  },
  {
   "cell_type": "code",
   "execution_count": 72,
   "metadata": {},
   "outputs": [],
   "source": [
    "#refined variables\n",
    "remove = np.append(add1, add2)\n",
    "data2 = data.drop(remove, axis = 1)"
   ]
  },
  {
   "cell_type": "code",
   "execution_count": 73,
   "metadata": {},
   "outputs": [],
   "source": [
    "data2.to_csv('newdata3.csv')"
   ]
  },
  {
   "cell_type": "code",
   "execution_count": null,
   "metadata": {},
   "outputs": [],
   "source": []
  }
 ],
 "metadata": {
  "kernelspec": {
   "display_name": "Python 3",
   "language": "python",
   "name": "python3"
  },
  "language_info": {
   "codemirror_mode": {
    "name": "ipython",
    "version": 3
   },
   "file_extension": ".py",
   "mimetype": "text/x-python",
   "name": "python",
   "nbconvert_exporter": "python",
   "pygments_lexer": "ipython3",
   "version": "3.8.5"
  }
 },
 "nbformat": 4,
 "nbformat_minor": 4
}
