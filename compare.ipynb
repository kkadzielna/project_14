{
 "cells": [
  {
   "cell_type": "code",
   "execution_count": null,
   "metadata": {},
   "outputs": [],
   "source": [
    "import pandas as pd\n",
    "import numpy as np\n",
    "import matplotlib.pyplot as plt\n",
    "from scipy import stats\n",
    "import seaborn as sns\n",
    "import missingno as msno\n",
    "from collections import Counter\n",
    "from itertools import chain, combinations\n",
    "import sklearn as sk\n",
    "from sklearn.metrics import accuracy_score, f1_score"
   ]
  },
  {
   "cell_type": "markdown",
   "metadata": {},
   "source": [
    "# Performance comparison"
   ]
  },
  {
   "cell_type": "markdown",
   "metadata": {},
   "source": [
    "In this notebook we compare the performance of multiple models on different subsets of our data.\n",
    "#### The models are:\n",
    "+ Logistic Regression\n",
    "+ SVM\n",
    "+ KNN\n",
    "+ Neural Network\n",
    "+ XGBoost\n",
    "\n",
    "#### The datasets:\n",
    "+ Mean/Mode imputed\n",
    "+ KNN imputed\n",
    "+ MICE imputed\n",
    "+ no imputations\n",
    "\n",
    "#### The targets:\n",
    "+ has_dep_diag\n",
    "+ a binary comination of all the target variables\n",
    "\n",
    "#### In combinations of:\n",
    "+ trained on balanced, tested on balanced\n",
    "+ trained on balanced, tested on imbalanced\n",
    "+ trained on imbalanced, tested on balanced\n",
    "+ trained on imbalanced, tested on imbalanced\n",
    "\n",
    "#### We employ  range of visualisation methods:\n",
    "+ ROC curves\n",
    "+ bar plots\n",
    "+ learning curves"
   ]
  },
  {
   "cell_type": "code",
   "execution_count": null,
   "metadata": {},
   "outputs": [],
   "source": []
  }
 ],
 "metadata": {
  "kernelspec": {
   "display_name": "Python 3",
   "language": "python",
   "name": "python3"
  },
  "language_info": {
   "codemirror_mode": {
    "name": "ipython",
    "version": 3
   },
   "file_extension": ".py",
   "mimetype": "text/x-python",
   "name": "python",
   "nbconvert_exporter": "python",
   "pygments_lexer": "ipython3",
   "version": "3.8.5"
  }
 },
 "nbformat": 4,
 "nbformat_minor": 4
}
