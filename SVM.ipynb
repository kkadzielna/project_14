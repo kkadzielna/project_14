{
 "cells": [
  {
   "cell_type": "code",
   "execution_count": 1,
   "metadata": {},
   "outputs": [],
   "source": [
    "import pandas as pd\n",
    "import numpy as np\n",
    "import matplotlib.pyplot as plt\n",
    "from scipy import stats\n",
    "import seaborn as sns\n",
    "import missingno as msno\n",
    "from collections import Counter\n",
    "from itertools import chain, combinations\n",
    "import sklearn as sk\n",
    "from sklearn.metrics import accuracy_score, f1_score"
   ]
  },
  {
   "cell_type": "markdown",
   "metadata": {},
   "source": [
    "# SVM"
   ]
  },
  {
   "cell_type": "code",
   "execution_count": 2,
   "metadata": {},
   "outputs": [],
   "source": [
    "data0 = pd.read_csv(\"newdata3.csv\", engine='python')\n",
    "data1 = pd.read_csv(\"imputed_dataset_1.csv\", engine='python')\n",
    "data1.head()\n",
    "data2 = pd.read_csv(\"imputed_dataset_2.csv\", engine='python')\n",
    "data2.head()\n",
    "data3 = pd.read_csv(\"imputed_dataset_3.csv\", engine='python')\n",
    "data3.head()\n",
    "data4 = pd.read_csv(\"imputed_dataset_4.csv\", engine='python')\n",
    "data4.head()\n",
    "data5 = pd.read_csv(\"imputed_dataset_5.csv\", engine='python').drop(['Unnamed: 0'], axis = 1)"
   ]
  },
  {
   "cell_type": "code",
   "execution_count": 3,
   "metadata": {},
   "outputs": [
    {
     "data": {
      "text/html": [
       "<div>\n",
       "<style scoped>\n",
       "    .dataframe tbody tr th:only-of-type {\n",
       "        vertical-align: middle;\n",
       "    }\n",
       "\n",
       "    .dataframe tbody tr th {\n",
       "        vertical-align: top;\n",
       "    }\n",
       "\n",
       "    .dataframe thead th {\n",
       "        text-align: right;\n",
       "    }\n",
       "</style>\n",
       "<table border=\"1\" class=\"dataframe\">\n",
       "  <thead>\n",
       "    <tr style=\"text-align: right;\">\n",
       "      <th></th>\n",
       "      <th>weight_16</th>\n",
       "      <th>height_16</th>\n",
       "      <th>comp_noint_bed_16</th>\n",
       "      <th>comp_int_bed_16</th>\n",
       "      <th>talk_phon_wend</th>\n",
       "      <th>text_wend</th>\n",
       "      <th>talk_mob_wend</th>\n",
       "      <th>comp_wend</th>\n",
       "      <th>musi_wend</th>\n",
       "      <th>read_wend</th>\n",
       "      <th>...</th>\n",
       "      <th>anx_band_15</th>\n",
       "      <th>exercise</th>\n",
       "      <th>child_bull</th>\n",
       "      <th>has_dep_diag</th>\n",
       "      <th>secd_diag</th>\n",
       "      <th>prim_diag</th>\n",
       "      <th>panic_score</th>\n",
       "      <th>dep_thoughts</th>\n",
       "      <th>dep_score</th>\n",
       "      <th>comp_house</th>\n",
       "    </tr>\n",
       "  </thead>\n",
       "  <tbody>\n",
       "    <tr>\n",
       "      <th>0</th>\n",
       "      <td>59.294132</td>\n",
       "      <td>181.602831</td>\n",
       "      <td>0.0</td>\n",
       "      <td>0.0</td>\n",
       "      <td>1.0</td>\n",
       "      <td>1.0</td>\n",
       "      <td>1.0</td>\n",
       "      <td>2.0</td>\n",
       "      <td>0.0</td>\n",
       "      <td>1.0</td>\n",
       "      <td>...</td>\n",
       "      <td>0.5</td>\n",
       "      <td>4.0</td>\n",
       "      <td>0.0</td>\n",
       "      <td>0.0</td>\n",
       "      <td>0.0</td>\n",
       "      <td>0.0</td>\n",
       "      <td>0.0</td>\n",
       "      <td>1.0</td>\n",
       "      <td>0.0</td>\n",
       "      <td>1.0</td>\n",
       "    </tr>\n",
       "    <tr>\n",
       "      <th>1</th>\n",
       "      <td>62.290242</td>\n",
       "      <td>168.453878</td>\n",
       "      <td>0.0</td>\n",
       "      <td>0.0</td>\n",
       "      <td>1.0</td>\n",
       "      <td>1.0</td>\n",
       "      <td>1.0</td>\n",
       "      <td>2.0</td>\n",
       "      <td>0.0</td>\n",
       "      <td>1.0</td>\n",
       "      <td>...</td>\n",
       "      <td>3.0</td>\n",
       "      <td>3.0</td>\n",
       "      <td>0.0</td>\n",
       "      <td>0.0</td>\n",
       "      <td>1.0</td>\n",
       "      <td>1.0</td>\n",
       "      <td>0.0</td>\n",
       "      <td>3.0</td>\n",
       "      <td>1.0</td>\n",
       "      <td>0.0</td>\n",
       "    </tr>\n",
       "    <tr>\n",
       "      <th>2</th>\n",
       "      <td>62.290242</td>\n",
       "      <td>168.453878</td>\n",
       "      <td>0.0</td>\n",
       "      <td>0.0</td>\n",
       "      <td>1.0</td>\n",
       "      <td>1.0</td>\n",
       "      <td>1.0</td>\n",
       "      <td>2.0</td>\n",
       "      <td>0.0</td>\n",
       "      <td>1.0</td>\n",
       "      <td>...</td>\n",
       "      <td>3.0</td>\n",
       "      <td>3.0</td>\n",
       "      <td>0.0</td>\n",
       "      <td>0.0</td>\n",
       "      <td>1.0</td>\n",
       "      <td>1.0</td>\n",
       "      <td>0.0</td>\n",
       "      <td>3.0</td>\n",
       "      <td>1.0</td>\n",
       "      <td>0.0</td>\n",
       "    </tr>\n",
       "    <tr>\n",
       "      <th>3</th>\n",
       "      <td>49.812426</td>\n",
       "      <td>160.224186</td>\n",
       "      <td>0.0</td>\n",
       "      <td>0.0</td>\n",
       "      <td>1.0</td>\n",
       "      <td>2.0</td>\n",
       "      <td>1.0</td>\n",
       "      <td>2.0</td>\n",
       "      <td>0.0</td>\n",
       "      <td>1.0</td>\n",
       "      <td>...</td>\n",
       "      <td>3.0</td>\n",
       "      <td>3.0</td>\n",
       "      <td>0.0</td>\n",
       "      <td>0.0</td>\n",
       "      <td>0.0</td>\n",
       "      <td>1.0</td>\n",
       "      <td>0.0</td>\n",
       "      <td>2.0</td>\n",
       "      <td>0.0</td>\n",
       "      <td>0.0</td>\n",
       "    </tr>\n",
       "    <tr>\n",
       "      <th>4</th>\n",
       "      <td>62.270030</td>\n",
       "      <td>191.703227</td>\n",
       "      <td>1.0</td>\n",
       "      <td>0.0</td>\n",
       "      <td>0.0</td>\n",
       "      <td>0.0</td>\n",
       "      <td>0.0</td>\n",
       "      <td>1.0</td>\n",
       "      <td>0.0</td>\n",
       "      <td>2.0</td>\n",
       "      <td>...</td>\n",
       "      <td>3.0</td>\n",
       "      <td>3.0</td>\n",
       "      <td>0.0</td>\n",
       "      <td>0.0</td>\n",
       "      <td>1.0</td>\n",
       "      <td>1.0</td>\n",
       "      <td>0.0</td>\n",
       "      <td>3.0</td>\n",
       "      <td>0.0</td>\n",
       "      <td>0.0</td>\n",
       "    </tr>\n",
       "  </tbody>\n",
       "</table>\n",
       "<p>5 rows × 42 columns</p>\n",
       "</div>"
      ],
      "text/plain": [
       "   weight_16   height_16  comp_noint_bed_16  comp_int_bed_16  talk_phon_wend  \\\n",
       "0  59.294132  181.602831                0.0              0.0             1.0   \n",
       "1  62.290242  168.453878                0.0              0.0             1.0   \n",
       "2  62.290242  168.453878                0.0              0.0             1.0   \n",
       "3  49.812426  160.224186                0.0              0.0             1.0   \n",
       "4  62.270030  191.703227                1.0              0.0             0.0   \n",
       "\n",
       "   text_wend  talk_mob_wend  comp_wend  musi_wend  read_wend  ...  \\\n",
       "0        1.0            1.0        2.0        0.0        1.0  ...   \n",
       "1        1.0            1.0        2.0        0.0        1.0  ...   \n",
       "2        1.0            1.0        2.0        0.0        1.0  ...   \n",
       "3        2.0            1.0        2.0        0.0        1.0  ...   \n",
       "4        0.0            0.0        1.0        0.0        2.0  ...   \n",
       "\n",
       "   anx_band_15  exercise  child_bull  has_dep_diag  secd_diag  prim_diag  \\\n",
       "0          0.5       4.0         0.0           0.0        0.0        0.0   \n",
       "1          3.0       3.0         0.0           0.0        1.0        1.0   \n",
       "2          3.0       3.0         0.0           0.0        1.0        1.0   \n",
       "3          3.0       3.0         0.0           0.0        0.0        1.0   \n",
       "4          3.0       3.0         0.0           0.0        1.0        1.0   \n",
       "\n",
       "   panic_score  dep_thoughts  dep_score  comp_house  \n",
       "0          0.0           1.0        0.0         1.0  \n",
       "1          0.0           3.0        1.0         0.0  \n",
       "2          0.0           3.0        1.0         0.0  \n",
       "3          0.0           2.0        0.0         0.0  \n",
       "4          0.0           3.0        0.0         0.0  \n",
       "\n",
       "[5 rows x 42 columns]"
      ]
     },
     "execution_count": 3,
     "metadata": {},
     "output_type": "execute_result"
    }
   ],
   "source": [
    "data5.head()"
   ]
  },
  {
   "cell_type": "markdown",
   "metadata": {},
   "source": [
    "1. Train an SVM (with a specific Kernel), plot the training and validation learning curves. You may need to subsample the dataset if SVM training is taking too long. Do you see any signs of overfitting? Interpret and discuss your results. (1 mark)\n",
    "2. What are your results in the testing dataset? Interpret and discuss your results. (2 marks)\n",
    "3. How sensitive is this method to different hyperparameters? For example the different types of kernel (e.g. linear, RBF, etc.). Make use of plots (e.g. performance on test dataset as a function of different hyperparameters) to help you discuss this point. (5 marks)\n",
    "4. Plot decision boundaries and discuss their relevance. (2 marks)"
   ]
  },
  {
   "cell_type": "markdown",
   "metadata": {},
   "source": [
    "## Prepare the data:"
   ]
  },
  {
   "cell_type": "markdown",
   "metadata": {},
   "source": [
    "Separate target from data."
   ]
  },
  {
   "cell_type": "code",
   "execution_count": 4,
   "metadata": {},
   "outputs": [
    {
     "name": "stdout",
     "output_type": "stream",
     "text": [
      "(13734, 36)\n",
      "(13734, 5)\n"
     ]
    }
   ],
   "source": [
    "X = data5.drop(['has_dep_diag'],axis=1).drop(['secd_diag'],axis=1).drop(['prim_diag'],axis=1).drop(['dep_score'],axis=1).drop(['dep_thoughts'],axis=1).drop(['panic_score'], axis=1)\n",
    "print(X.shape)\n",
    "Y = np.column_stack((data5['has_dep_diag'], data5['secd_diag'], data5['prim_diag'], data5['dep_score'], data5['dep_thoughts']))\n",
    "print(Y.shape)"
   ]
  },
  {
   "cell_type": "markdown",
   "metadata": {},
   "source": [
    "Randomly shuffle the dataset."
   ]
  },
  {
   "cell_type": "code",
   "execution_count": 5,
   "metadata": {},
   "outputs": [],
   "source": [
    "from random import shuffle\n",
    "\n",
    "def shuffle_dataset(N, X, y, X_shuffled, y_shuffled):\n",
    "    ind_list = [i for i in range(N)]\n",
    "    shuffle(ind_list)\n",
    "    X_shuffled  = X.iloc[ind_list]\n",
    "    y_shuffled = y.iloc[ind_list]"
   ]
  },
  {
   "cell_type": "code",
   "execution_count": 6,
   "metadata": {},
   "outputs": [],
   "source": [
    "X_shuffled = X\n",
    "y_shuffled = Y\n",
    "shuffle_dataset(13734, pd. DataFrame(X), pd. DataFrame(Y), pd. DataFrame(X_shuffled), pd. DataFrame(y_shuffled))"
   ]
  },
  {
   "cell_type": "markdown",
   "metadata": {},
   "source": [
    "Train-test split."
   ]
  },
  {
   "cell_type": "code",
   "execution_count": 7,
   "metadata": {},
   "outputs": [
    {
     "name": "stdout",
     "output_type": "stream",
     "text": [
      "(9613, 36)\n",
      "(4121, 36)\n",
      "(9613, 5)\n",
      "(4121, 5)\n"
     ]
    }
   ],
   "source": [
    "from sklearn.model_selection import train_test_split\n",
    "\n",
    "X_train, X_test, y_train, y_test = train_test_split(X_shuffled, y_shuffled,test_size=0.3, random_state=40)\n",
    "print(X_train.shape); print(X_test.shape)\n",
    "print(y_train.shape); print(y_test.shape)"
   ]
  },
  {
   "cell_type": "markdown",
   "metadata": {},
   "source": [
    "Reduce the dataset."
   ]
  },
  {
   "cell_type": "code",
   "execution_count": 8,
   "metadata": {},
   "outputs": [
    {
     "name": "stdout",
     "output_type": "stream",
     "text": [
      "(400, 36)\n",
      "(200, 36)\n",
      "(400, 5)\n",
      "(200, 5)\n"
     ]
    }
   ],
   "source": [
    "X_train_reduced, y_train_reduced = X_train[0:400], y_train[0:400]\n",
    "X_test_reduced, y_test_reduced = X_test[0:200], y_test[0:200]\n",
    "print(X_train_reduced.shape); print(X_test_reduced.shape)\n",
    "print(y_train_reduced.shape); print(y_test_reduced.shape)"
   ]
  },
  {
   "cell_type": "code",
   "execution_count": 9,
   "metadata": {},
   "outputs": [
    {
     "data": {
      "text/plain": [
       "Counter({0.0: 381, 1.0: 19})"
      ]
     },
     "execution_count": 9,
     "metadata": {},
     "output_type": "execute_result"
    }
   ],
   "source": [
    "from collections import Counter\n",
    "Counter(y_train_reduced[:,0])"
   ]
  },
  {
   "cell_type": "markdown",
   "metadata": {},
   "source": [
    "## Train model:\n",
    "####  Imputed dataset 5, for has_dep_diag "
   ]
  },
  {
   "cell_type": "code",
   "execution_count": 11,
   "metadata": {},
   "outputs": [],
   "source": [
    "from sklearn import svm\n",
    "from sklearn.svm import SVC"
   ]
  },
  {
   "cell_type": "markdown",
   "metadata": {},
   "source": [
    "Basic SVM, with accuracy and f1-score:"
   ]
  },
  {
   "cell_type": "code",
   "execution_count": 12,
   "metadata": {},
   "outputs": [],
   "source": [
    "bar_x = np.array([0, 1, 2, 3, 4])\n",
    "bar_y = np.array([])"
   ]
  },
  {
   "cell_type": "code",
   "execution_count": 13,
   "metadata": {},
   "outputs": [
    {
     "name": "stdout",
     "output_type": "stream",
     "text": [
      "SVM classifier accuracy: 0.9710808280453552\n",
      "SVM classifier accuracy - test set: 0.9728221305508372\n",
      "0.492664133417775\n",
      "0.49311193111931123\n"
     ]
    }
   ],
   "source": [
    "##imbalanced\n",
    "svm = SVC(C=0.1, gamma='scale', kernel='linear')\n",
    "svm.fit(X_train, y_train[:,0])\n",
    "print(f'SVM classifier accuracy: {svm.score(X_train, y_train[:,0])}')\n",
    "print(f'SVM classifier accuracy - test set: {svm.score(X_test, y_test[:,0])}')\n",
    "\n",
    "y_pred = svm.predict(X_train)\n",
    "print(f1_score(y_pred, y_train[:,0], average = \"macro\"))\n",
    "y_pred_test = svm.predict(X_test)\n",
    "print(f1_score(y_pred_test, y_test[:,0], average = \"macro\"))\n",
    "\n",
    "bar_y = np.append(bar_y, f1_score(y_pred_test, y_test[:,0], average = \"macro\"))"
   ]
  },
  {
   "cell_type": "code",
   "execution_count": 43,
   "metadata": {},
   "outputs": [
    {
     "name": "stdout",
     "output_type": "stream",
     "text": [
      "SVM classifier accuracy: 0.5441589514199522\n",
      "SVM classifier accuracy - test set: 0.5452560058238292\n",
      "0.39991843002732297\n",
      "0.39591606540553054\n"
     ]
    }
   ],
   "source": [
    "##auto balancing\n",
    "svm = SVC(C=0.1, gamma='scale', kernel='linear', class_weight = 'balanced')\n",
    "svm.fit(X_train, y_train[:,0])\n",
    "print(f'SVM classifier accuracy: {svm.score(X_train, y_train[:,0])}')\n",
    "print(f'SVM classifier accuracy - test set: {svm.score(X_test, y_test[:,0])}')\n",
    "\n",
    "y_pred = svm.predict(X_train)\n",
    "print(f1_score(y_pred, y_train[:,0], average = \"macro\"))\n",
    "y_pred_test = svm.predict(X_test)\n",
    "print(f1_score(y_pred_test, y_test[:,0], average = \"macro\"))"
   ]
  },
  {
   "cell_type": "markdown",
   "metadata": {},
   "source": [
    "For diff hyperparameters: here the train set accuracy is lower than the test one as it should be."
   ]
  },
  {
   "cell_type": "code",
   "execution_count": 51,
   "metadata": {},
   "outputs": [
    {
     "name": "stdout",
     "output_type": "stream",
     "text": [
      "SVM classifier accuracy: 0.9717049828357432\n",
      "SVM classifier accuracy - test set: 0.9728221305508372\n",
      "0.5139469485055195\n",
      "0.49311193111931123\n"
     ]
    }
   ],
   "source": [
    "svm = SVC(C=1, gamma = 'auto')\n",
    "svm.fit(X_train, y_train[:,0])\n",
    "print(f'SVM classifier accuracy: {svm.score(X_train, y_train[:,0])}')\n",
    "print(f'SVM classifier accuracy - test set: {svm.score(X_test, y_test[:,0])}')\n",
    "y_pred = svm.predict(X_train)\n",
    "print(f1_score(y_pred, y_train[:,0], average = \"macro\"))\n",
    "y_pred_test = svm.predict(X_test)\n",
    "print(f1_score(y_pred_test, y_test[:,0], average = \"macro\"))"
   ]
  },
  {
   "cell_type": "markdown",
   "metadata": {},
   "source": [
    "#### All the other targets:"
   ]
  },
  {
   "cell_type": "code",
   "execution_count": 32,
   "metadata": {},
   "outputs": [
    {
     "name": "stdout",
     "output_type": "stream",
     "text": [
      "SVM classifier accuracy: 0.843545199209404\n",
      "SVM classifier accuracy - test set: 0.8383887405969425\n",
      "0.1708932389434871\n",
      "0.21246593898733904\n"
     ]
    }
   ],
   "source": [
    "svm = SVC(C=0.1, gamma='scale', kernel='linear')\n",
    "svm.fit(X_train, y_train[:,1])\n",
    "print(f'SVM classifier accuracy: {svm.score(X_train, y_train[:,1])}')\n",
    "print(f'SVM classifier accuracy - test set: {svm.score(X_test, y_test[:,1])}')\n",
    "y_pred = svm.predict(X_train)\n",
    "print(f1_score(y_pred, y_train[:,1], average = \"macro\"))\n",
    "y_pred_test = svm.predict(X_test)\n",
    "print(f1_score(y_pred_test, y_test[:,1], average = \"macro\"))\n",
    "\n",
    "bar_y = np.append(bar_y, f1_score(y_pred_test, y_test[:,1], average = \"macro\"))"
   ]
  },
  {
   "cell_type": "code",
   "execution_count": 33,
   "metadata": {},
   "outputs": [
    {
     "name": "stdout",
     "output_type": "stream",
     "text": [
      "SVM classifier accuracy: 0.7233954020597108\n",
      "SVM classifier accuracy - test set: 0.7274933268624121\n",
      "0.11828815919918828\n",
      "0.11867477535675731\n"
     ]
    }
   ],
   "source": [
    "svm = SVC(C=0.1, gamma='scale', kernel='linear')\n",
    "svm.fit(X_train, y_train[:,2])\n",
    "print(f'SVM classifier accuracy: {svm.score(X_train, y_train[:,2])}')\n",
    "print(f'SVM classifier accuracy - test set: {svm.score(X_test, y_test[:,2])}')\n",
    "y_pred = svm.predict(X_train)\n",
    "print(f1_score(y_pred, y_train[:,2], average = \"macro\"))\n",
    "y_pred_test = svm.predict(X_test)\n",
    "print(f1_score(y_pred_test, y_test[:,2], average = \"macro\"))\n",
    "\n",
    "bar_y = np.append(bar_y, f1_score(y_pred_test, y_test[:,2], average = \"macro\"))"
   ]
  },
  {
   "cell_type": "code",
   "execution_count": 34,
   "metadata": {},
   "outputs": [
    {
     "name": "stdout",
     "output_type": "stream",
     "text": [
      "SVM classifier accuracy: 0.843857276604598\n",
      "SVM classifier accuracy - test set: 0.842999272021354\n",
      "0.3439247189186056\n",
      "0.3437248093925619\n"
     ]
    }
   ],
   "source": [
    "svm = SVC(C=0.1, gamma='scale', kernel='linear')\n",
    "svm.fit(X_train, y_train[:,3])\n",
    "print(f'SVM classifier accuracy: {svm.score(X_train, y_train[:,3])}')\n",
    "print(f'SVM classifier accuracy - test set: {svm.score(X_test, y_test[:,3])}')\n",
    "y_pred = svm.predict(X_train)\n",
    "print(f1_score(y_pred, y_train[:,3], average = \"macro\"))\n",
    "y_pred_test = svm.predict(X_test)\n",
    "print(f1_score(y_pred_test, y_test[:,3], average = \"macro\"))\n",
    "\n",
    "bar_y = np.append(bar_y, f1_score(y_pred_test, y_test[:,3], average = \"macro\"))"
   ]
  },
  {
   "cell_type": "code",
   "execution_count": 35,
   "metadata": {},
   "outputs": [
    {
     "name": "stdout",
     "output_type": "stream",
     "text": [
      "SVM classifier accuracy: 0.7048788099448663\n",
      "SVM classifier accuracy - test set: 0.711235137102645\n",
      "0.32911409017532417\n",
      "0.3264249889223511\n"
     ]
    }
   ],
   "source": [
    "svm = SVC(C=0.1, gamma='scale', kernel='linear')\n",
    "svm.fit(X_train_reduced, y_train_reduced[:,4])\n",
    "print(f'SVM classifier accuracy: {svm.score(X_train, y_train[:,4])}')\n",
    "print(f'SVM classifier accuracy - test set: {svm.score(X_test, y_test[:,4])}')\n",
    "y_pred = svm.predict(X_train)\n",
    "print(f1_score(y_pred, y_train[:,4], average = \"macro\"))\n",
    "y_pred_test = svm.predict(X_test)\n",
    "print(f1_score(y_pred_test, y_test[:,4], average = \"macro\"))\n",
    "\n",
    "bar_y = np.append(bar_y, f1_score(y_pred_test, y_test[:,4], average = \"macro\"))"
   ]
  },
  {
   "cell_type": "code",
   "execution_count": 38,
   "metadata": {},
   "outputs": [
    {
     "data": {
      "text/plain": [
       "<BarContainer object of 5 artists>"
      ]
     },
     "execution_count": 38,
     "metadata": {},
     "output_type": "execute_result"
    },
    {
     "data": {
      "image/png": "[encoded data removed]",
      "text/plain": [
       "<Figure size 432x288 with 1 Axes>"
      ]
     },
     "metadata": {
      "needs_background": "light"
     },
     "output_type": "display_data"
    }
   ],
   "source": [
    "plt.bar(bar_x, bar_y)"
   ]
  },
  {
   "cell_type": "markdown",
   "metadata": {},
   "source": [
    "## Exploration:"
   ]
  },
  {
   "cell_type": "code",
   "execution_count": 13,
   "metadata": {},
   "outputs": [],
   "source": [
    "from sklearn.model_selection import learning_curve\n",
    "\n",
    "#plot learning curve function from the labs\n",
    "def plot_learning_curve(n, est, xs, ys, title):\n",
    "    train_sizes, train_scores, valid_scores = learning_curve(estimator = est, X = xs, y = ys, cv = n)\n",
    "\n",
    "    train_mean = np.mean(train_scores, axis=1)\n",
    "    valid_mean = np.mean(valid_scores, axis=1)\n",
    "\n",
    "    plt.plot(train_sizes, train_mean, color='blue', label='Training Accuracy')\n",
    "    plt.plot(train_sizes, valid_mean, color='green', label='Validation Accuracy')\n",
    "\n",
    "    plt.xlabel('Dataset size')\n",
    "    plt.ylabel('Accuracy')\n",
    "    plt.title(title)\n",
    "    plt.legend()\n",
    "    plt.show()\n"
   ]
  },
  {
   "cell_type": "code",
   "execution_count": 17,
   "metadata": {},
   "outputs": [
    {
     "data": {
      "image/png": "[encoded data removed]",
      "text/plain": [
       "<Figure size 432x288 with 1 Axes>"
      ]
     },
     "metadata": {
      "needs_background": "light"
     },
     "output_type": "display_data"
    }
   ],
   "source": [
    "plot_learning_curve(5, SVC(C = 0.1, gamma = 'scale', kernel = 'rbf'),X_train_reduced, y_train_reduced[:,0], 'SVM learning curve')"
   ]
  },
  {
   "cell_type": "code",
   "execution_count": 18,
   "metadata": {},
   "outputs": [
    {
     "data": {
      "image/png": "[encoded data removed]",
      "text/plain": [
       "<Figure size 432x288 with 1 Axes>"
      ]
     },
     "metadata": {
      "needs_background": "light"
     },
     "output_type": "display_data"
    }
   ],
   "source": [
    "plot_learning_curve(5, SVC(C = 0.1, gamma = 'scale', kernel = 'linear'),X_train_reduced, y_train_reduced[:,0], 'SVM learning curve')"
   ]
  },
  {
   "cell_type": "code",
   "execution_count": 19,
   "metadata": {},
   "outputs": [],
   "source": [
    "from sklearn.model_selection import validation_curve\n",
    "\n",
    "def plot_validation_curve(est, X, y, p_name, p_range, title):\n",
    "    train_scores, test_scores = validation_curve(estimator=est,\n",
    "                                             X=X, y=y,\n",
    "                                             cv=5,\n",
    "    param_name=p_name, param_range=p_range)\n",
    "    train_mean = np.mean(train_scores, axis=1)\n",
    "    test_mean = np.mean(test_scores, axis=1)\n",
    "\n",
    "    plt.plot(p_range, train_mean,\n",
    "             color='blue', label='Training Accuracy')\n",
    "    plt.plot(p_range, test_mean,\n",
    "             color='green', label='Validation Accuracy')\n",
    "    plt.xlabel(p_name)\n",
    "    plt.ylabel('Accuracy')\n",
    "    plt.title(title)\n",
    "    plt.grid()\n",
    "    plt.show()"
   ]
  },
  {
   "cell_type": "code",
   "execution_count": 21,
   "metadata": {},
   "outputs": [
    {
     "ename": "KeyboardInterrupt",
     "evalue": "",
     "output_type": "error",
     "traceback": [
      "\u001b[1;31m---------------------------------------------------------------------------\u001b[0m",
      "\u001b[1;31mKeyboardInterrupt\u001b[0m                         Traceback (most recent call last)",
      "\u001b[1;32m~\\AppData\\Local\\Temp/ipykernel_26616/1804597813.py\u001b[0m in \u001b[0;36m<module>\u001b[1;34m\u001b[0m\n\u001b[1;32m----> 1\u001b[1;33m plot_validation_curve(SVC(C = 0.1, kernel= 'linear', gamma = 'scale'), X_train_reduced, y_train_reduced[:,0], 'C', list(np.arange(0.0, 10, 0.1))\n\u001b[0m\u001b[0;32m      2\u001b[0m , \"SVM validation curve\")\n",
      "\u001b[1;32m~\\AppData\\Local\\Temp/ipykernel_26616/3142408559.py\u001b[0m in \u001b[0;36mplot_validation_curve\u001b[1;34m(est, X, y, p_name, p_range, title)\u001b[0m\n\u001b[0;32m      2\u001b[0m \u001b[1;33m\u001b[0m\u001b[0m\n\u001b[0;32m      3\u001b[0m \u001b[1;32mdef\u001b[0m \u001b[0mplot_validation_curve\u001b[0m\u001b[1;33m(\u001b[0m\u001b[0mest\u001b[0m\u001b[1;33m,\u001b[0m \u001b[0mX\u001b[0m\u001b[1;33m,\u001b[0m \u001b[0my\u001b[0m\u001b[1;33m,\u001b[0m \u001b[0mp_name\u001b[0m\u001b[1;33m,\u001b[0m \u001b[0mp_range\u001b[0m\u001b[1;33m,\u001b[0m \u001b[0mtitle\u001b[0m\u001b[1;33m)\u001b[0m\u001b[1;33m:\u001b[0m\u001b[1;33m\u001b[0m\u001b[1;33m\u001b[0m\u001b[0m\n\u001b[1;32m----> 4\u001b[1;33m     train_scores, test_scores = validation_curve(estimator=est,\n\u001b[0m\u001b[0;32m      5\u001b[0m                                              \u001b[0mX\u001b[0m\u001b[1;33m=\u001b[0m\u001b[0mX\u001b[0m\u001b[1;33m,\u001b[0m \u001b[0my\u001b[0m\u001b[1;33m=\u001b[0m\u001b[0my\u001b[0m\u001b[1;33m,\u001b[0m\u001b[1;33m\u001b[0m\u001b[1;33m\u001b[0m\u001b[0m\n\u001b[0;32m      6\u001b[0m                                              \u001b[0mcv\u001b[0m\u001b[1;33m=\u001b[0m\u001b[1;36m5\u001b[0m\u001b[1;33m,\u001b[0m\u001b[1;33m\u001b[0m\u001b[1;33m\u001b[0m\u001b[0m\n",
      "\u001b[1;32m~\\anaconda3\\lib\\site-packages\\sklearn\\model_selection\\_validation.py\u001b[0m in \u001b[0;36mvalidation_curve\u001b[1;34m(estimator, X, y, param_name, param_range, groups, cv, scoring, n_jobs, pre_dispatch, verbose, error_score, fit_params)\u001b[0m\n\u001b[0;32m   1828\u001b[0m \u001b[1;33m\u001b[0m\u001b[0m\n\u001b[0;32m   1829\u001b[0m     \u001b[0mparallel\u001b[0m \u001b[1;33m=\u001b[0m \u001b[0mParallel\u001b[0m\u001b[1;33m(\u001b[0m\u001b[0mn_jobs\u001b[0m\u001b[1;33m=\u001b[0m\u001b[0mn_jobs\u001b[0m\u001b[1;33m,\u001b[0m \u001b[0mpre_dispatch\u001b[0m\u001b[1;33m=\u001b[0m\u001b[0mpre_dispatch\u001b[0m\u001b[1;33m,\u001b[0m \u001b[0mverbose\u001b[0m\u001b[1;33m=\u001b[0m\u001b[0mverbose\u001b[0m\u001b[1;33m)\u001b[0m\u001b[1;33m\u001b[0m\u001b[1;33m\u001b[0m\u001b[0m\n\u001b[1;32m-> 1830\u001b[1;33m     results = parallel(\n\u001b[0m\u001b[0;32m   1831\u001b[0m         delayed(_fit_and_score)(\n\u001b[0;32m   1832\u001b[0m             \u001b[0mclone\u001b[0m\u001b[1;33m(\u001b[0m\u001b[0mestimator\u001b[0m\u001b[1;33m)\u001b[0m\u001b[1;33m,\u001b[0m\u001b[1;33m\u001b[0m\u001b[1;33m\u001b[0m\u001b[0m\n",
      "\u001b[1;32m~\\anaconda3\\lib\\site-packages\\joblib\\parallel.py\u001b[0m in \u001b[0;36m__call__\u001b[1;34m(self, iterable)\u001b[0m\n\u001b[0;32m   1044\u001b[0m                 \u001b[0mself\u001b[0m\u001b[1;33m.\u001b[0m\u001b[0m_iterating\u001b[0m \u001b[1;33m=\u001b[0m \u001b[0mself\u001b[0m\u001b[1;33m.\u001b[0m\u001b[0m_original_iterator\u001b[0m \u001b[1;32mis\u001b[0m \u001b[1;32mnot\u001b[0m \u001b[1;32mNone\u001b[0m\u001b[1;33m\u001b[0m\u001b[1;33m\u001b[0m\u001b[0m\n\u001b[0;32m   1045\u001b[0m \u001b[1;33m\u001b[0m\u001b[0m\n\u001b[1;32m-> 1046\u001b[1;33m             \u001b[1;32mwhile\u001b[0m \u001b[0mself\u001b[0m\u001b[1;33m.\u001b[0m\u001b[0mdispatch_one_batch\u001b[0m\u001b[1;33m(\u001b[0m\u001b[0miterator\u001b[0m\u001b[1;33m)\u001b[0m\u001b[1;33m:\u001b[0m\u001b[1;33m\u001b[0m\u001b[1;33m\u001b[0m\u001b[0m\n\u001b[0m\u001b[0;32m   1047\u001b[0m                 \u001b[1;32mpass\u001b[0m\u001b[1;33m\u001b[0m\u001b[1;33m\u001b[0m\u001b[0m\n\u001b[0;32m   1048\u001b[0m \u001b[1;33m\u001b[0m\u001b[0m\n",
      "\u001b[1;32m~\\anaconda3\\lib\\site-packages\\joblib\\parallel.py\u001b[0m in \u001b[0;36mdispatch_one_batch\u001b[1;34m(self, iterator)\u001b[0m\n\u001b[0;32m    859\u001b[0m                 \u001b[1;32mreturn\u001b[0m \u001b[1;32mFalse\u001b[0m\u001b[1;33m\u001b[0m\u001b[1;33m\u001b[0m\u001b[0m\n\u001b[0;32m    860\u001b[0m             \u001b[1;32melse\u001b[0m\u001b[1;33m:\u001b[0m\u001b[1;33m\u001b[0m\u001b[1;33m\u001b[0m\u001b[0m\n\u001b[1;32m--> 861\u001b[1;33m                 \u001b[0mself\u001b[0m\u001b[1;33m.\u001b[0m\u001b[0m_dispatch\u001b[0m\u001b[1;33m(\u001b[0m\u001b[0mtasks\u001b[0m\u001b[1;33m)\u001b[0m\u001b[1;33m\u001b[0m\u001b[1;33m\u001b[0m\u001b[0m\n\u001b[0m\u001b[0;32m    862\u001b[0m                 \u001b[1;32mreturn\u001b[0m \u001b[1;32mTrue\u001b[0m\u001b[1;33m\u001b[0m\u001b[1;33m\u001b[0m\u001b[0m\n\u001b[0;32m    863\u001b[0m \u001b[1;33m\u001b[0m\u001b[0m\n",
      "\u001b[1;32m~\\anaconda3\\lib\\site-packages\\joblib\\parallel.py\u001b[0m in \u001b[0;36m_dispatch\u001b[1;34m(self, batch)\u001b[0m\n\u001b[0;32m    777\u001b[0m         \u001b[1;32mwith\u001b[0m \u001b[0mself\u001b[0m\u001b[1;33m.\u001b[0m\u001b[0m_lock\u001b[0m\u001b[1;33m:\u001b[0m\u001b[1;33m\u001b[0m\u001b[1;33m\u001b[0m\u001b[0m\n\u001b[0;32m    778\u001b[0m             \u001b[0mjob_idx\u001b[0m \u001b[1;33m=\u001b[0m \u001b[0mlen\u001b[0m\u001b[1;33m(\u001b[0m\u001b[0mself\u001b[0m\u001b[1;33m.\u001b[0m\u001b[0m_jobs\u001b[0m\u001b[1;33m)\u001b[0m\u001b[1;33m\u001b[0m\u001b[1;33m\u001b[0m\u001b[0m\n\u001b[1;32m--> 779\u001b[1;33m             \u001b[0mjob\u001b[0m \u001b[1;33m=\u001b[0m \u001b[0mself\u001b[0m\u001b[1;33m.\u001b[0m\u001b[0m_backend\u001b[0m\u001b[1;33m.\u001b[0m\u001b[0mapply_async\u001b[0m\u001b[1;33m(\u001b[0m\u001b[0mbatch\u001b[0m\u001b[1;33m,\u001b[0m \u001b[0mcallback\u001b[0m\u001b[1;33m=\u001b[0m\u001b[0mcb\u001b[0m\u001b[1;33m)\u001b[0m\u001b[1;33m\u001b[0m\u001b[1;33m\u001b[0m\u001b[0m\n\u001b[0m\u001b[0;32m    780\u001b[0m             \u001b[1;31m# A job can complete so quickly than its callback is\u001b[0m\u001b[1;33m\u001b[0m\u001b[1;33m\u001b[0m\u001b[1;33m\u001b[0m\u001b[0m\n\u001b[0;32m    781\u001b[0m             \u001b[1;31m# called before we get here, causing self._jobs to\u001b[0m\u001b[1;33m\u001b[0m\u001b[1;33m\u001b[0m\u001b[1;33m\u001b[0m\u001b[0m\n",
      "\u001b[1;32m~\\anaconda3\\lib\\site-packages\\joblib\\_parallel_backends.py\u001b[0m in \u001b[0;36mapply_async\u001b[1;34m(self, func, callback)\u001b[0m\n\u001b[0;32m    206\u001b[0m     \u001b[1;32mdef\u001b[0m \u001b[0mapply_async\u001b[0m\u001b[1;33m(\u001b[0m\u001b[0mself\u001b[0m\u001b[1;33m,\u001b[0m \u001b[0mfunc\u001b[0m\u001b[1;33m,\u001b[0m \u001b[0mcallback\u001b[0m\u001b[1;33m=\u001b[0m\u001b[1;32mNone\u001b[0m\u001b[1;33m)\u001b[0m\u001b[1;33m:\u001b[0m\u001b[1;33m\u001b[0m\u001b[1;33m\u001b[0m\u001b[0m\n\u001b[0;32m    207\u001b[0m         \u001b[1;34m\"\"\"Schedule a func to be run\"\"\"\u001b[0m\u001b[1;33m\u001b[0m\u001b[1;33m\u001b[0m\u001b[0m\n\u001b[1;32m--> 208\u001b[1;33m         \u001b[0mresult\u001b[0m \u001b[1;33m=\u001b[0m \u001b[0mImmediateResult\u001b[0m\u001b[1;33m(\u001b[0m\u001b[0mfunc\u001b[0m\u001b[1;33m)\u001b[0m\u001b[1;33m\u001b[0m\u001b[1;33m\u001b[0m\u001b[0m\n\u001b[0m\u001b[0;32m    209\u001b[0m         \u001b[1;32mif\u001b[0m \u001b[0mcallback\u001b[0m\u001b[1;33m:\u001b[0m\u001b[1;33m\u001b[0m\u001b[1;33m\u001b[0m\u001b[0m\n\u001b[0;32m    210\u001b[0m             \u001b[0mcallback\u001b[0m\u001b[1;33m(\u001b[0m\u001b[0mresult\u001b[0m\u001b[1;33m)\u001b[0m\u001b[1;33m\u001b[0m\u001b[1;33m\u001b[0m\u001b[0m\n",
      "\u001b[1;32m~\\anaconda3\\lib\\site-packages\\joblib\\_parallel_backends.py\u001b[0m in \u001b[0;36m__init__\u001b[1;34m(self, batch)\u001b[0m\n\u001b[0;32m    570\u001b[0m         \u001b[1;31m# Don't delay the application, to avoid keeping the input\u001b[0m\u001b[1;33m\u001b[0m\u001b[1;33m\u001b[0m\u001b[1;33m\u001b[0m\u001b[0m\n\u001b[0;32m    571\u001b[0m         \u001b[1;31m# arguments in memory\u001b[0m\u001b[1;33m\u001b[0m\u001b[1;33m\u001b[0m\u001b[1;33m\u001b[0m\u001b[0m\n\u001b[1;32m--> 572\u001b[1;33m         \u001b[0mself\u001b[0m\u001b[1;33m.\u001b[0m\u001b[0mresults\u001b[0m \u001b[1;33m=\u001b[0m \u001b[0mbatch\u001b[0m\u001b[1;33m(\u001b[0m\u001b[1;33m)\u001b[0m\u001b[1;33m\u001b[0m\u001b[1;33m\u001b[0m\u001b[0m\n\u001b[0m\u001b[0;32m    573\u001b[0m \u001b[1;33m\u001b[0m\u001b[0m\n\u001b[0;32m    574\u001b[0m     \u001b[1;32mdef\u001b[0m \u001b[0mget\u001b[0m\u001b[1;33m(\u001b[0m\u001b[0mself\u001b[0m\u001b[1;33m)\u001b[0m\u001b[1;33m:\u001b[0m\u001b[1;33m\u001b[0m\u001b[1;33m\u001b[0m\u001b[0m\n",
      "\u001b[1;32m~\\anaconda3\\lib\\site-packages\\joblib\\parallel.py\u001b[0m in \u001b[0;36m__call__\u001b[1;34m(self)\u001b[0m\n\u001b[0;32m    260\u001b[0m         \u001b[1;31m# change the default number of processes to -1\u001b[0m\u001b[1;33m\u001b[0m\u001b[1;33m\u001b[0m\u001b[1;33m\u001b[0m\u001b[0m\n\u001b[0;32m    261\u001b[0m         \u001b[1;32mwith\u001b[0m \u001b[0mparallel_backend\u001b[0m\u001b[1;33m(\u001b[0m\u001b[0mself\u001b[0m\u001b[1;33m.\u001b[0m\u001b[0m_backend\u001b[0m\u001b[1;33m,\u001b[0m \u001b[0mn_jobs\u001b[0m\u001b[1;33m=\u001b[0m\u001b[0mself\u001b[0m\u001b[1;33m.\u001b[0m\u001b[0m_n_jobs\u001b[0m\u001b[1;33m)\u001b[0m\u001b[1;33m:\u001b[0m\u001b[1;33m\u001b[0m\u001b[1;33m\u001b[0m\u001b[0m\n\u001b[1;32m--> 262\u001b[1;33m             return [func(*args, **kwargs)\n\u001b[0m\u001b[0;32m    263\u001b[0m                     for func, args, kwargs in self.items]\n\u001b[0;32m    264\u001b[0m \u001b[1;33m\u001b[0m\u001b[0m\n",
      "\u001b[1;32m~\\anaconda3\\lib\\site-packages\\joblib\\parallel.py\u001b[0m in \u001b[0;36m<listcomp>\u001b[1;34m(.0)\u001b[0m\n\u001b[0;32m    260\u001b[0m         \u001b[1;31m# change the default number of processes to -1\u001b[0m\u001b[1;33m\u001b[0m\u001b[1;33m\u001b[0m\u001b[1;33m\u001b[0m\u001b[0m\n\u001b[0;32m    261\u001b[0m         \u001b[1;32mwith\u001b[0m \u001b[0mparallel_backend\u001b[0m\u001b[1;33m(\u001b[0m\u001b[0mself\u001b[0m\u001b[1;33m.\u001b[0m\u001b[0m_backend\u001b[0m\u001b[1;33m,\u001b[0m \u001b[0mn_jobs\u001b[0m\u001b[1;33m=\u001b[0m\u001b[0mself\u001b[0m\u001b[1;33m.\u001b[0m\u001b[0m_n_jobs\u001b[0m\u001b[1;33m)\u001b[0m\u001b[1;33m:\u001b[0m\u001b[1;33m\u001b[0m\u001b[1;33m\u001b[0m\u001b[0m\n\u001b[1;32m--> 262\u001b[1;33m             return [func(*args, **kwargs)\n\u001b[0m\u001b[0;32m    263\u001b[0m                     for func, args, kwargs in self.items]\n\u001b[0;32m    264\u001b[0m \u001b[1;33m\u001b[0m\u001b[0m\n",
      "\u001b[1;32m~\\anaconda3\\lib\\site-packages\\sklearn\\utils\\fixes.py\u001b[0m in \u001b[0;36m__call__\u001b[1;34m(self, *args, **kwargs)\u001b[0m\n\u001b[0;32m    214\u001b[0m     \u001b[1;32mdef\u001b[0m \u001b[0m__call__\u001b[0m\u001b[1;33m(\u001b[0m\u001b[0mself\u001b[0m\u001b[1;33m,\u001b[0m \u001b[1;33m*\u001b[0m\u001b[0margs\u001b[0m\u001b[1;33m,\u001b[0m \u001b[1;33m**\u001b[0m\u001b[0mkwargs\u001b[0m\u001b[1;33m)\u001b[0m\u001b[1;33m:\u001b[0m\u001b[1;33m\u001b[0m\u001b[1;33m\u001b[0m\u001b[0m\n\u001b[0;32m    215\u001b[0m         \u001b[1;32mwith\u001b[0m \u001b[0mconfig_context\u001b[0m\u001b[1;33m(\u001b[0m\u001b[1;33m**\u001b[0m\u001b[0mself\u001b[0m\u001b[1;33m.\u001b[0m\u001b[0mconfig\u001b[0m\u001b[1;33m)\u001b[0m\u001b[1;33m:\u001b[0m\u001b[1;33m\u001b[0m\u001b[1;33m\u001b[0m\u001b[0m\n\u001b[1;32m--> 216\u001b[1;33m             \u001b[1;32mreturn\u001b[0m \u001b[0mself\u001b[0m\u001b[1;33m.\u001b[0m\u001b[0mfunction\u001b[0m\u001b[1;33m(\u001b[0m\u001b[1;33m*\u001b[0m\u001b[0margs\u001b[0m\u001b[1;33m,\u001b[0m \u001b[1;33m**\u001b[0m\u001b[0mkwargs\u001b[0m\u001b[1;33m)\u001b[0m\u001b[1;33m\u001b[0m\u001b[1;33m\u001b[0m\u001b[0m\n\u001b[0m\u001b[0;32m    217\u001b[0m \u001b[1;33m\u001b[0m\u001b[0m\n\u001b[0;32m    218\u001b[0m \u001b[1;33m\u001b[0m\u001b[0m\n",
      "\u001b[1;32m~\\anaconda3\\lib\\site-packages\\sklearn\\model_selection\\_validation.py\u001b[0m in \u001b[0;36m_fit_and_score\u001b[1;34m(estimator, X, y, scorer, train, test, verbose, parameters, fit_params, return_train_score, return_parameters, return_n_test_samples, return_times, return_estimator, split_progress, candidate_progress, error_score)\u001b[0m\n\u001b[0;32m    678\u001b[0m             \u001b[0mestimator\u001b[0m\u001b[1;33m.\u001b[0m\u001b[0mfit\u001b[0m\u001b[1;33m(\u001b[0m\u001b[0mX_train\u001b[0m\u001b[1;33m,\u001b[0m \u001b[1;33m**\u001b[0m\u001b[0mfit_params\u001b[0m\u001b[1;33m)\u001b[0m\u001b[1;33m\u001b[0m\u001b[1;33m\u001b[0m\u001b[0m\n\u001b[0;32m    679\u001b[0m         \u001b[1;32melse\u001b[0m\u001b[1;33m:\u001b[0m\u001b[1;33m\u001b[0m\u001b[1;33m\u001b[0m\u001b[0m\n\u001b[1;32m--> 680\u001b[1;33m             \u001b[0mestimator\u001b[0m\u001b[1;33m.\u001b[0m\u001b[0mfit\u001b[0m\u001b[1;33m(\u001b[0m\u001b[0mX_train\u001b[0m\u001b[1;33m,\u001b[0m \u001b[0my_train\u001b[0m\u001b[1;33m,\u001b[0m \u001b[1;33m**\u001b[0m\u001b[0mfit_params\u001b[0m\u001b[1;33m)\u001b[0m\u001b[1;33m\u001b[0m\u001b[1;33m\u001b[0m\u001b[0m\n\u001b[0m\u001b[0;32m    681\u001b[0m \u001b[1;33m\u001b[0m\u001b[0m\n\u001b[0;32m    682\u001b[0m     \u001b[1;32mexcept\u001b[0m \u001b[0mException\u001b[0m\u001b[1;33m:\u001b[0m\u001b[1;33m\u001b[0m\u001b[1;33m\u001b[0m\u001b[0m\n",
      "\u001b[1;32m~\\anaconda3\\lib\\site-packages\\sklearn\\svm\\_base.py\u001b[0m in \u001b[0;36mfit\u001b[1;34m(self, X, y, sample_weight)\u001b[0m\n\u001b[0;32m    253\u001b[0m \u001b[1;33m\u001b[0m\u001b[0m\n\u001b[0;32m    254\u001b[0m         \u001b[0mseed\u001b[0m \u001b[1;33m=\u001b[0m \u001b[0mrnd\u001b[0m\u001b[1;33m.\u001b[0m\u001b[0mrandint\u001b[0m\u001b[1;33m(\u001b[0m\u001b[0mnp\u001b[0m\u001b[1;33m.\u001b[0m\u001b[0miinfo\u001b[0m\u001b[1;33m(\u001b[0m\u001b[1;34m\"i\"\u001b[0m\u001b[1;33m)\u001b[0m\u001b[1;33m.\u001b[0m\u001b[0mmax\u001b[0m\u001b[1;33m)\u001b[0m\u001b[1;33m\u001b[0m\u001b[1;33m\u001b[0m\u001b[0m\n\u001b[1;32m--> 255\u001b[1;33m         \u001b[0mfit\u001b[0m\u001b[1;33m(\u001b[0m\u001b[0mX\u001b[0m\u001b[1;33m,\u001b[0m \u001b[0my\u001b[0m\u001b[1;33m,\u001b[0m \u001b[0msample_weight\u001b[0m\u001b[1;33m,\u001b[0m \u001b[0msolver_type\u001b[0m\u001b[1;33m,\u001b[0m \u001b[0mkernel\u001b[0m\u001b[1;33m,\u001b[0m \u001b[0mrandom_seed\u001b[0m\u001b[1;33m=\u001b[0m\u001b[0mseed\u001b[0m\u001b[1;33m)\u001b[0m\u001b[1;33m\u001b[0m\u001b[1;33m\u001b[0m\u001b[0m\n\u001b[0m\u001b[0;32m    256\u001b[0m         \u001b[1;31m# see comment on the other call to np.iinfo in this file\u001b[0m\u001b[1;33m\u001b[0m\u001b[1;33m\u001b[0m\u001b[1;33m\u001b[0m\u001b[0m\n\u001b[0;32m    257\u001b[0m \u001b[1;33m\u001b[0m\u001b[0m\n",
      "\u001b[1;32m~\\anaconda3\\lib\\site-packages\\sklearn\\svm\\_base.py\u001b[0m in \u001b[0;36m_dense_fit\u001b[1;34m(self, X, y, sample_weight, solver_type, kernel, random_seed)\u001b[0m\n\u001b[0;32m    313\u001b[0m             \u001b[0mself\u001b[0m\u001b[1;33m.\u001b[0m\u001b[0m_probB\u001b[0m\u001b[1;33m,\u001b[0m\u001b[1;33m\u001b[0m\u001b[1;33m\u001b[0m\u001b[0m\n\u001b[0;32m    314\u001b[0m             \u001b[0mself\u001b[0m\u001b[1;33m.\u001b[0m\u001b[0mfit_status_\u001b[0m\u001b[1;33m,\u001b[0m\u001b[1;33m\u001b[0m\u001b[1;33m\u001b[0m\u001b[0m\n\u001b[1;32m--> 315\u001b[1;33m         \u001b[1;33m)\u001b[0m \u001b[1;33m=\u001b[0m \u001b[0mlibsvm\u001b[0m\u001b[1;33m.\u001b[0m\u001b[0mfit\u001b[0m\u001b[1;33m(\u001b[0m\u001b[1;33m\u001b[0m\u001b[1;33m\u001b[0m\u001b[0m\n\u001b[0m\u001b[0;32m    316\u001b[0m             \u001b[0mX\u001b[0m\u001b[1;33m,\u001b[0m\u001b[1;33m\u001b[0m\u001b[1;33m\u001b[0m\u001b[0m\n\u001b[0;32m    317\u001b[0m             \u001b[0my\u001b[0m\u001b[1;33m,\u001b[0m\u001b[1;33m\u001b[0m\u001b[1;33m\u001b[0m\u001b[0m\n",
      "\u001b[1;31mKeyboardInterrupt\u001b[0m: "
     ]
    }
   ],
   "source": [
    "plot_validation_curve(SVC(C = 0.1, kernel= 'linear', gamma = 'scale'), X_train_reduced, y_train_reduced[:,0], 'C', list(np.arange(0.0, 10, 0.1))\n",
    ", \"SVM validation curve\")"
   ]
  },
  {
   "cell_type": "markdown",
   "metadata": {},
   "source": [
    "## Tune hypermarameters:"
   ]
  },
  {
   "cell_type": "code",
   "execution_count": 25,
   "metadata": {},
   "outputs": [
    {
     "name": "stdout",
     "output_type": "stream",
     "text": [
      "Fitting 5 folds for each of 20 candidates, totalling 100 fits\n",
      "{'C': 0.1, 'gamma': 'scale', 'kernel': 'rbf'}\n",
      "0.9710808280453552\n",
      "0.9728221305508372\n",
      "0.492664133417775\n",
      "0.49311193111931123\n",
      "0.17924579999998969 mins\n"
     ]
    }
   ],
   "source": [
    "##on accuracy\n",
    "import time\n",
    "from sklearn.model_selection import GridSearchCV\n",
    "\n",
    "start = time.perf_counter()\n",
    "\n",
    "param_grid = {\n",
    "    'C': [0.1,1, 5, 10, 100], \n",
    "    'gamma': ['scale', 'auto'],\n",
    "    'kernel': ['rbf', 'sigmoid']\n",
    "}\n",
    "tuned_svm = GridSearchCV(SVC(), param_grid, cv = 5, scoring='accuracy', verbose = 2, n_jobs=-1)\n",
    "tuned_svm.fit(X_train_reduced, y_train_reduced[:,0])\n",
    "\n",
    "end = time.perf_counter()\n",
    "\n",
    "params = tuned_svm.best_params_\n",
    "\n",
    "print(params)\n",
    "print(tuned_svm.score(X_train,y_train[:,0]))\n",
    "print(tuned_svm.score(X_test,y_test[:,0]))\n",
    "y_pred = tuned_svm.predict(X_train)\n",
    "print(f1_score(y_pred, y_train[:,0], average = \"macro\"))\n",
    "y_pred_test = tuned_svm.predict(X_test)\n",
    "print(f1_score(y_pred_test, y_test[:,0], average = \"macro\"))\n",
    "print(str((end - start)) + ' mins')"
   ]
  },
  {
   "cell_type": "code",
   "execution_count": 28,
   "metadata": {},
   "outputs": [
    {
     "name": "stdout",
     "output_type": "stream",
     "text": [
      "Fitting 5 folds for each of 20 candidates, totalling 100 fits\n",
      "{'C': 0.1, 'gamma': 'scale', 'kernel': 'rbf'}\n",
      "0.492664133417775\n",
      "0.49311193111931123\n",
      "0.492664133417775\n",
      "0.49311193111931123\n",
      "0.19644419999985985 mins\n"
     ]
    }
   ],
   "source": [
    "## on f1 macro\n",
    "from sklearn.model_selection import GridSearchCV\n",
    "\n",
    "start = time.perf_counter()\n",
    "\n",
    "param_grid = {\n",
    "    'C': [0.1,1, 5, 10, 100], \n",
    "    'gamma': ['scale', 'auto'],\n",
    "    'kernel': ['rbf', 'sigmoid']\n",
    "}\n",
    "tuned_svm = GridSearchCV(SVC(), param_grid, cv = 5, scoring='f1_macro' , verbose = 2, n_jobs=-1)\n",
    "tuned_svm.fit(X_train_reduced, y_train_reduced[:,0])\n",
    "\n",
    "end = time.perf_counter()\n",
    "\n",
    "params = tuned_svm.best_params_\n",
    "\n",
    "print(params)\n",
    "print(tuned_svm.score(X_train,y_train[:,0]))\n",
    "print(tuned_svm.score(X_test,y_test[:,0]))\n",
    "y_pred = tuned_svm.predict(X_train)\n",
    "print(f1_score(y_pred, y_train[:,0], average = \"macro\"))\n",
    "y_pred_test = tuned_svm.predict(X_test)\n",
    "print(f1_score(y_pred_test, y_test[:,0], average = \"macro\"))\n",
    "\n",
    "\n",
    "print(str((end - start)) + ' mins')"
   ]
  },
  {
   "cell_type": "markdown",
   "metadata": {},
   "source": [
    "## NuSVC"
   ]
  },
  {
   "cell_type": "code",
   "execution_count": 52,
   "metadata": {},
   "outputs": [
    {
     "name": "stdout",
     "output_type": "stream",
     "text": [
      "SVM classifier accuracy: 0.6799126183293457\n",
      "SVM classifier accuracy - test set: 0.6915797136617325\n",
      "0.4509202948812156\n",
      "0.4484762205109116\n"
     ]
    }
   ],
   "source": [
    "from sklearn.svm import NuSVC\n",
    "## the largst nu I was allowed\n",
    "svm = NuSVC(nu = 0.05)\n",
    "svm.fit(X_train, y_train[:,0])\n",
    "\n",
    "print(f'SVM classifier accuracy: {svm.score(X_train, y_train[:,0])}')\n",
    "print(f'SVM classifier accuracy - test set: {svm.score(X_test, y_test[:,0])}')\n",
    "y_pred = svm.predict(X_train)\n",
    "print(f1_score(y_pred, y_train[:,0], average = \"macro\"))\n",
    "y_pred_test = svm.predict(X_test)\n",
    "print(f1_score(y_pred_test, y_test[:,0], average = \"macro\"))"
   ]
  },
  {
   "cell_type": "markdown",
   "metadata": {},
   "source": [
    "## On normalized data:"
   ]
  },
  {
   "cell_type": "code",
   "execution_count": 39,
   "metadata": {},
   "outputs": [
    {
     "name": "stdout",
     "output_type": "stream",
     "text": [
      "[0.31011812 0.94981285 0.         0.         0.00523017 0.00523017\n",
      " 0.00523017 0.01046033 0.         0.00523017 0.01046033 0.00523017\n",
      " 0.         0.00523017 0.01046033 0.01046033 0.00523017 0.\n",
      " 0.         0.00523017 0.01046033 0.         0.00523017 0.01046033\n",
      " 0.00523017 0.         0.00523017 0.01046033 0.01046033 0.00523017\n",
      " 0.         0.00261508 0.00261508 0.02092066 0.         0.00523017]\n",
      "[0. 0. 0. 0. 1.]\n"
     ]
    }
   ],
   "source": [
    "from sklearn import preprocessing\n",
    "\n",
    "normalized_data = preprocessing.normalize(X_shuffled)\n",
    "normalized_target = preprocessing.normalize(y_shuffled)\n",
    "print(normalized_data[0,:])\n",
    "print(normalized_target[0,:])"
   ]
  },
  {
   "cell_type": "code",
   "execution_count": 40,
   "metadata": {},
   "outputs": [
    {
     "name": "stdout",
     "output_type": "stream",
     "text": [
      "(9613, 36)\n",
      "(4121, 36)\n",
      "(9613, 5)\n",
      "(4121, 5)\n",
      "(400, 36)\n",
      "(200, 36)\n",
      "(400, 5)\n",
      "(200, 5)\n"
     ]
    }
   ],
   "source": [
    "from sklearn.model_selection import train_test_split\n",
    "\n",
    "X_train_norm, X_test_norm, y_train_norm, y_test_norm = train_test_split(normalized_data, y_shuffled,test_size=0.3, random_state=40)\n",
    "print(X_train_norm.shape); print(X_test_norm.shape)\n",
    "print(y_train_norm.shape); print(y_test_norm.shape)\n",
    "X_train_reduced_norm, y_train_reduced_norm = X_train_norm[0:400], y_train_norm[0:400]\n",
    "X_test_reduced_norm, y_test_reduced_norm = X_test_norm[0:200], y_test_norm[0:200]\n",
    "print(X_train_reduced_norm.shape); print(X_test_reduced_norm.shape)\n",
    "print(y_train_reduced_norm.shape); print(y_test_reduced_norm.shape)"
   ]
  },
  {
   "cell_type": "code",
   "execution_count": 41,
   "metadata": {},
   "outputs": [
    {
     "name": "stdout",
     "output_type": "stream",
     "text": [
      "SVM classifier accuracy: 0.9710808280453552\n",
      "SVM classifier accuracy - test set: 0.9728221305508372\n",
      "0.492664133417775\n",
      "0.49311193111931123\n"
     ]
    }
   ],
   "source": [
    "##imbalanced\n",
    "svm_norm = SVC(C=0.1, gamma='scale', kernel='linear')\n",
    "svm_norm.fit(X_train_norm, y_train_norm[:,0])\n",
    "print(f'SVM classifier accuracy: {svm_norm.score(X_train_norm, y_train_norm[:,0])}')\n",
    "print(f'SVM classifier accuracy - test set: {svm_norm.score(X_test_norm, y_test_norm[:,0])}')\n",
    "\n",
    "y_pred_norm = svm_norm.predict(X_train_norm)\n",
    "print(f1_score(y_pred_norm, y_train_norm[:,0], average = \"macro\"))\n",
    "y_pred_test_norm = svm_norm.predict(X_test_norm)\n",
    "print(f1_score(y_pred_test_norm, y_test_norm[:,0], average = \"macro\"))"
   ]
  },
  {
   "cell_type": "code",
   "execution_count": 42,
   "metadata": {},
   "outputs": [
    {
     "name": "stdout",
     "output_type": "stream",
     "text": [
      "SVM classifier accuracy: 0.962030583584729\n",
      "SVM classifier accuracy - test set: 0.9633584081533608\n",
      "0.5211599497952466\n",
      "0.5217129975150667\n"
     ]
    }
   ],
   "source": [
    "##auto balancing\n",
    "##has_dep_diag\n",
    "svm_norm = SVC(C=0.1, gamma='scale', kernel='linear', class_weight = 'balanced')\n",
    "svm_norm.fit(X_train_norm, y_train_norm[:,0])\n",
    "print(f'SVM classifier accuracy: {svm_norm.score(X_train_norm, y_train_norm[:,0])}')\n",
    "print(f'SVM classifier accuracy - test set: {svm_norm.score(X_test_norm, y_test_norm[:,0])}')\n",
    "\n",
    "y_pred_norm = svm_norm.predict(X_train_norm)\n",
    "print(f1_score(y_pred_norm, y_train_norm[:,0], average = \"macro\"))\n",
    "y_pred_test_norm = svm_norm.predict(X_test_norm)\n",
    "print(f1_score(y_pred_test_norm, y_test_norm[:,0], average = \"macro\"))"
   ]
  },
  {
   "cell_type": "markdown",
   "metadata": {},
   "source": [
    "#### other targets:"
   ]
  },
  {
   "cell_type": "code",
   "execution_count": null,
   "metadata": {},
   "outputs": [],
   "source": [
    "##auto balancing\n",
    "##secd_diag\n",
    "svm = SVC(C=0.1, gamma='scale', kernel='linear', class_weight = 'balanced')\n",
    "svm.fit(X_train, y_train[:,1])\n",
    "print(f'SVM classifier accuracy: {svm.score(X_train, y_train[:,1])}')\n",
    "print(f'SVM classifier accuracy - test set: {svm.score(X_test, y_test[:,1])}')\n",
    "\n",
    "y_pred = svm.predict(X_train)\n",
    "print(f1_score(y_pred, y_train[:,1], average = \"macro\"))\n",
    "y_pred_test = svm.predict(X_test)\n",
    "print(f1_score(y_pred_test, y_test[:,1], average = \"macro\"))"
   ]
  },
  {
   "cell_type": "code",
   "execution_count": null,
   "metadata": {},
   "outputs": [],
   "source": [
    "##auto balancing\n",
    "##prim_diag\n",
    "svm = SVC(C=0.1, gamma='scale', kernel='linear', class_weight = 'balanced')\n",
    "svm.fit(X_train, y_train[:,2])\n",
    "print(f'SVM classifier accuracy: {svm.score(X_train, y_train[:,2])}')\n",
    "print(f'SVM classifier accuracy - test set: {svm.score(X_test, y_test[:,2])}')\n",
    "\n",
    "y_pred = svm.predict(X_train)\n",
    "print(f1_score(y_pred, y_train[:,2], average = \"macro\"))\n",
    "y_pred_test = svm.predict(X_test)\n",
    "print(f1_score(y_pred_test, y_test[:,2], average = \"macro\"))"
   ]
  },
  {
   "cell_type": "code",
   "execution_count": null,
   "metadata": {},
   "outputs": [],
   "source": [
    "##auto balancing\n",
    "##dep_score\n",
    "svm = SVC(C=0.1, gamma='scale', kernel='linear', class_weight = 'balanced')\n",
    "svm.fit(X_train, y_train[:,3])\n",
    "print(f'SVM classifier accuracy: {svm.score(X_train, y_train[:,3])}')\n",
    "print(f'SVM classifier accuracy - test set: {svm.score(X_test, y_test[:,3])}')\n",
    "\n",
    "y_pred = svm.predict(X_train)\n",
    "print(f1_score(y_pred, y_train[:,3], average = \"macro\"))\n",
    "y_pred_test = svm.predict(X_test)\n",
    "print(f1_score(y_pred_test, y_test[:,3], average = \"macro\"))"
   ]
  },
  {
   "cell_type": "code",
   "execution_count": null,
   "metadata": {},
   "outputs": [],
   "source": [
    "##auto balancing\n",
    "##dep_thoughts\n",
    "svm = SVC(C=0.1, gamma='scale', kernel='linear', class_weight = 'balanced')\n",
    "svm.fit(X_train, y_train[:,4])\n",
    "print(f'SVM classifier accuracy: {svm.score(X_train, y_train[:,4])}')\n",
    "print(f'SVM classifier accuracy - test set: {svm.score(X_test, y_test[:,4])}')\n",
    "\n",
    "y_pred = svm.predict(X_train)\n",
    "print(f1_score(y_pred, y_train[:,4], average = \"macro\"))\n",
    "y_pred_test = svm.predict(X_test)\n",
    "print(f1_score(y_pred_test, y_test[:,4], average = \"macro\"))"
   ]
  },
  {
   "cell_type": "markdown",
   "metadata": {},
   "source": [
    "## Random over and undersampling:"
   ]
  },
  {
   "cell_type": "code",
   "execution_count": 14,
   "metadata": {},
   "outputs": [
    {
     "name": "stdout",
     "output_type": "stream",
     "text": [
      "(400, 36)\n",
      "(400, 5)\n",
      "(200, 36)\n",
      "(200, 36)\n",
      "(200, 5)\n",
      "(200, 5)\n"
     ]
    }
   ],
   "source": [
    "from itertools import chain, combinations\n",
    "from scipy import stats\n",
    "#dep = np.random.choice(df,replace = False, size = n)\n",
    "dep = data5.query('has_dep_diag in [1.0]')\n",
    "dep = dep.sample(n = 200, random_state = 1)\n",
    "no_dep = data5.query('has_dep_diag in [0.0]')\n",
    "no_dep = no_dep.sample(n = 200, random_state = 1)\n",
    "\n",
    "balanced = dep.append(no_dep)\n",
    "\n",
    "Xb = balanced.drop(['has_dep_diag'],axis=1).drop(['secd_diag'],axis=1).drop(['prim_diag'],axis=1).drop(['dep_score'],axis=1).drop(['dep_thoughts'],axis=1).drop(['panic_score'], axis=1)\n",
    "print(Xb.shape)\n",
    "Yb = np.column_stack((balanced['has_dep_diag'], balanced['secd_diag'], balanced['prim_diag'], balanced['dep_score'], balanced['dep_thoughts']))\n",
    "print(Yb.shape)\n",
    "\n",
    "Xb_shuffled = Xb\n",
    "yb_shuffled = Yb\n",
    "shuffle_dataset(200, pd. DataFrame(Xb), pd. DataFrame(Yb), pd. DataFrame(Xb_shuffled), pd. DataFrame(yb_shuffled))\n",
    "\n",
    "Xb_train, Xb_test, yb_train, yb_test = train_test_split(Xb_shuffled, yb_shuffled,test_size=0.5, random_state=40)\n",
    "print(Xb_train.shape); print(Xb_test.shape)\n",
    "print(yb_train.shape); print(yb_test.shape)\n",
    "#def random_sampling(df, n):\n",
    " #   random_sample = np.random.choice(df,replace = False, size = n)\n",
    "  #  return(random_sample)\n",
    "#randomSample = random_sampling(population_df, N)"
   ]
  },
  {
   "cell_type": "code",
   "execution_count": 15,
   "metadata": {},
   "outputs": [
    {
     "name": "stdout",
     "output_type": "stream",
     "text": [
      "SVM classifier accuracy: 0.79\n",
      "SVM classifier accuracy - test set: 0.62\n",
      "0.7899999999999999\n",
      "0.6199619961996199\n"
     ]
    }
   ],
   "source": [
    "svm_b = SVC(C=0.1, gamma='scale', kernel='linear')\n",
    "svm_b.fit(Xb_train, yb_train[:,0])\n",
    "print(f'SVM classifier accuracy: {svm_b.score(Xb_train, yb_train[:,0])}')\n",
    "print(f'SVM classifier accuracy - test set: {svm_b.score(Xb_test, yb_test[:,0])}')\n",
    "\n",
    "y_pred = svm_b.predict(Xb_train)\n",
    "print(f1_score(y_pred, yb_train[:,0], average = \"macro\"))\n",
    "y_pred_test = svm_b.predict(Xb_test)\n",
    "print(f1_score(y_pred_test, yb_test[:,0], average = \"macro\"))"
   ]
  },
  {
   "cell_type": "code",
   "execution_count": 16,
   "metadata": {},
   "outputs": [
    {
     "name": "stdout",
     "output_type": "stream",
     "text": [
      "SVM classifier accuracy: 0.6619161552064912\n",
      "SVM classifier accuracy - test set: 0.6622179082746906\n",
      "0.4493111950285054\n",
      "0.4436456235199916\n"
     ]
    }
   ],
   "source": [
    "print(f'SVM classifier accuracy: {svm_b.score(X_train, y_train[:,0])}')\n",
    "print(f'SVM classifier accuracy - test set: {svm_b.score(X_test, y_test[:,0])}')\n",
    "\n",
    "y_pred = svm_b.predict(X_train)\n",
    "print(f1_score(y_pred, y_train[:,0], average = \"macro\"))\n",
    "y_pred_test = svm_b.predict(X_test)\n",
    "print(f1_score(y_pred_test, y_test[:,0], average = \"macro\"))"
   ]
  },
  {
   "cell_type": "markdown",
   "metadata": {},
   "source": [
    "#### random sample + normalisation"
   ]
  },
  {
   "cell_type": "code",
   "execution_count": 65,
   "metadata": {},
   "outputs": [
    {
     "name": "stdout",
     "output_type": "stream",
     "text": [
      "[0.33008443 0.93922408 0.         0.00569745 0.00569745 0.01139489\n",
      " 0.00569745 0.01139489 0.         0.00569745 0.00569745 0.00569745\n",
      " 0.00569745 0.00569745 0.01139489 0.00569745 0.00569745 0.00569745\n",
      " 0.00569745 0.00569745 0.01139489 0.         0.00569745 0.00569745\n",
      " 0.00569745 0.00569745 0.00569745 0.01139489 0.00569745 0.00569745\n",
      " 0.         0.00284872 0.08546168 0.01709234 0.         0.        ]\n",
      "[0.09128709 0.09128709 0.91287093 0.27386128 0.27386128]\n",
      "(200, 36)\n",
      "(200, 36)\n",
      "(200, 5)\n",
      "(200, 5)\n",
      "(200, 36)\n",
      "(200, 36)\n",
      "(200, 5)\n",
      "(200, 5)\n"
     ]
    }
   ],
   "source": [
    "normalized_data = preprocessing.normalize(Xb_shuffled)\n",
    "normalized_target = preprocessing.normalize(yb_shuffled)\n",
    "print(normalized_data[0,:])\n",
    "print(normalized_target[0,:])\n",
    "\n",
    "X_train_norm, X_test_norm, y_train_norm, y_test_norm = train_test_split(normalized_data, yb_shuffled,test_size=0.5, random_state=40)\n",
    "print(X_train_norm.shape); print(X_test_norm.shape)\n",
    "print(y_train_norm.shape); print(y_test_norm.shape)\n",
    "X_train_reduced_norm, y_train_reduced_norm = X_train_norm[0:400], y_train_norm[0:400]\n",
    "X_test_reduced_norm, y_test_reduced_norm = X_test_norm[0:200], y_test_norm[0:200]\n",
    "print(X_train_reduced_norm.shape); print(X_test_reduced_norm.shape)\n",
    "print(y_train_reduced_norm.shape); print(y_test_reduced_norm.shape)"
   ]
  },
  {
   "cell_type": "code",
   "execution_count": 68,
   "metadata": {},
   "outputs": [
    {
     "name": "stdout",
     "output_type": "stream",
     "text": [
      "SVM classifier accuracy: 0.505\n",
      "SVM classifier accuracy - test set: 0.495\n",
      "0.3355481727574751\n",
      "0.33110367892976583\n"
     ]
    }
   ],
   "source": [
    "svm_norm = SVC(C=0.1, gamma='scale', kernel='linear')\n",
    "svm_norm.fit(X_train_norm, y_train_norm[:,0])\n",
    "print(f'SVM classifier accuracy: {svm_norm.score(X_train_norm, y_train_norm[:,0])}')\n",
    "print(f'SVM classifier accuracy - test set: {svm_norm.score(X_test_norm, y_test_norm[:,0])}')\n",
    "\n",
    "y_pred_norm = svm_norm.predict(X_train_norm)\n",
    "print(f1_score(y_pred_norm, y_train_norm[:,0], average = \"macro\"))\n",
    "y_pred_test_norm = svm_norm.predict(X_test_norm)\n",
    "print(f1_score(y_pred_test_norm, y_test_norm[:,0], average = \"macro\"))"
   ]
  },
  {
   "cell_type": "markdown",
   "metadata": {},
   "source": [
    "## Decision Boundaries"
   ]
  },
  {
   "cell_type": "markdown",
   "metadata": {},
   "source": [
    "SVC on the deataset with reduced dimensionality (PCA)"
   ]
  },
  {
   "cell_type": "code",
   "execution_count": 32,
   "metadata": {
    "code_folding": [
     0
    ]
   },
   "outputs": [
    {
     "name": "stdout",
     "output_type": "stream",
     "text": [
      "SVM classifier accuracy: 0.9525\n",
      "SVM classifier accuracy - test set: 0.98\n",
      "0.48783610755441736\n",
      "0.494949494949495\n"
     ]
    }
   ],
   "source": [
    "#non-normalized\n",
    "from sklearn.decomposition import PCA\n",
    "\n",
    "pca = PCA(n_components=2)\n",
    "X_pca = pca.fit_transform(X_train_reduced)\n",
    "X_test_pca = pca.fit_transform(X_test_reduced)\n",
    "\n",
    "svm_pca = SVC(C=0.1, gamma='scale', kernel='linear', class_weight = 'balanced')\n",
    "svm_pca.fit(X_pca, y_train_reduced[:,0])\n",
    "print(f'SVM classifier accuracy: {svm_pca.score(X_pca, y_train_reduced[:,0])}')\n",
    "print(f'SVM classifier accuracy - test set: {svm_pca.score(X_test_pca, y_test_reduced[:,0])}')\n",
    "y_pred = svm_pca.predict(X_pca)\n",
    "print(f1_score(y_pred, y_train_reduced[:,0], average = \"macro\"))\n",
    "y_pred_test = svm_pca.predict(X_test_pca)\n",
    "print(f1_score(y_pred_test, y_test_reduced[:,0], average = \"macro\"))"
   ]
  },
  {
   "cell_type": "code",
   "execution_count": 57,
   "metadata": {
    "code_folding": [
     0
    ]
   },
   "outputs": [
    {
     "name": "stdout",
     "output_type": "stream",
     "text": [
      "SVM classifier accuracy: 0.9525\n",
      "SVM classifier accuracy - test set: 0.98\n",
      "0.48783610755441736\n",
      "0.494949494949495\n"
     ]
    }
   ],
   "source": [
    "#normalized\n",
    "from sklearn.decomposition import PCA\n",
    "\n",
    "pca = PCA(n_components=2)\n",
    "X_pca = pca.fit_transform(X_train_reduced_norm)\n",
    "X_test_pca = pca.fit_transform(X_test_reduced_norm)\n",
    "\n",
    "svm_pca = SVC(C=0.1, gamma='scale', kernel='linear', class_weight = 'balanced')\n",
    "svm_pca.fit(X_pca, y_train_reduced_norm[:,0])\n",
    "print(f'SVM classifier accuracy: {svm_pca.score(X_pca, y_train_reduced_norm[:,0])}')\n",
    "print(f'SVM classifier accuracy - test set: {svm_pca.score(X_test_pca, y_test_reduced_norm[:,0])}')\n",
    "y_pred = svm_pca.predict(X_pca)\n",
    "print(f1_score(y_pred, y_train_reduced_norm[:,0], average = \"macro\"))\n",
    "y_pred_test = svm_pca.predict(X_test_pca)\n",
    "print(f1_score(y_pred_test, y_test_reduced_norm[:,0], average = \"macro\"))"
   ]
  },
  {
   "cell_type": "code",
   "execution_count": 58,
   "metadata": {
    "code_folding": []
   },
   "outputs": [],
   "source": [
    "from matplotlib.colors import ListedColormap\n",
    "def plot_decision_boundaries(X, y, model, title):\n",
    "    x_min, x_max = X[:, 0].min() - 1, X[:, 0].max() + 1\n",
    "    y_min, y_max = X[:, 1].min() - 1, X[:, 1].max() + 1\n",
    "    xx, yy = np.meshgrid(np.arange(x_min, x_max, 0.1), np.arange(y_min, y_max, 0.1))\n",
    "    Z = model.predict(np.c_[xx.ravel(), yy.ravel()])\n",
    "    Z = Z.reshape(xx.shape)\n",
    "    colors = {0.0:'red', 1.0:'green'}  \n",
    "    print(Z.shape)\n",
    "    print(Z.ravel().shape)\n",
    "    print(X[:, 0].shape)\n",
    "    print(X[:, 1].shape)\n",
    "    \n",
    "    colored_labels = np.array([colors[xi] for xi in y]) #Z.ravel()\n",
    "    plt.contourf(xx, yy, Z, cmap='viridis')\n",
    "\n",
    "\n",
    "    cb = plt.colorbar()\n",
    "    plt.xlim(xx.min(), xx.max())\n",
    "    plt.ylim(yy.min(), yy.max())\n",
    "    plt.xlabel(\"PC1\")\n",
    "    plt.ylabel(\"PC2\")\n",
    "    plt.title(title)\n",
    "    plt.scatter(X[:, 0], X[:, 1], c=colored_labels, cmap='viridis', s=10)\n",
    "\n",
    "    plt.show()"
   ]
  },
  {
   "cell_type": "code",
   "execution_count": 59,
   "metadata": {},
   "outputs": [
    {
     "name": "stdout",
     "output_type": "stream",
     "text": [
      "(24, 25)\n",
      "(600,)\n",
      "(400,)\n",
      "(400,)\n"
     ]
    },
    {
     "data": {
      "image/png": "[encoded data removed]",
      "text/plain": [
       "<Figure size 432x288 with 2 Axes>"
      ]
     },
     "metadata": {
      "needs_background": "light"
     },
     "output_type": "display_data"
    }
   ],
   "source": [
    "##can break the whole notebook on the non-normalized PCA\n",
    "plot_decision_boundaries(X_pca, y_train_reduced[:,0], svm_pca, 'Decision Boundaries')\n"
   ]
  },
  {
   "cell_type": "markdown",
   "metadata": {},
   "source": [
    "## ROC Curves"
   ]
  },
  {
   "cell_type": "markdown",
   "metadata": {},
   "source": [
    "Imbalanced train set, imbalanced evaluation"
   ]
  },
  {
   "cell_type": "code",
   "execution_count": 17,
   "metadata": {},
   "outputs": [
    {
     "name": "stdout",
     "output_type": "stream",
     "text": [
      "SVM classifier accuracy: 0.9710808280453552\n",
      "SVM classifier accuracy - test set: 0.9728221305508372\n",
      "0.492664133417775\n",
      "0.49311193111931123\n"
     ]
    }
   ],
   "source": [
    "svm = SVC(C=0.1, gamma='scale', kernel='linear')\n",
    "svm.fit(X_train, y_train[:,0])\n",
    "print(f'SVM classifier accuracy: {svm.score(X_train, y_train[:,0])}')\n",
    "print(f'SVM classifier accuracy - test set: {svm.score(X_test, y_test[:,0])}')\n",
    "\n",
    "y_pred = svm.predict(X_train)\n",
    "print(f1_score(y_pred, y_train[:,0], average = \"macro\"))\n",
    "y_pred_test = svm.predict(X_test)\n",
    "print(f1_score(y_pred_test, y_test[:,0], average = \"macro\"))"
   ]
  },
  {
   "cell_type": "code",
   "execution_count": 18,
   "metadata": {},
   "outputs": [
    {
     "data": {
      "image/png": "[encoded data removed]",
      "text/plain": [
       "<Figure size 432x288 with 1 Axes>"
      ]
     },
     "metadata": {
      "needs_background": "light"
     },
     "output_type": "display_data"
    }
   ],
   "source": [
    "import sklearn.metrics as metrics\n",
    "preds = svm.predict(X_test)\n",
    "fpr, tpr, threshold = metrics.roc_curve(y_test[:,0], preds)\n",
    "roc_auc = metrics.auc(fpr, tpr)\n",
    "\n",
    "import matplotlib.pyplot as plt\n",
    "plt.title('Receiver Operating Characteristic')\n",
    "plt.plot(fpr, tpr, 'b', label = 'AUC = %0.2f' % roc_auc)\n",
    "plt.legend(loc = 'lower right')\n",
    "plt.plot([0, 1], [0, 1],'r--')\n",
    "plt.xlim([0, 1])\n",
    "plt.ylim([0, 1])\n",
    "plt.ylabel('True Positive Rate')\n",
    "plt.xlabel('False Positive Rate')\n",
    "plt.show()"
   ]
  },
  {
   "cell_type": "markdown",
   "metadata": {},
   "source": [
    "Balanced train set, imbalanced evaluation"
   ]
  },
  {
   "cell_type": "code",
   "execution_count": 19,
   "metadata": {},
   "outputs": [
    {
     "name": "stdout",
     "output_type": "stream",
     "text": [
      "SVM classifier accuracy: 0.79\n",
      "SVM classifier accuracy - test set: 0.62\n",
      "0.4493111950285054\n",
      "0.4436456235199916\n"
     ]
    }
   ],
   "source": [
    "svm_b = SVC(C=0.1, gamma='scale', kernel='linear')\n",
    "svm_b.fit(Xb_train, yb_train[:,0])\n",
    "print(f'SVM classifier accuracy: {svm_b.score(Xb_train, yb_train[:,0])}')\n",
    "print(f'SVM classifier accuracy - test set: {svm_b.score(Xb_test, yb_test[:,0])}')\n",
    "\n",
    "y_pred = svm_b.predict(X_train)\n",
    "print(f1_score(y_pred, y_train[:,0], average = \"macro\"))\n",
    "y_pred_test = svm_b.predict(X_test)\n",
    "print(f1_score(y_pred_test, y_test[:,0], average = \"macro\"))"
   ]
  },
  {
   "cell_type": "code",
   "execution_count": 20,
   "metadata": {},
   "outputs": [
    {
     "data": {
      "image/png": "[encoded data removed]",
      "text/plain": [
       "<Figure size 432x288 with 1 Axes>"
      ]
     },
     "metadata": {
      "needs_background": "light"
     },
     "output_type": "display_data"
    }
   ],
   "source": [
    "import sklearn.metrics as metrics\n",
    "preds = svm_b.predict(X_test)\n",
    "fpr, tpr, threshold = metrics.roc_curve(y_test[:,0], preds)\n",
    "roc_auc = metrics.auc(fpr, tpr)\n",
    "\n",
    "import matplotlib.pyplot as plt\n",
    "plt.title('Receiver Operating Characteristic')\n",
    "plt.plot(fpr, tpr, 'b', label = 'AUC = %0.2f' % roc_auc)\n",
    "plt.legend(loc = 'lower right')\n",
    "plt.plot([0, 1], [0, 1],'r--')\n",
    "plt.xlim([0, 1])\n",
    "plt.ylim([0, 1])\n",
    "plt.ylabel('True Positive Rate')\n",
    "plt.xlabel('False Positive Rate')\n",
    "plt.show()"
   ]
  },
  {
   "cell_type": "markdown",
   "metadata": {},
   "source": [
    "Imbalanced train set, balanced evaluation"
   ]
  },
  {
   "cell_type": "code",
   "execution_count": 21,
   "metadata": {},
   "outputs": [
    {
     "name": "stdout",
     "output_type": "stream",
     "text": [
      "SVM classifier accuracy: 0.505\n",
      "SVM classifier accuracy - test set: 0.495\n",
      "0.3355481727574751\n",
      "0.33110367892976583\n"
     ]
    }
   ],
   "source": [
    "svm = SVC(C=0.1, gamma='scale', kernel='linear')\n",
    "svm.fit(X_train, y_train[:,0])\n",
    "print(f'SVM classifier accuracy: {svm.score(Xb_train, yb_train[:,0])}')\n",
    "print(f'SVM classifier accuracy - test set: {svm.score(Xb_test, yb_test[:,0])}')\n",
    "\n",
    "y_pred = svm.predict(Xb_train)\n",
    "print(f1_score(y_pred, yb_train[:,0], average = \"macro\"))\n",
    "y_pred_test = svm.predict(Xb_test)\n",
    "print(f1_score(y_pred_test, yb_test[:,0], average = \"macro\"))"
   ]
  },
  {
   "cell_type": "code",
   "execution_count": 22,
   "metadata": {},
   "outputs": [
    {
     "data": {
      "image/png": "[encoded data removed]",
      "text/plain": [
       "<Figure size 432x288 with 1 Axes>"
      ]
     },
     "metadata": {
      "needs_background": "light"
     },
     "output_type": "display_data"
    }
   ],
   "source": [
    "import sklearn.metrics as metrics\n",
    "preds = svm.predict(Xb_test)\n",
    "fpr, tpr, threshold = metrics.roc_curve(yb_test[:,0], preds)\n",
    "roc_auc = metrics.auc(fpr, tpr)\n",
    "\n",
    "import matplotlib.pyplot as plt\n",
    "plt.title('Receiver Operating Characteristic')\n",
    "plt.plot(fpr, tpr, 'b', label = 'AUC = %0.2f' % roc_auc)\n",
    "plt.legend(loc = 'lower right')\n",
    "plt.plot([0, 1], [0, 1],'r--')\n",
    "plt.xlim([0, 1])\n",
    "plt.ylim([0, 1])\n",
    "plt.ylabel('True Positive Rate')\n",
    "plt.xlabel('False Positive Rate')\n",
    "plt.show()"
   ]
  },
  {
   "cell_type": "markdown",
   "metadata": {},
   "source": [
    "Balanced train set, balanced evaluation"
   ]
  },
  {
   "cell_type": "code",
   "execution_count": 23,
   "metadata": {},
   "outputs": [
    {
     "name": "stdout",
     "output_type": "stream",
     "text": [
      "SVM classifier accuracy: 0.505\n",
      "SVM classifier accuracy - test set: 0.495\n",
      "0.7899999999999999\n",
      "0.6199619961996199\n"
     ]
    }
   ],
   "source": [
    "svm_b = SVC(C=0.1, gamma='scale', kernel='linear')\n",
    "svm_b.fit(Xb_train, yb_train[:,0])\n",
    "print(f'SVM classifier accuracy: {svm.score(Xb_train, yb_train[:,0])}')\n",
    "print(f'SVM classifier accuracy - test set: {svm.score(Xb_test, yb_test[:,0])}')\n",
    "\n",
    "y_pred = svm_b.predict(Xb_train)\n",
    "print(f1_score(y_pred, yb_train[:,0], average = \"macro\"))\n",
    "y_pred_test = svm_b.predict(Xb_test)\n",
    "print(f1_score(y_pred_test, yb_test[:,0], average = \"macro\"))"
   ]
  },
  {
   "cell_type": "code",
   "execution_count": 24,
   "metadata": {},
   "outputs": [
    {
     "data": {
      "image/png": "[encoded data removed]",
      "text/plain": [
       "<Figure size 432x288 with 1 Axes>"
      ]
     },
     "metadata": {
      "needs_background": "light"
     },
     "output_type": "display_data"
    }
   ],
   "source": [
    "import sklearn.metrics as metrics\n",
    "preds = svm_b.predict(Xb_test)\n",
    "fpr, tpr, threshold = metrics.roc_curve(yb_test[:,0], preds)\n",
    "roc_auc = metrics.auc(fpr, tpr)\n",
    "\n",
    "import matplotlib.pyplot as plt\n",
    "plt.title('Receiver Operating Characteristic')\n",
    "plt.plot(fpr, tpr, 'b', label = 'AUC = %0.2f' % roc_auc)\n",
    "plt.legend(loc = 'lower right')\n",
    "plt.plot([0, 1], [0, 1],'r--')\n",
    "plt.xlim([0, 1])\n",
    "plt.ylim([0, 1])\n",
    "plt.ylabel('True Positive Rate')\n",
    "plt.xlabel('False Positive Rate')\n",
    "plt.show()"
   ]
  },
  {
   "cell_type": "markdown",
   "metadata": {},
   "source": [
    "Normalized"
   ]
  },
  {
   "cell_type": "code",
   "execution_count": 35,
   "metadata": {},
   "outputs": [
    {
     "ename": "NameError",
     "evalue": "name 'svm_norm' is not defined",
     "output_type": "error",
     "traceback": [
      "\u001b[0;31m---------------------------------------------------------------------------\u001b[0m",
      "\u001b[0;31mNameError\u001b[0m                                 Traceback (most recent call last)",
      "\u001b[0;32m<ipython-input-35-a7cdbe777aa8>\u001b[0m in \u001b[0;36m<module>\u001b[0;34m\u001b[0m\n\u001b[1;32m      1\u001b[0m \u001b[0;32mimport\u001b[0m \u001b[0msklearn\u001b[0m\u001b[0;34m.\u001b[0m\u001b[0mmetrics\u001b[0m \u001b[0;32mas\u001b[0m \u001b[0mmetrics\u001b[0m\u001b[0;34m\u001b[0m\u001b[0;34m\u001b[0m\u001b[0m\n\u001b[0;32m----> 2\u001b[0;31m \u001b[0mpreds\u001b[0m \u001b[0;34m=\u001b[0m \u001b[0msvm_norm\u001b[0m\u001b[0;34m.\u001b[0m\u001b[0mpredict\u001b[0m\u001b[0;34m(\u001b[0m\u001b[0mX_test_reduced_norm\u001b[0m\u001b[0;34m)\u001b[0m\u001b[0;34m\u001b[0m\u001b[0;34m\u001b[0m\u001b[0m\n\u001b[0m\u001b[1;32m      3\u001b[0m \u001b[0mfpr\u001b[0m\u001b[0;34m,\u001b[0m \u001b[0mtpr\u001b[0m\u001b[0;34m,\u001b[0m \u001b[0mthreshold\u001b[0m \u001b[0;34m=\u001b[0m \u001b[0mmetrics\u001b[0m\u001b[0;34m.\u001b[0m\u001b[0mroc_curve\u001b[0m\u001b[0;34m(\u001b[0m\u001b[0my_test_reduced\u001b[0m\u001b[0;34m[\u001b[0m\u001b[0;34m:\u001b[0m\u001b[0;34m,\u001b[0m\u001b[0;36m0\u001b[0m\u001b[0;34m]\u001b[0m\u001b[0;34m,\u001b[0m \u001b[0mpreds\u001b[0m\u001b[0;34m)\u001b[0m\u001b[0;34m\u001b[0m\u001b[0;34m\u001b[0m\u001b[0m\n\u001b[1;32m      4\u001b[0m \u001b[0mroc_auc\u001b[0m \u001b[0;34m=\u001b[0m \u001b[0mmetrics\u001b[0m\u001b[0;34m.\u001b[0m\u001b[0mauc\u001b[0m\u001b[0;34m(\u001b[0m\u001b[0mfpr\u001b[0m\u001b[0;34m,\u001b[0m \u001b[0mtpr\u001b[0m\u001b[0;34m)\u001b[0m\u001b[0;34m\u001b[0m\u001b[0;34m\u001b[0m\u001b[0m\n\u001b[1;32m      5\u001b[0m \u001b[0;34m\u001b[0m\u001b[0m\n",
      "\u001b[0;31mNameError\u001b[0m: name 'svm_norm' is not defined"
     ]
    }
   ],
   "source": [
    "import sklearn.metrics as metrics\n",
    "preds = svm_norm.predict(X_test_reduced_norm)\n",
    "fpr, tpr, threshold = metrics.roc_curve(y_test_reduced[:,0], preds)\n",
    "roc_auc = metrics.auc(fpr, tpr)\n",
    "\n",
    "import matplotlib.pyplot as plt\n",
    "plt.title('Receiver Operating Characteristic')\n",
    "plt.plot(fpr, tpr, 'b', label = 'AUC = %0.2f' % roc_auc)\n",
    "plt.legend(loc = 'lower right')\n",
    "plt.plot([0, 1], [0, 1],'r--')\n",
    "plt.xlim([0, 1])\n",
    "plt.ylim([0, 1])\n",
    "plt.ylabel('True Positive Rate')\n",
    "plt.xlabel('False Positive Rate')\n",
    "plt.show()"
   ]
  }
 ],
 "metadata": {
  "kernelspec": {
   "display_name": "Python 3",
   "language": "python",
   "name": "python3"
  },
  "language_info": {
   "codemirror_mode": {
    "name": "ipython",
    "version": 3
   },
   "file_extension": ".py",
   "mimetype": "text/x-python",
   "name": "python",
   "nbconvert_exporter": "python",
   "pygments_lexer": "ipython3",
   "version": "3.8.5"
  }
 },
 "nbformat": 4,
 "nbformat_minor": 4
}
