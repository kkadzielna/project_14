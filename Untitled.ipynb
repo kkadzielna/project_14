{
 "cells": [
  {
   "cell_type": "code",
   "execution_count": 103,
   "id": "24a2fd58",
   "metadata": {},
   "outputs": [],
   "source": [
    "import os\n",
    "import sys\n",
    "import pandas as pd\n",
    "import numpy as np\n",
    "import time\n",
    "import seaborn as sns\n",
    "from datetime import datetime as dt\n",
    "from datetime import timedelta\n",
    "import datetime\n",
    "\n",
    "import warnings\n",
    "from sklearn.preprocessing import scale\n",
    "from sklearn.ensemble import RandomForestClassifier\n",
    "from sklearn import svm\n",
    "from sklearn.linear_model import LogisticRegression\n",
    "from sklearn.tree import DecisionTreeClassifier\n",
    "from sklearn.neighbors import KNeighborsClassifier\n",
    "from sklearn.model_selection import train_test_split\n",
    "from sklearn.metrics import precision_score\n",
    "from sklearn.metrics import accuracy_score\n",
    "from sklearn.metrics import recall_score\n",
    "from sklearn.metrics import f1_score\n",
    "from sklearn.preprocessing import MinMaxScaler\n",
    "import xgboost as xgb\n",
    "\n",
    "from scipy.stats import poisson\n",
    "from matplotlib import pyplot as plt"
   ]
  },
  {
   "cell_type": "code",
   "execution_count": 104,
   "id": "ff12340c",
   "metadata": {},
   "outputs": [
    {
     "name": "stderr",
     "output_type": "stream",
     "text": [
      "C:\\Users\\moham\\AppData\\Local\\Temp/ipykernel_4280/839043416.py:12: FutureWarning: The frame.append method is deprecated and will be removed from pandas in a future version. Use pandas.concat instead.\n",
      "  full = sample.append(sample2)\n"
     ]
    }
   ],
   "source": [
    "data = pd.read_csv('newdata3.csv').drop(['Unnamed: 0'], axis = 1)\n",
    "full = data.dropna(axis = 0, how = 'any')\n",
    "\n",
    "#attempt at mitigating imbalanced data\n",
    "lim = 8\n",
    "no_dep = full.query('prim_diag <= @lim')\n",
    "has_dep = full.query('prim_diag > @lim')\n",
    "\n",
    "sample = no_dep.sample(n = 400, random_state = 1)\n",
    "sample2 = has_dep.sample(n = 179, random_state = 1)\n",
    "\n",
    "full = sample.append(sample2)"
   ]
  },
  {
   "cell_type": "code",
   "execution_count": 105,
   "id": "fe127930",
   "metadata": {},
   "outputs": [
    {
     "name": "stdout",
     "output_type": "stream",
     "text": [
      "dep_band_15 [  1   5 150 500 700]\n",
      "has_dep_diag [0 1]\n",
      "secd_diag [0 4 1 6 2 5 8 9 7]\n",
      "prim_diag [ 0  1  2  5  8  6  4  7 12 11 10  9]\n",
      "panic_score [0 3 2 1 4]\n",
      "dep_thoughts [1 4 3 2 0 5]\n",
      "dep_score [1 0 3 2 4]\n"
     ]
    },
    {
     "name": "stderr",
     "output_type": "stream",
     "text": [
      "C:\\Users\\moham\\AppData\\Local\\Temp/ipykernel_4280/1726890981.py:5: SettingWithCopyWarning: \n",
      "A value is trying to be set on a copy of a slice from a DataFrame.\n",
      "Try using .loc[row_indexer,col_indexer] = value instead\n",
      "\n",
      "See the caveats in the documentation: https://pandas.pydata.org/pandas-docs/stable/user_guide/indexing.html#returning-a-view-versus-a-copy\n",
      "  y['dep_band_15'] = (y['dep_band_15'] * 10).astype(int)\n",
      "C:\\Users\\moham\\AppData\\Local\\Temp/ipykernel_4280/1726890981.py:7: SettingWithCopyWarning: \n",
      "A value is trying to be set on a copy of a slice from a DataFrame.\n",
      "Try using .loc[row_indexer,col_indexer] = value instead\n",
      "\n",
      "See the caveats in the documentation: https://pandas.pydata.org/pandas-docs/stable/user_guide/indexing.html#returning-a-view-versus-a-copy\n",
      "  y[i] = y[i].astype(int)\n",
      "C:\\Users\\moham\\AppData\\Local\\Temp/ipykernel_4280/1726890981.py:9: SettingWithCopyWarning: \n",
      "A value is trying to be set on a copy of a slice from a DataFrame.\n",
      "Try using .loc[row_indexer,col_indexer] = value instead\n",
      "\n",
      "See the caveats in the documentation: https://pandas.pydata.org/pandas-docs/stable/user_guide/indexing.html#returning-a-view-versus-a-copy\n",
      "  y['has_dep_diag'] = y['has_dep_diag'] + 1\n"
     ]
    }
   ],
   "source": [
    "#target variables\n",
    "dep = [x for x in data.columns if 'dep' in x or 'diag' in x or 'panic' in x]\n",
    "X = full.drop(dep, axis = 1)\n",
    "y = full[dep]\n",
    "y['dep_band_15'] = (y['dep_band_15'] * 10).astype(int)\n",
    "for i in dep:\n",
    "    y[i] = y[i].astype(int)\n",
    "    print(i, y[i].unique())\n",
    "y['has_dep_diag'] = y['has_dep_diag'] + 1\n",
    "for i in X.columns:\n",
    "    X[i] = scale(X[i])"
   ]
  },
  {
   "cell_type": "code",
   "execution_count": 106,
   "id": "282a4023",
   "metadata": {},
   "outputs": [
    {
     "name": "stdout",
     "output_type": "stream",
     "text": [
      "0.5310344827586206 0.5724137931034483 0.5655172413793104 0.5103448275862069 0\n",
      "0.7448275862068966 0.7448275862068966 0.7448275862068966 0.7241379310344828 0\n",
      "0.6896551724137931 0.6620689655172414 0.696551724137931 0.6827586206896552 0\n",
      "0.5586206896551724 0.5379310344827586 0.5586206896551724 0.5241379310344828 0\n",
      "0.9517241379310345 0.9448275862068966 0.9517241379310345 0.9517241379310345 0\n",
      "0.46206896551724136 0.45517241379310347 0.4827586206896552 0.38620689655172413 0\n",
      "0.3931034482758621 0.38620689655172413 0.4206896551724138 0.3448275862068966 0\n"
     ]
    }
   ],
   "source": [
    "clf_random = RandomForestClassifier()\n",
    "clf_logistic = LogisticRegression(max_iter = 1000)\n",
    "clf_svm = svm.SVC(max_iter = 1000)\n",
    "clf_KNN = KNeighborsClassifier()\n",
    "clf_xg = xgb.XGBClassifier()\n",
    "\n",
    "for i in dep:\n",
    "    \n",
    "    target = y[i]\n",
    "    \n",
    "    X_train, X_test, y_train, y_test = train_test_split(X, target, test_size = 0.25, random_state = 30)\n",
    "\n",
    "    clf_random.fit(X_train, y_train)\n",
    "    score_random = clf_random.score(X_test, y_test)\n",
    "    clf_logistic.fit(X_train, y_train)\n",
    "    score_logistic = clf_logistic.score(X_test, y_test)\n",
    "    clf_svm.fit(X_train, y_train)\n",
    "    score_svm = clf_svm.score(X_test, y_test)\n",
    "    clf_KNN.fit(X_train, y_train)\n",
    "    score_KNN = clf_KNN.score(X_test, y_test)\n",
    "    #clf_xg.fit(X_train, y_train)\n",
    "    score_xg = 0#clf_xg.score(X_test, y_test)\n",
    "\n",
    "\n",
    "    print(score_random, score_logistic, score_svm, score_KNN, score_xg)"
   ]
  },
  {
   "cell_type": "code",
   "execution_count": null,
   "id": "b518993e",
   "metadata": {},
   "outputs": [],
   "source": []
  }
 ],
 "metadata": {
  "kernelspec": {
   "display_name": "Python 3",
   "language": "python",
   "name": "python3"
  },
  "language_info": {
   "codemirror_mode": {
    "name": "ipython",
    "version": 3
   },
   "file_extension": ".py",
   "mimetype": "text/x-python",
   "name": "python",
   "nbconvert_exporter": "python",
   "pygments_lexer": "ipython3",
   "version": "3.8.5"
  }
 },
 "nbformat": 4,
 "nbformat_minor": 5
}
