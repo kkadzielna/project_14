{
 "cells": [
  {
   "cell_type": "code",
   "execution_count": 1,
   "metadata": {},
   "outputs": [],
   "source": [
    "import pandas as pd\n",
    "import numpy as np\n",
    "import matplotlib.pyplot as plt\n",
    "from scipy import stats\n",
    "import seaborn as sns\n",
    "import missingno as msno\n",
    "from collections import Counter"
   ]
  },
  {
   "cell_type": "code",
   "execution_count": 2,
   "metadata": {},
   "outputs": [
    {
     "data": {
      "text/html": [
       "<div>\n",
       "<style scoped>\n",
       "    .dataframe tbody tr th:only-of-type {\n",
       "        vertical-align: middle;\n",
       "    }\n",
       "\n",
       "    .dataframe tbody tr th {\n",
       "        vertical-align: top;\n",
       "    }\n",
       "\n",
       "    .dataframe thead th {\n",
       "        text-align: right;\n",
       "    }\n",
       "</style>\n",
       "<table border=\"1\" class=\"dataframe\">\n",
       "  <thead>\n",
       "    <tr style=\"text-align: right;\">\n",
       "      <th></th>\n",
       "      <th>Unnamed: 0</th>\n",
       "      <th>comp_bed_9</th>\n",
       "      <th>mat_dep</th>\n",
       "      <th>mat_age</th>\n",
       "      <th>weight_16</th>\n",
       "      <th>height_16</th>\n",
       "      <th>iq</th>\n",
       "      <th>comp_noint_bed_16</th>\n",
       "      <th>comp_int_bed_16</th>\n",
       "      <th>talk_phon_wend</th>\n",
       "      <th>...</th>\n",
       "      <th>read</th>\n",
       "      <th>text</th>\n",
       "      <th>tran</th>\n",
       "      <th>work</th>\n",
       "      <th>comp</th>\n",
       "      <th>comp_bed_16</th>\n",
       "      <th>tv</th>\n",
       "      <th>talk_mob</th>\n",
       "      <th>talk_phon</th>\n",
       "      <th>fam_tv</th>\n",
       "    </tr>\n",
       "  </thead>\n",
       "  <tbody>\n",
       "    <tr>\n",
       "      <th>0</th>\n",
       "      <td>0</td>\n",
       "      <td>NaN</td>\n",
       "      <td>3.0</td>\n",
       "      <td>30.0</td>\n",
       "      <td>59.294132</td>\n",
       "      <td>181.602831</td>\n",
       "      <td>107.0</td>\n",
       "      <td>False</td>\n",
       "      <td>False</td>\n",
       "      <td>True</td>\n",
       "      <td>...</td>\n",
       "      <td>2.0</td>\n",
       "      <td>2.0</td>\n",
       "      <td>0.0</td>\n",
       "      <td>4.0</td>\n",
       "      <td>True</td>\n",
       "      <td>False</td>\n",
       "      <td>4.0</td>\n",
       "      <td>2.0</td>\n",
       "      <td>1.0</td>\n",
       "      <td>3.0</td>\n",
       "    </tr>\n",
       "    <tr>\n",
       "      <th>1</th>\n",
       "      <td>1</td>\n",
       "      <td>NaN</td>\n",
       "      <td>9.0</td>\n",
       "      <td>26.0</td>\n",
       "      <td>NaN</td>\n",
       "      <td>NaN</td>\n",
       "      <td>85.0</td>\n",
       "      <td>False</td>\n",
       "      <td>False</td>\n",
       "      <td>NaN</td>\n",
       "      <td>...</td>\n",
       "      <td>NaN</td>\n",
       "      <td>NaN</td>\n",
       "      <td>NaN</td>\n",
       "      <td>NaN</td>\n",
       "      <td>False</td>\n",
       "      <td>False</td>\n",
       "      <td>NaN</td>\n",
       "      <td>NaN</td>\n",
       "      <td>NaN</td>\n",
       "      <td>NaN</td>\n",
       "    </tr>\n",
       "    <tr>\n",
       "      <th>2</th>\n",
       "      <td>2</td>\n",
       "      <td>NaN</td>\n",
       "      <td>3.0</td>\n",
       "      <td>24.0</td>\n",
       "      <td>NaN</td>\n",
       "      <td>NaN</td>\n",
       "      <td>NaN</td>\n",
       "      <td>False</td>\n",
       "      <td>False</td>\n",
       "      <td>NaN</td>\n",
       "      <td>...</td>\n",
       "      <td>NaN</td>\n",
       "      <td>NaN</td>\n",
       "      <td>NaN</td>\n",
       "      <td>NaN</td>\n",
       "      <td>False</td>\n",
       "      <td>False</td>\n",
       "      <td>NaN</td>\n",
       "      <td>NaN</td>\n",
       "      <td>NaN</td>\n",
       "      <td>3.0</td>\n",
       "    </tr>\n",
       "    <tr>\n",
       "      <th>3</th>\n",
       "      <td>3</td>\n",
       "      <td>False</td>\n",
       "      <td>NaN</td>\n",
       "      <td>22.0</td>\n",
       "      <td>49.812426</td>\n",
       "      <td>160.224186</td>\n",
       "      <td>NaN</td>\n",
       "      <td>False</td>\n",
       "      <td>False</td>\n",
       "      <td>NaN</td>\n",
       "      <td>...</td>\n",
       "      <td>NaN</td>\n",
       "      <td>NaN</td>\n",
       "      <td>NaN</td>\n",
       "      <td>NaN</td>\n",
       "      <td>False</td>\n",
       "      <td>False</td>\n",
       "      <td>NaN</td>\n",
       "      <td>NaN</td>\n",
       "      <td>NaN</td>\n",
       "      <td>NaN</td>\n",
       "    </tr>\n",
       "    <tr>\n",
       "      <th>4</th>\n",
       "      <td>4</td>\n",
       "      <td>False</td>\n",
       "      <td>8.0</td>\n",
       "      <td>31.0</td>\n",
       "      <td>62.270030</td>\n",
       "      <td>191.703227</td>\n",
       "      <td>132.0</td>\n",
       "      <td>True</td>\n",
       "      <td>False</td>\n",
       "      <td>False</td>\n",
       "      <td>...</td>\n",
       "      <td>4.0</td>\n",
       "      <td>0.0</td>\n",
       "      <td>0.0</td>\n",
       "      <td>2.0</td>\n",
       "      <td>True</td>\n",
       "      <td>True</td>\n",
       "      <td>5.0</td>\n",
       "      <td>0.0</td>\n",
       "      <td>0.0</td>\n",
       "      <td>5.0</td>\n",
       "    </tr>\n",
       "  </tbody>\n",
       "</table>\n",
       "<p>5 rows × 99 columns</p>\n",
       "</div>"
      ],
      "text/plain": [
       "   Unnamed: 0 comp_bed_9  mat_dep  mat_age  weight_16   height_16     iq  \\\n",
       "0           0        NaN      3.0     30.0  59.294132  181.602831  107.0   \n",
       "1           1        NaN      9.0     26.0        NaN         NaN   85.0   \n",
       "2           2        NaN      3.0     24.0        NaN         NaN    NaN   \n",
       "3           3      False      NaN     22.0  49.812426  160.224186    NaN   \n",
       "4           4      False      8.0     31.0  62.270030  191.703227  132.0   \n",
       "\n",
       "   comp_noint_bed_16  comp_int_bed_16 talk_phon_wend  ...  read  text  tran  \\\n",
       "0              False            False           True  ...   2.0   2.0   0.0   \n",
       "1              False            False            NaN  ...   NaN   NaN   NaN   \n",
       "2              False            False            NaN  ...   NaN   NaN   NaN   \n",
       "3              False            False            NaN  ...   NaN   NaN   NaN   \n",
       "4               True            False          False  ...   4.0   0.0   0.0   \n",
       "\n",
       "  work   comp  comp_bed_16   tv  talk_mob talk_phon  fam_tv  \n",
       "0  4.0   True        False  4.0       2.0       1.0     3.0  \n",
       "1  NaN  False        False  NaN       NaN       NaN     NaN  \n",
       "2  NaN  False        False  NaN       NaN       NaN     3.0  \n",
       "3  NaN  False        False  NaN       NaN       NaN     NaN  \n",
       "4  2.0   True         True  5.0       0.0       0.0     5.0  \n",
       "\n",
       "[5 rows x 99 columns]"
      ]
     },
     "execution_count": 2,
     "metadata": {},
     "output_type": "execute_result"
    }
   ],
   "source": [
    "data = pd.read_csv(\"newdata.csv\", engine='python')\n",
    "data.head()"
   ]
  },
  {
   "cell_type": "code",
   "execution_count": 3,
   "metadata": {},
   "outputs": [
    {
     "data": {
      "text/html": [
       "<div>\n",
       "<style scoped>\n",
       "    .dataframe tbody tr th:only-of-type {\n",
       "        vertical-align: middle;\n",
       "    }\n",
       "\n",
       "    .dataframe tbody tr th {\n",
       "        vertical-align: top;\n",
       "    }\n",
       "\n",
       "    .dataframe thead th {\n",
       "        text-align: right;\n",
       "    }\n",
       "</style>\n",
       "<table border=\"1\" class=\"dataframe\">\n",
       "  <thead>\n",
       "    <tr style=\"text-align: right;\">\n",
       "      <th></th>\n",
       "      <th>Variable Name</th>\n",
       "      <th>Variable ALSPAC Name</th>\n",
       "      <th>Variable Description</th>\n",
       "      <th>Variable Type</th>\n",
       "      <th>Administered to</th>\n",
       "      <th>Age of child at administration</th>\n",
       "      <th>ALSPAC Measure</th>\n",
       "      <th>ALSPAC Responses</th>\n",
       "      <th>Processing Details</th>\n",
       "      <th>Reference Document</th>\n",
       "    </tr>\n",
       "  </thead>\n",
       "  <tbody>\n",
       "    <tr>\n",
       "      <th>0</th>\n",
       "      <td>agg_score</td>\n",
       "      <td>f596</td>\n",
       "      <td>Aggression score of partnership</td>\n",
       "      <td>Discrete</td>\n",
       "      <td>Mother</td>\n",
       "      <td>Aged 8 months</td>\n",
       "      <td>Derived by ALSPAC. See Processing Details</td>\n",
       "      <td>NaN</td>\n",
       "      <td>Aggression score was determined by three quest...</td>\n",
       "      <td>NaN</td>\n",
       "    </tr>\n",
       "    <tr>\n",
       "      <th>1</th>\n",
       "      <td>alon_week</td>\n",
       "      <td>ccs1006</td>\n",
       "      <td>Average time child spent per day doing things ...</td>\n",
       "      <td>Ordinal</td>\n",
       "      <td>Child</td>\n",
       "      <td>Aged 198 months</td>\n",
       "      <td>\"How much time on average do you spend each da...</td>\n",
       "      <td>Not at all</td>\n",
       "      <td>The category \"Not at all\" was collapsed into t...</td>\n",
       "      <td>NaN</td>\n",
       "    </tr>\n",
       "    <tr>\n",
       "      <th>2</th>\n",
       "      <td>NaN</td>\n",
       "      <td>NaN</td>\n",
       "      <td>NaN</td>\n",
       "      <td>NaN</td>\n",
       "      <td>NaN</td>\n",
       "      <td>NaN</td>\n",
       "      <td>NaN</td>\n",
       "      <td>Less than 1 hour</td>\n",
       "      <td>NaN</td>\n",
       "      <td>NaN</td>\n",
       "    </tr>\n",
       "    <tr>\n",
       "      <th>3</th>\n",
       "      <td></td>\n",
       "      <td></td>\n",
       "      <td>NaN</td>\n",
       "      <td>NaN</td>\n",
       "      <td>NaN</td>\n",
       "      <td>NaN</td>\n",
       "      <td>NaN</td>\n",
       "      <td>1-2 hours</td>\n",
       "      <td>NaN</td>\n",
       "      <td>NaN</td>\n",
       "    </tr>\n",
       "    <tr>\n",
       "      <th>4</th>\n",
       "      <td></td>\n",
       "      <td></td>\n",
       "      <td>NaN</td>\n",
       "      <td>NaN</td>\n",
       "      <td>NaN</td>\n",
       "      <td>NaN</td>\n",
       "      <td>NaN</td>\n",
       "      <td>3 or more hours</td>\n",
       "      <td>NaN</td>\n",
       "      <td>NaN</td>\n",
       "    </tr>\n",
       "  </tbody>\n",
       "</table>\n",
       "</div>"
      ],
      "text/plain": [
       "  Variable Name Variable ALSPAC Name  \\\n",
       "0     agg_score                 f596   \n",
       "1     alon_week              ccs1006   \n",
       "2           NaN                  NaN   \n",
       "3                                      \n",
       "4                                      \n",
       "\n",
       "                                Variable Description Variable Type  \\\n",
       "0                    Aggression score of partnership      Discrete   \n",
       "1  Average time child spent per day doing things ...       Ordinal   \n",
       "2                                                NaN           NaN   \n",
       "3                                                NaN           NaN   \n",
       "4                                                NaN           NaN   \n",
       "\n",
       "  Administered to Age of child at administration  \\\n",
       "0          Mother                  Aged 8 months   \n",
       "1           Child                Aged 198 months   \n",
       "2             NaN                            NaN   \n",
       "3             NaN                            NaN   \n",
       "4             NaN                            NaN   \n",
       "\n",
       "                                      ALSPAC Measure  ALSPAC Responses  \\\n",
       "0          Derived by ALSPAC. See Processing Details               NaN   \n",
       "1  \"How much time on average do you spend each da...        Not at all   \n",
       "2                                                NaN  Less than 1 hour   \n",
       "3                                                NaN         1-2 hours   \n",
       "4                                                NaN   3 or more hours   \n",
       "\n",
       "                                  Processing Details Reference Document  \n",
       "0  Aggression score was determined by three quest...                NaN  \n",
       "1  The category \"Not at all\" was collapsed into t...                NaN  \n",
       "2                                                NaN                NaN  \n",
       "3                                                NaN                NaN  \n",
       "4                                                NaN                NaN  "
      ]
     },
     "execution_count": 3,
     "metadata": {},
     "output_type": "execute_result"
    }
   ],
   "source": [
    "dictionary = pd.read_csv(\"./dataset/synthetic_data_dictionary.csv\", engine='python')\n",
    "dictionary.head()"
   ]
  },
  {
   "cell_type": "code",
   "execution_count": 4,
   "metadata": {},
   "outputs": [
    {
     "name": "stdout",
     "output_type": "stream",
     "text": [
      "['Unnamed: 0', 'comp_bed_9', 'mat_dep', 'mat_age', 'weight_16', 'height_16', 'iq', 'comp_noint_bed_16', 'comp_int_bed_16', 'talk_phon_wend', 'text_wend', 'talk_mob_wend', 'comp_wend', 'musi_wend', 'read_wend', 'work_wend', 'alon_wend', 'draw_wend', 'play_wend', 'tv_wend', 'out_win_wend', 'out_sum_wend', 'tran_wend', 'talk_phon_week', 'text_week', 'talk_mob_week', 'comp_week', 'musi_week', 'read_week', 'work_week', 'alon_week', 'draw_week', 'play_week', 'tv_week', 'out_win_week', 'out_sum_week', 'tran_week', 'pat_pres_10', 'pat_pres_8', 'pat_pres', 'num_home', 'mat_anx_1', 'mat_anx_18m', 'mat_anx_8m', 'agg_score', 'emot_cruel', 'phys_cruel', 'mat_anx_0m', 'pat_ses', 'mat_ses', 'pat_edu', 'mat_edu', 'parity', 'dep_band_15', 'dep_band_13', 'dep_band_10', 'dep_band_07', 'anx_band_15', 'anx_band_13', 'anx_band_10', 'anx_band_07', 'exercise', 'child_bull', 'phone_14_wend', 'phone_14_week', 'musi_13', 'tv_bed_9', 'own_mob', 'has_dep_diag', 'secd_diag', 'prim_diag', 'panic_score', 'dep_thoughts', 'dep_score', 'comp_house', 'tv_bed_16', 'creat_14', 'comp_games', 'fam_tv_eve', 'fam_tv_aft', 'fam_tv_mor', 'sex', 'birth_order', 'alon', 'draw', 'musi', 'out_sum', 'phone_14', 'play', 'read', 'text', 'tran', 'work', 'comp', 'comp_bed_16', 'tv', 'talk_mob', 'talk_phon', 'fam_tv']\n",
      "Unnamed: 0\n"
     ]
    }
   ],
   "source": [
    "columns = list(data.head(0))\n",
    "print(columns)\n",
    "print(columns[0])"
   ]
  },
  {
   "cell_type": "code",
   "execution_count": 5,
   "metadata": {},
   "outputs": [
    {
     "name": "stdout",
     "output_type": "stream",
     "text": [
      "['alon_week', 'alon_wend', 'child_bull', 'comp_house', 'comp_int_bed_16', 'comp_noint_bed_16', 'comp_week', 'comp_wend', 'draw_week', 'draw_wend', 'exercise', 'musi_week', 'musi_wend', 'out_sum_week', 'out_sum_wend', 'out_win_week', 'out_win_wend', 'play_week', 'play_wend', 'read_week', 'read_wend', 'talk_mob_week', 'talk_mob_wend', 'talk_phon_week', 'talk_phon_wend', 'text_wend', 'tran_week', 'tran_wend', 'tv_week', 'tv_wend', 'work_week', 'work_wend', 'dep_score', 'dep_thoughts', 'has_dep_diag', 'panic_score', 'prim_diag', 'secd_diag', 'anx_band_15', 'dep_band_15', 'height_16', 'weight_16']\n"
     ]
    }
   ],
   "source": [
    "\n",
    "\n",
    "rows = dictionary[(dictionary[\"Age of child at administration\"] == \"Aged 198 months\")]\n",
    "rows2 = dictionary[(dictionary[\"Age of child at administration\"] == \"Aged around 17.5 years\")]\n",
    "rows3 = dictionary[(dictionary[\"Age of child at administration\"] == \"Aged around 15.5 years\")]\n",
    "\n",
    "columns_to_keep_names = list(rows['Variable Name'].append(rows2['Variable Name']).append(rows3['Variable Name']))\n",
    "\n",
    "print(columns_to_keep_names)\n",
    "\n"
   ]
  },
  {
   "cell_type": "code",
   "execution_count": 6,
   "metadata": {},
   "outputs": [
    {
     "name": "stdout",
     "output_type": "stream",
     "text": [
      "weight_16 keep\n",
      "height_16 keep\n",
      "comp_noint_bed_16 keep\n",
      "comp_int_bed_16 keep\n",
      "talk_phon_wend keep\n",
      "text_wend keep\n",
      "talk_mob_wend keep\n",
      "comp_wend keep\n",
      "musi_wend keep\n",
      "read_wend keep\n",
      "work_wend keep\n",
      "alon_wend keep\n",
      "draw_wend keep\n",
      "play_wend keep\n",
      "tv_wend keep\n",
      "out_win_wend keep\n",
      "out_sum_wend keep\n",
      "tran_wend keep\n",
      "talk_phon_week keep\n",
      "talk_mob_week keep\n",
      "comp_week keep\n",
      "musi_week keep\n",
      "read_week keep\n",
      "work_week keep\n",
      "alon_week keep\n",
      "draw_week keep\n",
      "play_week keep\n",
      "tv_week keep\n",
      "out_win_week keep\n",
      "out_sum_week keep\n",
      "tran_week keep\n",
      "dep_band_15 keep\n",
      "anx_band_15 keep\n",
      "exercise keep\n",
      "child_bull keep\n",
      "has_dep_diag keep\n",
      "secd_diag keep\n",
      "prim_diag keep\n",
      "panic_score keep\n",
      "dep_thoughts keep\n",
      "dep_score keep\n",
      "comp_house keep\n"
     ]
    }
   ],
   "source": [
    "df = pd.DataFrame(data)\n",
    "for i in df.columns:\n",
    "    if (i in columns_to_keep_names):\n",
    "        print(i, \"keep\")\n",
    "    else: df.drop(i, inplace = True, axis = 1)\n"
   ]
  },
  {
   "cell_type": "code",
   "execution_count": 7,
   "metadata": {},
   "outputs": [
    {
     "name": "stdout",
     "output_type": "stream",
     "text": [
      "<class 'pandas.core.frame.DataFrame'>\n",
      "RangeIndex: 13734 entries, 0 to 13733\n",
      "Data columns (total 99 columns):\n",
      " #   Column             Non-Null Count  Dtype  \n",
      "---  ------             --------------  -----  \n",
      " 0   Unnamed: 0         13734 non-null  int64  \n",
      " 1   comp_bed_9         8174 non-null   object \n",
      " 2   mat_dep            11145 non-null  float64\n",
      " 3   mat_age            13326 non-null  float64\n",
      " 4   weight_16          5351 non-null   float64\n",
      " 5   height_16          5364 non-null   float64\n",
      " 6   iq                 7288 non-null   float64\n",
      " 7   comp_noint_bed_16  13734 non-null  bool   \n",
      " 8   comp_int_bed_16    13734 non-null  bool   \n",
      " 9   talk_phon_wend     4850 non-null   object \n",
      " 10  text_wend          4841 non-null   float64\n",
      " 11  talk_mob_wend      4834 non-null   float64\n",
      " 12  comp_wend          4839 non-null   float64\n",
      " 13  musi_wend          4831 non-null   object \n",
      " 14  read_wend          4834 non-null   float64\n",
      " 15  work_wend          4833 non-null   float64\n",
      " 16  alon_wend          4850 non-null   float64\n",
      " 17  draw_wend          4842 non-null   float64\n",
      " 18  play_wend          4850 non-null   object \n",
      " 19  tv_wend            4853 non-null   float64\n",
      " 20  out_win_wend       4849 non-null   float64\n",
      " 21  out_sum_wend       4822 non-null   object \n",
      " 22  tran_wend          4861 non-null   object \n",
      " 23  talk_phon_week     4999 non-null   object \n",
      " 24  text_week          5004 non-null   float64\n",
      " 25  talk_mob_week      5016 non-null   float64\n",
      " 26  comp_week          5011 non-null   float64\n",
      " 27  musi_week          5003 non-null   object \n",
      " 28  read_week          4993 non-null   float64\n",
      " 29  work_week          5012 non-null   float64\n",
      " 30  alon_week          5008 non-null   float64\n",
      " 31  draw_week          5012 non-null   float64\n",
      " 32  play_week          5015 non-null   object \n",
      " 33  tv_week            5020 non-null   float64\n",
      " 34  out_win_week       5007 non-null   float64\n",
      " 35  out_sum_week       5014 non-null   object \n",
      " 36  tran_week          5024 non-null   object \n",
      " 37  pat_pres_10        8057 non-null   object \n",
      " 38  pat_pres_8         7729 non-null   object \n",
      " 39  pat_pres           9579 non-null   object \n",
      " 40  num_home           9583 non-null   float64\n",
      " 41  mat_anx_1          9700 non-null   object \n",
      " 42  mat_anx_18m        9884 non-null   object \n",
      " 43  mat_anx_8m         10488 non-null  object \n",
      " 44  agg_score          10714 non-null  float64\n",
      " 45  emot_cruel         11301 non-null  object \n",
      " 46  phys_cruel         11301 non-null  object \n",
      " 47  mat_anx_0m         11265 non-null  object \n",
      " 48  pat_ses            11021 non-null  object \n",
      " 49  mat_ses            10110 non-null  object \n",
      " 50  pat_edu            10750 non-null  float64\n",
      " 51  mat_edu            12375 non-null  float64\n",
      " 52  parity             12544 non-null  float64\n",
      " 53  dep_band_15        5299 non-null   float64\n",
      " 54  dep_band_13        7003 non-null   float64\n",
      " 55  dep_band_10        7679 non-null   float64\n",
      " 56  dep_band_07        8089 non-null   float64\n",
      " 57  anx_band_15        5303 non-null   float64\n",
      " 58  anx_band_13        7158 non-null   float64\n",
      " 59  anx_band_10        7852 non-null   float64\n",
      " 60  anx_band_07        8280 non-null   float64\n",
      " 61  exercise           4971 non-null   float64\n",
      " 62  child_bull         4989 non-null   object \n",
      " 63  phone_14_wend      5962 non-null   float64\n",
      " 64  phone_14_week      6131 non-null   float64\n",
      " 65  musi_13            6880 non-null   object \n",
      " 66  tv_bed_9           8348 non-null   object \n",
      " 67  own_mob            4386 non-null   object \n",
      " 68  has_dep_diag       4513 non-null   object \n",
      " 69  secd_diag          4513 non-null   float64\n",
      " 70  prim_diag          4513 non-null   float64\n",
      " 71  panic_score        4513 non-null   float64\n",
      " 72  dep_thoughts       1805 non-null   float64\n",
      " 73  dep_score          4513 non-null   float64\n",
      " 74  comp_house         13734 non-null  bool   \n",
      " 75  tv_bed_16          13734 non-null  bool   \n",
      " 76  creat_14           7093 non-null   object \n",
      " 77  comp_games         9660 non-null   object \n",
      " 78  fam_tv_eve         11174 non-null  float64\n",
      " 79  fam_tv_aft         11038 non-null  float64\n",
      " 80  fam_tv_mor         11096 non-null  float64\n",
      " 81  sex                13734 non-null  object \n",
      " 82  birth_order        13734 non-null  object \n",
      " 83  alon               4837 non-null   float64\n",
      " 84  draw               4827 non-null   float64\n",
      " 85  musi               4816 non-null   float64\n",
      " 86  out_sum            4812 non-null   float64\n",
      " 87  phone_14           5949 non-null   float64\n",
      " 88  play               4834 non-null   float64\n",
      " 89  read               4825 non-null   float64\n",
      " 90  text               4824 non-null   float64\n",
      " 91  tran               4854 non-null   float64\n",
      " 92  work               4828 non-null   float64\n",
      " 93  comp               13734 non-null  bool   \n",
      " 94  comp_bed_16        13734 non-null  bool   \n",
      " 95  tv                 4849 non-null   float64\n",
      " 96  talk_mob           4830 non-null   float64\n",
      " 97  talk_phon          4834 non-null   float64\n",
      " 98  fam_tv             10895 non-null  float64\n",
      "dtypes: bool(6), float64(61), int64(1), object(31)\n",
      "memory usage: 9.8+ MB\n"
     ]
    }
   ],
   "source": [
    "data.info()"
   ]
  },
  {
   "cell_type": "markdown",
   "metadata": {},
   "source": [
    "## TO DO\n",
    "+ type screening \n",
    "+ outliers\n",
    "+ black swans \n",
    "+ worst cases\n",
    "+ imbalanced samples \n",
    "\n",
    "Outliers: https://www.analyticsvidhya.com/blog/2021/05/detecting-and-treating-outliers-treating-the-odd-one-out/\n",
    "https://statisticsbyjim.com/basics/remove-outliers/\n",
    "https://cxl.com/blog/outliers/\n",
    "\n",
    "\n",
    "A black swan is an unpredictable event that is beyond what is normally expected of a situation and has potentially severe consequences. Black swan events are characterized by their extreme rarity, severe impact, and the widespread insistence they were obvious in hindsight.\n",
    "\n",
    "Imbalanced datasets: https://datascience.foundation/sciencewhitepaper/understanding-imbalanced-datasets-and-techniques-for-handling-them\n",
    "https://www.analyticsvidhya.com/blog/2021/06/5-techniques-to-handle-imbalanced-data-for-a-classification-problem/\n",
    "https://www.kdnuggets.com/2020/01/5-most-useful-techniques-handle-imbalanced-datasets.html\n",
    "https://towardsdatascience.com/handling-imbalanced-datasets-in-machine-learning-7a0e84220f28\n",
    "\n",
    "Worst case analysis: https://proceedings.neurips.cc/paper/2020/hash/d34a281acc62c6bec66425f0ad6dd645-Abstract.html\n",
    "Not sure if we need it at all, probably not"
   ]
  },
  {
   "cell_type": "markdown",
   "metadata": {},
   "source": [
    "### Outliers"
   ]
  },
  {
   "cell_type": "markdown",
   "metadata": {},
   "source": [
    "Height and weight distribution"
   ]
  },
  {
   "cell_type": "code",
   "execution_count": 8,
   "metadata": {},
   "outputs": [
    {
     "data": {
      "image/png": "[encoded data removed]",
      "text/plain": [
       "<Figure size 432x288 with 1 Axes>"
      ]
     },
     "metadata": {
      "needs_background": "light"
     },
     "output_type": "display_data"
    }
   ],
   "source": [
    "x = data.height_16\n",
    "y = data.weight_16\n",
    "\n",
    "plt.scatter(x, y, alpha=0.1)\n",
    "plt.show()"
   ]
  },
  {
   "cell_type": "markdown",
   "metadata": {},
   "source": [
    "Boxplots for all non-categorical variables"
   ]
  },
  {
   "cell_type": "code",
   "execution_count": 9,
   "metadata": {},
   "outputs": [
    {
     "data": {
      "text/plain": [
       "Text(0.5, 0, 'Sample')"
      ]
     },
     "execution_count": 9,
     "metadata": {},
     "output_type": "execute_result"
    },
    {
     "data": {
      "image/png": "[encoded data removed]",
      "text/plain": [
       "<Figure size 432x288 with 1 Axes>"
      ]
     },
     "metadata": {
      "needs_background": "light"
     },
     "output_type": "display_data"
    }
   ],
   "source": [
    "plt.boxplot(data.height_16, vert=False)\n",
    "plt.xlabel('Sample')"
   ]
  },
  {
   "cell_type": "markdown",
   "metadata": {},
   "source": [
    "Z-scores: any data point whose Z-score falls out of 3rd standard deviation is an outlier."
   ]
  },
  {
   "cell_type": "code",
   "execution_count": 10,
   "metadata": {},
   "outputs": [],
   "source": [
    "def detect_outliers_zscore(xs):\n",
    "    outliers = []\n",
    "    thres = 3\n",
    "    mean = np.mean(xs)\n",
    "    std = np.std(xs)\n",
    "    # print(mean, std)\n",
    "    for i in xs:\n",
    "        z_score = (i-mean)/std\n",
    "        if (np.abs(z_score) > thres):\n",
    "            outliers.append(i)\n",
    "    return outliers"
   ]
  },
  {
   "cell_type": "code",
   "execution_count": 11,
   "metadata": {},
   "outputs": [
    {
     "name": "stdout",
     "output_type": "stream",
     "text": [
      "Outliers from Z-scores method:  [106.912736610394, 108.647814770842, 112.24711907142598, 110.675244693617, 104.737369332756, 108.09939402285801, 99.47306111438179, 104.38093422021099, 101.68273099917299, 99.2419369092074, 104.993764250504, 103.564232306512, 105.57617218496401, 106.516786672599, 111.66027188786501, 118.770974445603, 107.804654950301, 104.150239996927, 99.99448371763441, 112.76290452972601, 111.37944130156099, 107.17580565791799, 104.73258405940001, 113.563648773647, 100.455213336368, 102.315488080777, 116.82441561596902, 105.501614226415, 100.98172721989701, 103.520171797934, 101.362847179534, 108.535012000427, 109.457015431589, 104.177905336283, 99.8247605028558, 101.471240384867, 105.79478443720501, 104.984332518791, 101.580674841762, 106.342999132539, 102.705305370059, 104.30424258178199, 101.11576469785, 100.272339147922, 100.004841144597, 106.007876150786, 97.9078574092869, 106.551411965512, 98.14630872248242, 100.928057754711, 102.767338984242, 100.89053638078899, 115.918014168421, 102.749262044485, 99.48464901564002, 119.686945257491, 126.029499101703, 111.925939605273, 99.3175096045446, 99.2122041729188, 102.61690503424299, 124.06305974527201, 104.295010628517, 120.321720927323, 97.740065033872, 97.74700034258, 108.17756838141199, 100.07579037247, 99.21581296869628, 120.498709322309, 100.065454307696, 126.029499101703, 108.787883083484, 106.514343900578, 109.246934018044, 102.81046454185899, 102.15285140481, 112.990632380385, 120.73228868515301, 115.735266856026, 107.606883640675, 99.8667955520355, 110.50810768817499, 101.498283895668, 99.08356598326851]\n"
     ]
    }
   ],
   "source": [
    "weight_outliers = detect_outliers_zscore(data.weight_16)\n",
    "print(\"Outliers from Z-scores method: \", weight_outliers)"
   ]
  },
  {
   "cell_type": "code",
   "execution_count": 12,
   "metadata": {},
   "outputs": [
    {
     "name": "stdout",
     "output_type": "stream",
     "text": [
      "Outliers from Z-scores method:  [201.519621788055, 139.51216890513902, 196.824923377762, 194.96318435354303, 198.96069934006698, 199.15405222406602, 195.268917269699, 198.274035830561, 195.079706298698, 200.72402053858798, 194.91820679310902, 199.03111937917495, 199.057469533129, 198.306040686106, 198.46854343912497]\n"
     ]
    }
   ],
   "source": [
    "height_outliers = detect_outliers_zscore(data.height_16)\n",
    "print(\"Outliers from Z-scores method: \", height_outliers)"
   ]
  },
  {
   "cell_type": "code",
   "execution_count": 13,
   "metadata": {},
   "outputs": [
    {
     "name": "stdout",
     "output_type": "stream",
     "text": [
      "Outliers from Z-scores method:  [53.0, 51.0, 50.0, 53.0, 49.0, 48.0, 50.0, 48.0, 50.0, 48.0, 49.0, 50.0, 45.0, 50.0, 49.0, 51.0, 48.0]\n"
     ]
    }
   ],
   "source": [
    "iq_outliers = detect_outliers_zscore(data.iq)\n",
    "print(\"Outliers from Z-scores method: \", iq_outliers)"
   ]
  },
  {
   "cell_type": "code",
   "execution_count": 14,
   "metadata": {},
   "outputs": [
    {
     "name": "stdout",
     "output_type": "stream",
     "text": [
      "Outliers from Z-scores method:  [44.0, 44.0, 43.0, 43.0, 44.0, 44.0, 43.0, 44.0, 44.0, 43.0, 44.0, 44.0, 43.0, 43.0, 43.0, 43.0, 43.0, 43.0, 44.0, 43.0, 43.0, 43.0, 44.0, 43.0, 44.0, 43.0, 43.0, 43.0, 43.0, 44.0, 44.0]\n"
     ]
    }
   ],
   "source": [
    "mat_age_outliers = detect_outliers_zscore(data.mat_age)\n",
    "print(\"Outliers from Z-scores method: \", mat_age_outliers)"
   ]
  },
  {
   "cell_type": "code",
   "execution_count": 15,
   "metadata": {},
   "outputs": [
    {
     "name": "stdout",
     "output_type": "stream",
     "text": [
      "Outliers from Z-scores method:  [24.0, 23.0, 22.0, 20.0, 20.0, 26.0, 27.0, 20.0, 20.0, 21.0, 20.0, 23.0, 26.0, 21.0, 27.0, 20.0, 20.0, 21.0, 20.0, 20.0, 20.0, 24.0, 23.0, 23.0, 26.0, 21.0, 28.0, 24.0, 20.0, 23.0, 20.0, 20.0, 20.0, 22.0, 20.0, 21.0, 20.0, 20.0, 22.0, 21.0, 20.0, 22.0, 20.0, 20.0, 23.0, 21.0, 20.0, 20.0, 24.0, 22.0, 20.0, 22.0, 20.0, 20.0, 20.0, 22.0, 22.0, 27.0, 20.0, 20.0, 23.0, 26.0, 20.0, 23.0, 27.0, 22.0, 20.0, 22.0, 21.0, 28.0, 22.0, 21.0, 22.0, 28.0, 20.0, 20.0, 20.0, 24.0, 21.0, 27.0, 24.0, 26.0, 20.0, 23.0, 20.0, 20.0, 26.0, 20.0, 28.0, 20.0, 20.0, 20.0, 20.0, 23.0, 22.0, 21.0, 28.0, 22.0, 28.0, 20.0, 21.0]\n"
     ]
    }
   ],
   "source": [
    "mat_dep_outliers = detect_outliers_zscore(data.mat_dep)\n",
    "print(\"Outliers from Z-scores method: \", mat_dep_outliers)"
   ]
  },
  {
   "cell_type": "code",
   "execution_count": 16,
   "metadata": {},
   "outputs": [
    {
     "name": "stdout",
     "output_type": "stream",
     "text": [
      "Outliers from Z-scores method:  [3.0, 3.0, 3.0, 3.0, 3.0, 3.0, 3.0, 3.0, 3.0, 3.0, 3.0, 3.0, 3.0, 3.0, 3.0, 3.0, 3.0, 3.0, 3.0, 3.0, 3.0, 3.0, 3.0, 3.0, 3.0, 3.0, 3.0, 3.0, 3.0, 3.0, 3.0, 3.0, 3.0, 3.0, 3.0, 3.0, 3.0, 3.0, 3.0, 3.0, 3.0, 3.0, 3.0, 3.0, 3.0, 3.0, 3.0, 3.0, 3.0, 3.0, 3.0, 3.0, 3.0, 3.0, 3.0, 3.0, 3.0, 3.0, 3.0, 3.0, 3.0, 3.0, 3.0, 3.0, 3.0, 3.0]\n"
     ]
    }
   ],
   "source": [
    "agg_outliers = detect_outliers_zscore(data.agg_score)\n",
    "print(\"Outliers from Z-scores method: \", agg_outliers)"
   ]
  },
  {
   "cell_type": "markdown",
   "metadata": {},
   "source": [
    "## dataset balancing"
   ]
  },
  {
   "cell_type": "code",
   "execution_count": 32,
   "metadata": {},
   "outputs": [
    {
     "data": {
      "text/plain": [
       "Counter({False: 4124, nan: 9221, True: 389})"
      ]
     },
     "execution_count": 32,
     "metadata": {},
     "output_type": "execute_result"
    }
   ],
   "source": [
    "Counter(data[\"has_dep_diag\"])"
   ]
  },
  {
   "cell_type": "code",
   "execution_count": 45,
   "metadata": {},
   "outputs": [],
   "source": [
    "dep_diag = []\n",
    "for i in data[\"has_dep_diag\"]:\n",
    "    if i == True:\n",
    "        dep_diag.append(1)\n",
    "    if i == False:\n",
    "        dep_diag.append(0)"
   ]
  },
  {
   "cell_type": "code",
   "execution_count": 46,
   "metadata": {},
   "outputs": [
    {
     "data": {
      "text/plain": [
       "(array([4124.,    0.,    0.,    0.,    0.,    0.,    0.,    0.,    0.,\n",
       "         389.]),\n",
       " array([0. , 0.1, 0.2, 0.3, 0.4, 0.5, 0.6, 0.7, 0.8, 0.9, 1. ]),\n",
       " <BarContainer object of 10 artists>)"
      ]
     },
     "execution_count": 46,
     "metadata": {},
     "output_type": "execute_result"
    },
    {
     "data": {
      "image/png": "[encoded data removed]",
      "text/plain": [
       "<Figure size 432x288 with 1 Axes>"
      ]
     },
     "metadata": {
      "needs_background": "light"
     },
     "output_type": "display_data"
    }
   ],
   "source": [
    "plt.hist(dep_diag)"
   ]
  },
  {
   "cell_type": "markdown",
   "metadata": {},
   "source": [
    "As you can see our dataset, like most disease diagnosis datasets, is imbalanced. We can employ a number of measures to mitigate consequences of that.\n",
    "\n",
    "1. **Choose Proper Evaluation Metric:** instead of accuracy we can use F1 score. We should also be using the confusion matrix a lot.\n",
    "2. **Resampling (Oversampling and Undersampling):** we can oversample the minority class using replacement or undersample the majority class. So we get a balanced dataset and when both classes have a similar number of records present in the dataset, we can assume that the classifier will give equal importance to both classes. \n",
    "3. **SMOTE:** Synthetic Minority Oversampling Technique, it's oversampling the minority class by synthesizing new records from the existing data.\n",
    "4. **BalancedBaggingClassifier:** it includes an additional step to balance the training set at the time of fit for a given sampler.\n",
    "5. **Threshold moving:** we can use ROC Curves and Precision-Recall Curves to find the optimal threshold for the classifier. We can also use a grid search method or search within a set of values to identify the optimal value.\n",
    "6. **Class weights in the models:** we can specify a higher weight for the minority class using a dictionary.\n",
    "7. **Treat the problem as anomaly detection**: we can use Isolation forests or autoencoders for example.\n",
    "8. **Cost-based classification**: redefine our objective function: we don’t target the best accuracy anymore but we look for the lower prediction cost instead.\n",
    "\n",
    "https://towardsdatascience.com/handling-imbalanced-datasets-in-machine-learning-7a0e84220f28"
   ]
  },
  {
   "cell_type": "code",
   "execution_count": null,
   "metadata": {},
   "outputs": [],
   "source": []
  }
 ],
 "metadata": {
  "kernelspec": {
   "display_name": "Python 3",
   "language": "python",
   "name": "python3"
  },
  "language_info": {
   "codemirror_mode": {
    "name": "ipython",
    "version": 3
   },
   "file_extension": ".py",
   "mimetype": "text/x-python",
   "name": "python",
   "nbconvert_exporter": "python",
   "pygments_lexer": "ipython3",
   "version": "3.8.5"
  }
 },
 "nbformat": 4,
 "nbformat_minor": 4
}
