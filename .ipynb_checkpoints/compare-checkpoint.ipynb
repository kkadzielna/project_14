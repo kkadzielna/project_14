{
 "cells": [
  {
   "cell_type": "code",
   "execution_count": null,
   "metadata": {},
   "outputs": [],
   "source": [
    "import pandas as pd\n",
    "import numpy as np\n",
    "import matplotlib.pyplot as plt\n",
    "from scipy import stats\n",
    "import seaborn as sns\n",
    "import missingno as msno\n",
    "from collections import Counter\n",
    "from itertools import chain, combinations\n",
    "import sklearn as sk\n",
    "from sklearn.metrics import accuracy_score, f1_score"
   ]
  },
  {
   "cell_type": "markdown",
   "metadata": {},
   "source": [
    "# Performance comparison"
   ]
  },
  {
   "cell_type": "markdown",
   "metadata": {},
   "source": [
    "In this notebook we compare the performance of multiple models on different subsets of our data.\n",
    "#### The models are:\n",
    "+ Logistic Regression\n",
    "+ SVM\n",
    "+ KNN\n",
    "+ Neural Network\n",
    "+ XGBoost\n",
    "\n",
    "#### The datasets:\n",
    "+ Mean/Mode imputed\n",
    "+ KNN imputed\n",
    "+ MICE imputed\n",
    "+ no imputations\n",
    "\n",
    "#### The targets:\n",
    "+ has_dep_diag\n",
    "+ a binary comination of all the target variables\n",
    "\n",
    "#### In combinations of:\n",
    "+ trained on balanced, tested on balanced\n",
    "+ trained on balanced, tested on imbalanced\n",
    "+ trained on imbalanced, tested on balanced\n",
    "+ trained on imbalanced, tested on imbalanced\n",
    "\n",
    "#### We employ  range of visualisation methods:\n",
    "+ ROC curves\n",
    "+ bar plots\n",
    "+ learning curves"
   ]
  },
  {
   "cell_type": "code",
   "execution_count": null,
   "metadata": {},
   "outputs": [],
   "source": [
    "data = pd.read_csv(\"imputed_dataset_5.csv\", engine='python').drop(['Unnamed: 0'], axis = 1)\n",
    "dep_data = data.copy()\n",
    "\n",
    "dep_num = np.array([12, 11, 10, 4])\n",
    "no_dep_num = np.setdiff1d(range(13), dep_num)\n",
    "\n",
    "dep_data[['prim_diag', 'secd_diag']] = dep_data[['prim_diag', 'secd_diag']].replace(list(no_dep_num), 0)\n",
    "dep_data[['prim_diag', 'secd_diag']] = dep_data[['prim_diag', 'secd_diag']].replace(list(dep_num), 1)"
   ]
  },
  {
   "cell_type": "code",
   "execution_count": null,
   "metadata": {},
   "outputs": [],
   "source": [
    "full = data.dropna(axis = 0, how = 'any')\n",
    "dep = [x for x in data.columns if 'dep' in x or 'diag' in x or 'panic' in x]\n",
    "dep_data['dep'] = dep_data['secd_diag'] + dep_data['prim_diag'] + 0 * dep_data['has_dep_diag']\n",
    "dep_data['dep'] = dep_data['dep'].replace(range(2, 4), 1)\n",
    "full = dep_data.dropna(axis = 0, how = 'any')\n",
    "dep = [x for x in data.columns if 'dep' in x or 'diag' in x or 'panic' in x]"
   ]
  },
  {
   "cell_type": "code",
   "execution_count": null,
   "metadata": {},
   "outputs": [],
   "source": [
    "has_dep = full.query('dep == 1')\n",
    "no_dep = full.query('dep == 0')\n",
    "size = int(np.round(0.8 * min(len(has_dep), len(no_dep))))\n",
    "#sample = pd.concat([has_dep.sample(size), no_dep.sample(size)])\n",
    "sample = full.sample(8000)\n",
    "\n",
    "sample = sample.sort_index()\n",
    "sample = sample.reset_index(drop = True)\n",
    "\n",
    "\n",
    "X = sample.drop(dep, axis = 1).drop('dep', axis = 1)\n",
    "y = sample['dep']\n",
    "\n",
    "#sample = full.sample(8000)\n",
    "#smote = SMOTE(random_state = 0)\n",
    "#X, y = smote.fit_resample(sample.drop(dep, axis = 1).drop('dep', axis = 1), sample['dep'])"
   ]
  }
 ],
 "metadata": {
  "kernelspec": {
   "display_name": "Python 3",
   "language": "python",
   "name": "python3"
  },
  "language_info": {
   "codemirror_mode": {
    "name": "ipython",
    "version": 3
   },
   "file_extension": ".py",
   "mimetype": "text/x-python",
   "name": "python",
   "nbconvert_exporter": "python",
   "pygments_lexer": "ipython3",
   "version": "3.8.5"
  }
 },
 "nbformat": 4,
 "nbformat_minor": 4
}
