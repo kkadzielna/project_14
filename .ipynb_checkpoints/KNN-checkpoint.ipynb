{
 "cells": [
  {
   "cell_type": "code",
   "execution_count": 2,
   "metadata": {},
   "outputs": [],
   "source": [
    "import numpy as np\n",
    "import pandas as pd\n",
    "from matplotlib import pyplot as plt\n",
    "from sklearn.metrics import confusion_matrix, classification_report\n",
    "from sklearn.neighbors import KNeighborsClassifier\n",
    "from sklearn.model_selection import train_test_split\n",
    "import seaborn as sns\n",
    "sns.set()"
   ]
  },
  {
   "cell_type": "code",
   "execution_count": 13,
   "metadata": {},
   "outputs": [
    {
     "data": {
      "text/html": [
       "<div>\n",
       "<style scoped>\n",
       "    .dataframe tbody tr th:only-of-type {\n",
       "        vertical-align: middle;\n",
       "    }\n",
       "\n",
       "    .dataframe tbody tr th {\n",
       "        vertical-align: top;\n",
       "    }\n",
       "\n",
       "    .dataframe thead th {\n",
       "        text-align: right;\n",
       "    }\n",
       "</style>\n",
       "<table border=\"1\" class=\"dataframe\">\n",
       "  <thead>\n",
       "    <tr style=\"text-align: right;\">\n",
       "      <th></th>\n",
       "      <th>weight_16</th>\n",
       "      <th>height_16</th>\n",
       "      <th>comp_noint_bed_16</th>\n",
       "      <th>comp_int_bed_16</th>\n",
       "      <th>talk_phon_wend</th>\n",
       "      <th>text_wend</th>\n",
       "      <th>talk_mob_wend</th>\n",
       "      <th>comp_wend</th>\n",
       "      <th>musi_wend</th>\n",
       "      <th>read_wend</th>\n",
       "      <th>...</th>\n",
       "      <th>anx_band_15</th>\n",
       "      <th>exercise</th>\n",
       "      <th>child_bull</th>\n",
       "      <th>has_dep_diag</th>\n",
       "      <th>secd_diag</th>\n",
       "      <th>prim_diag</th>\n",
       "      <th>panic_score</th>\n",
       "      <th>dep_thoughts</th>\n",
       "      <th>dep_score</th>\n",
       "      <th>comp_house</th>\n",
       "    </tr>\n",
       "  </thead>\n",
       "  <tbody>\n",
       "    <tr>\n",
       "      <th>0</th>\n",
       "      <td>59.294132</td>\n",
       "      <td>181.602831</td>\n",
       "      <td>0.0</td>\n",
       "      <td>0.0</td>\n",
       "      <td>1.0</td>\n",
       "      <td>1.0</td>\n",
       "      <td>1.0</td>\n",
       "      <td>2.0</td>\n",
       "      <td>0.0</td>\n",
       "      <td>1.0</td>\n",
       "      <td>...</td>\n",
       "      <td>0.5</td>\n",
       "      <td>4.0</td>\n",
       "      <td>0.0</td>\n",
       "      <td>0.0</td>\n",
       "      <td>0.0</td>\n",
       "      <td>0.0</td>\n",
       "      <td>0.0</td>\n",
       "      <td>1.0</td>\n",
       "      <td>0.0</td>\n",
       "      <td>1.0</td>\n",
       "    </tr>\n",
       "    <tr>\n",
       "      <th>1</th>\n",
       "      <td>62.290242</td>\n",
       "      <td>168.453878</td>\n",
       "      <td>0.0</td>\n",
       "      <td>0.0</td>\n",
       "      <td>1.0</td>\n",
       "      <td>1.0</td>\n",
       "      <td>1.0</td>\n",
       "      <td>2.0</td>\n",
       "      <td>0.0</td>\n",
       "      <td>1.0</td>\n",
       "      <td>...</td>\n",
       "      <td>3.0</td>\n",
       "      <td>3.0</td>\n",
       "      <td>0.0</td>\n",
       "      <td>0.0</td>\n",
       "      <td>1.0</td>\n",
       "      <td>1.0</td>\n",
       "      <td>0.0</td>\n",
       "      <td>3.0</td>\n",
       "      <td>1.0</td>\n",
       "      <td>0.0</td>\n",
       "    </tr>\n",
       "    <tr>\n",
       "      <th>2</th>\n",
       "      <td>62.290242</td>\n",
       "      <td>168.453878</td>\n",
       "      <td>0.0</td>\n",
       "      <td>0.0</td>\n",
       "      <td>1.0</td>\n",
       "      <td>1.0</td>\n",
       "      <td>1.0</td>\n",
       "      <td>2.0</td>\n",
       "      <td>0.0</td>\n",
       "      <td>1.0</td>\n",
       "      <td>...</td>\n",
       "      <td>3.0</td>\n",
       "      <td>3.0</td>\n",
       "      <td>0.0</td>\n",
       "      <td>0.0</td>\n",
       "      <td>1.0</td>\n",
       "      <td>1.0</td>\n",
       "      <td>0.0</td>\n",
       "      <td>3.0</td>\n",
       "      <td>1.0</td>\n",
       "      <td>0.0</td>\n",
       "    </tr>\n",
       "    <tr>\n",
       "      <th>3</th>\n",
       "      <td>49.812426</td>\n",
       "      <td>160.224186</td>\n",
       "      <td>0.0</td>\n",
       "      <td>0.0</td>\n",
       "      <td>1.0</td>\n",
       "      <td>2.0</td>\n",
       "      <td>1.0</td>\n",
       "      <td>2.0</td>\n",
       "      <td>0.0</td>\n",
       "      <td>1.0</td>\n",
       "      <td>...</td>\n",
       "      <td>3.0</td>\n",
       "      <td>3.0</td>\n",
       "      <td>0.0</td>\n",
       "      <td>0.0</td>\n",
       "      <td>0.0</td>\n",
       "      <td>1.0</td>\n",
       "      <td>0.0</td>\n",
       "      <td>2.0</td>\n",
       "      <td>0.0</td>\n",
       "      <td>0.0</td>\n",
       "    </tr>\n",
       "    <tr>\n",
       "      <th>4</th>\n",
       "      <td>62.270030</td>\n",
       "      <td>191.703227</td>\n",
       "      <td>1.0</td>\n",
       "      <td>0.0</td>\n",
       "      <td>0.0</td>\n",
       "      <td>0.0</td>\n",
       "      <td>0.0</td>\n",
       "      <td>1.0</td>\n",
       "      <td>0.0</td>\n",
       "      <td>2.0</td>\n",
       "      <td>...</td>\n",
       "      <td>3.0</td>\n",
       "      <td>3.0</td>\n",
       "      <td>0.0</td>\n",
       "      <td>0.0</td>\n",
       "      <td>1.0</td>\n",
       "      <td>1.0</td>\n",
       "      <td>0.0</td>\n",
       "      <td>3.0</td>\n",
       "      <td>0.0</td>\n",
       "      <td>0.0</td>\n",
       "    </tr>\n",
       "  </tbody>\n",
       "</table>\n",
       "<p>5 rows × 42 columns</p>\n",
       "</div>"
      ],
      "text/plain": [
       "   weight_16   height_16  comp_noint_bed_16  comp_int_bed_16  talk_phon_wend  \\\n",
       "0  59.294132  181.602831                0.0              0.0             1.0   \n",
       "1  62.290242  168.453878                0.0              0.0             1.0   \n",
       "2  62.290242  168.453878                0.0              0.0             1.0   \n",
       "3  49.812426  160.224186                0.0              0.0             1.0   \n",
       "4  62.270030  191.703227                1.0              0.0             0.0   \n",
       "\n",
       "   text_wend  talk_mob_wend  comp_wend  musi_wend  read_wend  ...  \\\n",
       "0        1.0            1.0        2.0        0.0        1.0  ...   \n",
       "1        1.0            1.0        2.0        0.0        1.0  ...   \n",
       "2        1.0            1.0        2.0        0.0        1.0  ...   \n",
       "3        2.0            1.0        2.0        0.0        1.0  ...   \n",
       "4        0.0            0.0        1.0        0.0        2.0  ...   \n",
       "\n",
       "   anx_band_15  exercise  child_bull  has_dep_diag  secd_diag  prim_diag  \\\n",
       "0          0.5       4.0         0.0           0.0        0.0        0.0   \n",
       "1          3.0       3.0         0.0           0.0        1.0        1.0   \n",
       "2          3.0       3.0         0.0           0.0        1.0        1.0   \n",
       "3          3.0       3.0         0.0           0.0        0.0        1.0   \n",
       "4          3.0       3.0         0.0           0.0        1.0        1.0   \n",
       "\n",
       "   panic_score  dep_thoughts  dep_score  comp_house  \n",
       "0          0.0           1.0        0.0         1.0  \n",
       "1          0.0           3.0        1.0         0.0  \n",
       "2          0.0           3.0        1.0         0.0  \n",
       "3          0.0           2.0        0.0         0.0  \n",
       "4          0.0           3.0        0.0         0.0  \n",
       "\n",
       "[5 rows x 42 columns]"
      ]
     },
     "execution_count": 13,
     "metadata": {},
     "output_type": "execute_result"
    }
   ],
   "source": [
    "data1 = pd.read_csv(\"imputed_dataset_1.csv\", engine='python')\n",
    "data1.head()\n",
    "data2 = pd.read_csv(\"imputed_dataset_2.csv\", engine='python')\n",
    "data2.head()\n",
    "data3 = pd.read_csv(\"imputed_dataset_3.csv\", engine='python')\n",
    "data3.head()\n",
    "data4 = pd.read_csv(\"imputed_dataset_4.csv\", engine='python')\n",
    "data4.head()\n",
    "data5 = pd.read_csv(\"imputed_dataset_5.csv\", engine='python').drop(['Unnamed: 0'], axis = 1)\n",
    "data5.head()"
   ]
  },
  {
   "cell_type": "code",
   "execution_count": 25,
   "metadata": {},
   "outputs": [
    {
     "name": "stdout",
     "output_type": "stream",
     "text": [
      "(13734, 5)\n",
      "(13734, 36)\n"
     ]
    }
   ],
   "source": [
    "Y = np.column_stack((data5['has_dep_diag'], data5['secd_diag'], data5['prim_diag'], data5['dep_score'], data5['dep_thoughts']))\n",
    "print(Y.shape)\n",
    "X = data5.drop(['has_dep_diag'],axis=1).drop(['secd_diag'],axis=1).drop(['prim_diag'],axis=1).drop(['dep_score'],axis=1).drop(['dep_thoughts'],axis=1).drop(['panic_score'],axis=1)\n",
    "print(X.shape)"
   ]
  },
  {
   "cell_type": "code",
   "execution_count": 26,
   "metadata": {},
   "outputs": [],
   "source": [
    "from random import shuffle\n",
    "\n",
    "def shuffle_dataset(N, X, y, X_shuffled, y_shuffled):\n",
    "    ind_list = [i for i in range(N)]\n",
    "    shuffle(ind_list)\n",
    "    X_shuffled  = X.iloc[ind_list]\n",
    "    y_shuffled = y.iloc[ind_list]"
   ]
  },
  {
   "cell_type": "code",
   "execution_count": 27,
   "metadata": {},
   "outputs": [],
   "source": [
    "X_shuffled = X\n",
    "y_shuffled = Y\n",
    "shuffle_dataset(13734, pd. DataFrame(X), pd. DataFrame(Y), pd. DataFrame(X_shuffled), pd. DataFrame(y_shuffled))"
   ]
  },
  {
   "cell_type": "code",
   "execution_count": 28,
   "metadata": {},
   "outputs": [
    {
     "name": "stdout",
     "output_type": "stream",
     "text": [
      "(10987, 36)\n",
      "(2747, 36)\n",
      "(10987, 5)\n",
      "(2747, 5)\n"
     ]
    }
   ],
   "source": [
    "from sklearn.model_selection import train_test_split\n",
    "X_train, X_test, y_train, y_test = train_test_split(X, Y,test_size=0.2, random_state=40)\n",
    "print(X_train.shape); print(X_test.shape)\n",
    "print(y_train.shape); print(y_test.shape)"
   ]
  },
  {
   "cell_type": "code",
   "execution_count": 29,
   "metadata": {},
   "outputs": [
    {
     "name": "stdout",
     "output_type": "stream",
     "text": [
      "(1000, 36)\n",
      "(200, 36)\n",
      "(1000, 5)\n",
      "(200, 5)\n"
     ]
    }
   ],
   "source": [
    "#reduce the dataset\n",
    "X_train_reduced, y_train_reduced = X_train[0:1000], y_train[0:1000]\n",
    "X_test_reduced, y_test_reduced = X_test[0:200], y_test[0:200]\n",
    "print(X_train_reduced.shape); print(X_test_reduced.shape)\n",
    "print(y_train_reduced.shape); print(y_test_reduced.shape)"
   ]
  },
  {
   "cell_type": "code",
   "execution_count": 30,
   "metadata": {},
   "outputs": [
    {
     "data": {
      "text/plain": [
       "KNeighborsClassifier()"
      ]
     },
     "execution_count": 30,
     "metadata": {},
     "output_type": "execute_result"
    }
   ],
   "source": [
    "knn = KNeighborsClassifier(n_neighbors=5) #, metric='euclidean')\n",
    "knn.fit(X_train, y_train)"
   ]
  },
  {
   "cell_type": "code",
   "execution_count": 31,
   "metadata": {},
   "outputs": [],
   "source": [
    "y_pred = knn.predict(X_test)"
   ]
  },
  {
   "cell_type": "code",
   "execution_count": 34,
   "metadata": {},
   "outputs": [
    {
     "name": "stdout",
     "output_type": "stream",
     "text": [
      "[[5128  394   58   12    4    9    1    0    2    0    2    7    0]\n",
      " [ 732 4413  308   11    9    3    1    0    2    0    3    6    0]\n",
      " [ 257  340  295    9    6    3    2    0    0    0    1    4    0]\n",
      " [  76   76   59 1212    2    2    0    0    0    0    0    1    0]\n",
      " [  37   31   25    1    9    1    0    0    0    0    0    0    0]\n",
      " [  24   13    7    0    0    1    0    0    1    0    0    1    0]\n",
      " [  10    3    1    0    1    0    1    0    0    0    0    0    0]\n",
      " [   1    0    0    0    0    0    0    0    0    0    0    0    0]\n",
      " [  22    4    1    0    0    0    0    0    0    0    0    0    0]\n",
      " [   7    2    0    0    0    0    0    0    0    0    0    0    0]\n",
      " [  15    3    0    0    0    1    0    0    0    0    2    1    0]\n",
      " [  21   10    2    0    0    1    0    0    0    0    1    3    0]\n",
      " [  17    0    2    1    0    0    0    0    0    0    0    1    0]]\n",
      "              precision    recall  f1-score   support\n",
      "\n",
      "         0.0       0.81      0.91      0.86      5617\n",
      "         1.0       0.83      0.80      0.82      5488\n",
      "         2.0       0.39      0.32      0.35       917\n",
      "         3.0       0.97      0.85      0.91      1428\n",
      "         4.0       0.29      0.09      0.13       104\n",
      "         5.0       0.05      0.02      0.03        47\n",
      "         6.0       0.20      0.06      0.10        16\n",
      "         7.0       0.00      0.00      0.00         1\n",
      "         8.0       0.00      0.00      0.00        27\n",
      "         9.0       0.00      0.00      0.00         9\n",
      "        10.0       0.22      0.09      0.13        22\n",
      "        11.0       0.12      0.08      0.10        38\n",
      "        12.0       0.00      0.00      0.00        21\n",
      "\n",
      "    accuracy                           0.81     13735\n",
      "   macro avg       0.30      0.25      0.26     13735\n",
      "weighted avg       0.79      0.81      0.80     13735\n",
      "\n",
      "0.571327334847336\n"
     ]
    },
    {
     "name": "stderr",
     "output_type": "stream",
     "text": [
      "/home/karolina/anaconda3/lib/python3.8/site-packages/sklearn/metrics/_classification.py:1221: UndefinedMetricWarning: Precision and F-score are ill-defined and being set to 0.0 in labels with no predicted samples. Use `zero_division` parameter to control this behavior.\n",
      "  _warn_prf(average, modifier, msg_start, len(result))\n"
     ]
    }
   ],
   "source": [
    "print(confusion_matrix(y_test.ravel(), y_pred.ravel()))\n",
    "print(classification_report(y_test.ravel(), y_pred.ravel()))\n",
    "\n",
    "from sklearn.metrics import accuracy_score, f1_score\n",
    "print(f1_score(y_pred[:,0], y_test[:,0], average = \"macro\"))"
   ]
  },
  {
   "cell_type": "markdown",
   "metadata": {},
   "source": [
    "## Balanced via random sampling"
   ]
  },
  {
   "cell_type": "code",
   "execution_count": 39,
   "metadata": {},
   "outputs": [
    {
     "name": "stdout",
     "output_type": "stream",
     "text": [
      "(400, 36)\n",
      "(400, 5)\n",
      "(200, 36)\n",
      "(200, 36)\n",
      "(200, 5)\n",
      "(200, 5)\n"
     ]
    }
   ],
   "source": [
    "from itertools import chain, combinations\n",
    "from scipy import stats\n",
    "#dep = np.random.choice(df,replace = False, size = n)\n",
    "dep = data5.query('has_dep_diag in [1.0]')\n",
    "dep = dep.sample(n = 200, random_state = 1)\n",
    "no_dep = data5.query('has_dep_diag in [0.0]')\n",
    "no_dep = no_dep.sample(n = 200, random_state = 1)\n",
    "\n",
    "balanced = dep.append(no_dep)\n",
    "\n",
    "Xb = balanced.drop(['has_dep_diag'],axis=1).drop(['secd_diag'],axis=1).drop(['prim_diag'],axis=1).drop(['dep_score'],axis=1).drop(['dep_thoughts'],axis=1).drop(['panic_score'], axis=1)\n",
    "print(Xb.shape)\n",
    "Yb = np.column_stack((balanced['has_dep_diag'], balanced['secd_diag'], balanced['prim_diag'], balanced['dep_score'], balanced['dep_thoughts']))\n",
    "print(Yb.shape)\n",
    "\n",
    "Xb_shuffled = Xb\n",
    "yb_shuffled = Yb\n",
    "shuffle_dataset(200, pd. DataFrame(Xb), pd. DataFrame(Yb), pd. DataFrame(Xb_shuffled), pd. DataFrame(yb_shuffled))\n",
    "\n",
    "Xb_train, Xb_test, yb_train, yb_test = train_test_split(Xb_shuffled, yb_shuffled,test_size=0.5, random_state=40)\n",
    "print(Xb_train.shape); print(Xb_test.shape)\n",
    "print(yb_train.shape); print(yb_test.shape)\n",
    "#def random_sampling(df, n):\n",
    " #   random_sample = np.random.choice(df,replace = False, size = n)\n",
    "  #  return(random_sample)\n",
    "#randomSample = random_sampling(population_df, N)"
   ]
  },
  {
   "cell_type": "code",
   "execution_count": 45,
   "metadata": {},
   "outputs": [],
   "source": [
    "knn = KNeighborsClassifier(n_neighbors=5) #, metric='euclidean')\n",
    "knn.fit(Xb_train, yb_train)\n",
    "y_pred = knn.predict(X_test)"
   ]
  },
  {
   "cell_type": "code",
   "execution_count": 46,
   "metadata": {},
   "outputs": [
    {
     "name": "stdout",
     "output_type": "stream",
     "text": [
      "0.4704898778891499\n"
     ]
    }
   ],
   "source": [
    "from sklearn.metrics import accuracy_score, f1_score\n",
    "print(f1_score(y_pred[:,0], y_test[:,0], average = \"macro\"))"
   ]
  }
 ],
 "metadata": {
  "kernelspec": {
   "display_name": "Python 3",
   "language": "python",
   "name": "python3"
  },
  "language_info": {
   "codemirror_mode": {
    "name": "ipython",
    "version": 3
   },
   "file_extension": ".py",
   "mimetype": "text/x-python",
   "name": "python",
   "nbconvert_exporter": "python",
   "pygments_lexer": "ipython3",
   "version": "3.8.5"
  }
 },
 "nbformat": 4,
 "nbformat_minor": 5
}
