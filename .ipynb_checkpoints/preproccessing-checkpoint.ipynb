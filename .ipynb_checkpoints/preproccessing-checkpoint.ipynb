{
 "cells": [
  {
   "cell_type": "code",
   "execution_count": 101,
   "metadata": {},
   "outputs": [],
   "source": [
    "import pandas as pd\n",
    "import numpy as np\n",
    "import matplotlib.pyplot as plt\n",
    "from scipy import stats\n",
    "import seaborn as sns\n",
    "import missingno as msno\n",
    "from collections import Counter"
   ]
  },
  {
   "cell_type": "markdown",
   "metadata": {},
   "source": [
    "# Pre-proccessing"
   ]
  },
  {
   "cell_type": "markdown",
   "metadata": {},
   "source": [
    "## Raw data:"
   ]
  },
  {
   "cell_type": "code",
   "execution_count": 102,
   "metadata": {
    "scrolled": false
   },
   "outputs": [
    {
     "name": "stdout",
     "output_type": "stream",
     "text": [
      "<class 'pandas.core.frame.DataFrame'>\n",
      "RangeIndex: 13734 entries, 0 to 13733\n",
      "Data columns (total 85 columns):\n",
      " #   Column             Non-Null Count  Dtype  \n",
      "---  ------             --------------  -----  \n",
      " 0   Unnamed: 0         13734 non-null  int64  \n",
      " 1   X                  13734 non-null  int64  \n",
      " 2   flag               13734 non-null  object \n",
      " 3   comp_bed_9         8174 non-null   object \n",
      " 4   mat_dep            11145 non-null  float64\n",
      " 5   mat_age            13326 non-null  object \n",
      " 6   weight_16          5351 non-null   float64\n",
      " 7   height_16          5364 non-null   float64\n",
      " 8   iq                 7288 non-null   float64\n",
      " 9   comp_noint_bed_16  471 non-null    object \n",
      " 10  comp_int_bed_16    2570 non-null   object \n",
      " 11  talk_phon_wend     4850 non-null   object \n",
      " 12  text_wend          4841 non-null   object \n",
      " 13  talk_mob_wend      4834 non-null   object \n",
      " 14  comp_wend          4839 non-null   object \n",
      " 15  musi_wend          4831 non-null   object \n",
      " 16  read_wend          4834 non-null   object \n",
      " 17  work_wend          4833 non-null   object \n",
      " 18  alon_wend          4850 non-null   object \n",
      " 19  draw_wend          4842 non-null   object \n",
      " 20  play_wend          4850 non-null   object \n",
      " 21  tv_wend            4853 non-null   object \n",
      " 22  out_win_wend       4849 non-null   object \n",
      " 23  out_sum_wend       4822 non-null   object \n",
      " 24  tran_wend          4861 non-null   object \n",
      " 25  talk_phon_week     4999 non-null   object \n",
      " 26  text_week          5004 non-null   object \n",
      " 27  talk_mob_week      5016 non-null   object \n",
      " 28  comp_week          5011 non-null   object \n",
      " 29  musi_week          5003 non-null   object \n",
      " 30  read_week          4993 non-null   object \n",
      " 31  work_week          5012 non-null   object \n",
      " 32  alon_week          5008 non-null   object \n",
      " 33  draw_week          5012 non-null   object \n",
      " 34  play_week          5015 non-null   object \n",
      " 35  tv_week            5020 non-null   object \n",
      " 36  out_win_week       5007 non-null   object \n",
      " 37  out_sum_week       5014 non-null   object \n",
      " 38  tran_week          5024 non-null   object \n",
      " 39  pat_pres_10        8057 non-null   object \n",
      " 40  pat_pres_8         7729 non-null   object \n",
      " 41  pat_pres           9579 non-null   object \n",
      " 42  num_home           9583 non-null   object \n",
      " 43  mat_anx_1          9700 non-null   object \n",
      " 44  mat_anx_18m        9884 non-null   object \n",
      " 45  mat_anx_8m         10488 non-null  object \n",
      " 46  agg_score          10714 non-null  float64\n",
      " 47  emot_cruel         11301 non-null  object \n",
      " 48  phys_cruel         11301 non-null  object \n",
      " 49  mat_anx_0m         11265 non-null  object \n",
      " 50  pat_ses            11021 non-null  object \n",
      " 51  mat_ses            10110 non-null  object \n",
      " 52  pat_edu            10750 non-null  object \n",
      " 53  mat_edu            12375 non-null  object \n",
      " 54  parity             12544 non-null  float64\n",
      " 55  dep_band_15        5299 non-null   object \n",
      " 56  dep_band_13        7003 non-null   object \n",
      " 57  dep_band_10        7679 non-null   object \n",
      " 58  dep_band_07        8089 non-null   object \n",
      " 59  anx_band_15        5303 non-null   object \n",
      " 60  anx_band_13        7158 non-null   object \n",
      " 61  anx_band_10        7852 non-null   object \n",
      " 62  anx_band_07        8280 non-null   object \n",
      " 63  exercise           4971 non-null   object \n",
      " 64  child_bull         4989 non-null   object \n",
      " 65  phone_14_wend      5962 non-null   object \n",
      " 66  phone_14_week      6131 non-null   object \n",
      " 67  musi_13            6880 non-null   object \n",
      " 68  tv_bed_9           8348 non-null   object \n",
      " 69  own_mob            4386 non-null   object \n",
      " 70  has_dep_diag       4513 non-null   object \n",
      " 71  secd_diag          4513 non-null   float64\n",
      " 72  prim_diag          4513 non-null   float64\n",
      " 73  panic_score        4513 non-null   float64\n",
      " 74  dep_thoughts       1805 non-null   float64\n",
      " 75  dep_score          4513 non-null   float64\n",
      " 76  comp_house         713 non-null    object \n",
      " 77  tv_bed_16          3877 non-null   object \n",
      " 78  creat_14           7093 non-null   object \n",
      " 79  comp_games         9660 non-null   object \n",
      " 80  fam_tv_eve         11174 non-null  object \n",
      " 81  fam_tv_aft         11038 non-null  object \n",
      " 82  fam_tv_mor         11096 non-null  object \n",
      " 83  sex                13734 non-null  object \n",
      " 84  birth_order        13734 non-null  object \n",
      "dtypes: float64(11), int64(2), object(72)\n",
      "memory usage: 8.9+ MB\n"
     ]
    }
   ],
   "source": [
    "data = pd.read_csv(\"./dataset/maps-synthetic-data-v1.1.csv\", engine='python')\n",
    "data.head()\n",
    "data.info()"
   ]
  },
  {
   "cell_type": "code",
   "execution_count": 103,
   "metadata": {},
   "outputs": [
    {
     "data": {
      "text/html": [
       "<div>\n",
       "<style scoped>\n",
       "    .dataframe tbody tr th:only-of-type {\n",
       "        vertical-align: middle;\n",
       "    }\n",
       "\n",
       "    .dataframe tbody tr th {\n",
       "        vertical-align: top;\n",
       "    }\n",
       "\n",
       "    .dataframe thead th {\n",
       "        text-align: right;\n",
       "    }\n",
       "</style>\n",
       "<table border=\"1\" class=\"dataframe\">\n",
       "  <thead>\n",
       "    <tr style=\"text-align: right;\">\n",
       "      <th></th>\n",
       "      <th>Variable Name</th>\n",
       "      <th>Variable ALSPAC Name</th>\n",
       "      <th>Variable Description</th>\n",
       "      <th>Variable Type</th>\n",
       "      <th>Administered to</th>\n",
       "      <th>Age of child at administration</th>\n",
       "      <th>ALSPAC Measure</th>\n",
       "      <th>ALSPAC Responses</th>\n",
       "      <th>Processing Details</th>\n",
       "      <th>Reference Document</th>\n",
       "    </tr>\n",
       "  </thead>\n",
       "  <tbody>\n",
       "    <tr>\n",
       "      <th>0</th>\n",
       "      <td>agg_score</td>\n",
       "      <td>f596</td>\n",
       "      <td>Aggression score of partnership</td>\n",
       "      <td>Discrete</td>\n",
       "      <td>Mother</td>\n",
       "      <td>Aged 8 months</td>\n",
       "      <td>Derived by ALSPAC. See Processing Details</td>\n",
       "      <td>NaN</td>\n",
       "      <td>Aggression score was determined by three quest...</td>\n",
       "      <td>NaN</td>\n",
       "    </tr>\n",
       "    <tr>\n",
       "      <th>1</th>\n",
       "      <td>alon_week</td>\n",
       "      <td>ccs1006</td>\n",
       "      <td>Average time child spent per day doing things ...</td>\n",
       "      <td>Ordinal</td>\n",
       "      <td>Child</td>\n",
       "      <td>Aged 198 months</td>\n",
       "      <td>\"How much time on average do you spend each da...</td>\n",
       "      <td>Not at all</td>\n",
       "      <td>The category \"Not at all\" was collapsed into t...</td>\n",
       "      <td>NaN</td>\n",
       "    </tr>\n",
       "    <tr>\n",
       "      <th>2</th>\n",
       "      <td>NaN</td>\n",
       "      <td>NaN</td>\n",
       "      <td>NaN</td>\n",
       "      <td>NaN</td>\n",
       "      <td>NaN</td>\n",
       "      <td>NaN</td>\n",
       "      <td>NaN</td>\n",
       "      <td>Less than 1 hour</td>\n",
       "      <td>NaN</td>\n",
       "      <td>NaN</td>\n",
       "    </tr>\n",
       "    <tr>\n",
       "      <th>3</th>\n",
       "      <td></td>\n",
       "      <td></td>\n",
       "      <td>NaN</td>\n",
       "      <td>NaN</td>\n",
       "      <td>NaN</td>\n",
       "      <td>NaN</td>\n",
       "      <td>NaN</td>\n",
       "      <td>1-2 hours</td>\n",
       "      <td>NaN</td>\n",
       "      <td>NaN</td>\n",
       "    </tr>\n",
       "    <tr>\n",
       "      <th>4</th>\n",
       "      <td></td>\n",
       "      <td></td>\n",
       "      <td>NaN</td>\n",
       "      <td>NaN</td>\n",
       "      <td>NaN</td>\n",
       "      <td>NaN</td>\n",
       "      <td>NaN</td>\n",
       "      <td>3 or more hours</td>\n",
       "      <td>NaN</td>\n",
       "      <td>NaN</td>\n",
       "    </tr>\n",
       "  </tbody>\n",
       "</table>\n",
       "</div>"
      ],
      "text/plain": [
       "  Variable Name Variable ALSPAC Name  \\\n",
       "0     agg_score                 f596   \n",
       "1     alon_week              ccs1006   \n",
       "2           NaN                  NaN   \n",
       "3                                      \n",
       "4                                      \n",
       "\n",
       "                                Variable Description Variable Type  \\\n",
       "0                    Aggression score of partnership      Discrete   \n",
       "1  Average time child spent per day doing things ...       Ordinal   \n",
       "2                                                NaN           NaN   \n",
       "3                                                NaN           NaN   \n",
       "4                                                NaN           NaN   \n",
       "\n",
       "  Administered to Age of child at administration  \\\n",
       "0          Mother                  Aged 8 months   \n",
       "1           Child                Aged 198 months   \n",
       "2             NaN                            NaN   \n",
       "3             NaN                            NaN   \n",
       "4             NaN                            NaN   \n",
       "\n",
       "                                      ALSPAC Measure  ALSPAC Responses  \\\n",
       "0          Derived by ALSPAC. See Processing Details               NaN   \n",
       "1  \"How much time on average do you spend each da...        Not at all   \n",
       "2                                                NaN  Less than 1 hour   \n",
       "3                                                NaN         1-2 hours   \n",
       "4                                                NaN   3 or more hours   \n",
       "\n",
       "                                  Processing Details Reference Document  \n",
       "0  Aggression score was determined by three quest...                NaN  \n",
       "1  The category \"Not at all\" was collapsed into t...                NaN  \n",
       "2                                                NaN                NaN  \n",
       "3                                                NaN                NaN  \n",
       "4                                                NaN                NaN  "
      ]
     },
     "execution_count": 103,
     "metadata": {},
     "output_type": "execute_result"
    }
   ],
   "source": [
    "dictionary = pd.read_csv(\"./dataset/synthetic_data_dictionary.csv\", engine='python')\n",
    "dictionary.head()"
   ]
  },
  {
   "cell_type": "markdown",
   "metadata": {},
   "source": [
    "Variables have different Age Of Child At Administration parameters. We don't need the variables with this parameter not equal to 16 (for variables related to screen time) and 18 (for variables related to a depression or anxiety diagnosis)."
   ]
  },
  {
   "cell_type": "markdown",
   "metadata": {},
   "source": [
    "## only the columns at 16 and 18:"
   ]
  },
  {
   "cell_type": "markdown",
   "metadata": {},
   "source": [
    "All vars at 16 are separated into weekend and weekdays. Might be worth summing it up into total per week."
   ]
  },
  {
   "cell_type": "code",
   "execution_count": 104,
   "metadata": {},
   "outputs": [
    {
     "name": "stdout",
     "output_type": "stream",
     "text": [
      "['alon_week', 'alon_wend', 'child_bull', 'comp_house', 'comp_int_bed_16', 'comp_noint_bed_16', 'comp_week', 'comp_wend', 'draw_week', 'draw_wend', 'exercise', 'musi_week', 'musi_wend', 'out_sum_week', 'out_sum_wend', 'out_win_week', 'out_win_wend', 'play_week', 'play_wend', 'read_week', 'read_wend', 'talk_mob_week', 'talk_mob_wend', 'talk_phon_week', 'talk_phon_wend', 'text_week', 'text_wend', 'tran_week', 'tran_wend', 'tv_week', 'tv_wend', 'work_week', 'work_wend', 'dep_score', 'dep_thoughts', 'has_dep_diag', 'panic_score', 'prim_diag', 'secd_diag', 'anx_band_15', 'dep_band_15', 'height_16', 'weight_16', 'iq'] 44\n"
     ]
    },
    {
     "name": "stderr",
     "output_type": "stream",
     "text": [
      "C:\\Users\\moham\\AppData\\Local\\Temp/ipykernel_4376/2958658514.py:5: FutureWarning: The series.append method is deprecated and will be removed from pandas in a future version. Use pandas.concat instead.\n",
      "  columns_to_keep_names = list(rows['Variable Name'].append(rows2['Variable Name']).append(rows3['Variable Name']))\n",
      "C:\\Users\\moham\\AppData\\Local\\Temp/ipykernel_4376/2958658514.py:5: FutureWarning: The series.append method is deprecated and will be removed from pandas in a future version. Use pandas.concat instead.\n",
      "  columns_to_keep_names = list(rows['Variable Name'].append(rows2['Variable Name']).append(rows3['Variable Name']))\n"
     ]
    }
   ],
   "source": [
    "rows = dictionary[(dictionary[\"Age of child at administration\"] == \"Aged 198 months\")]\n",
    "rows2 = dictionary[(dictionary[\"Age of child at administration\"] == \"Aged around 17.5 years\")]\n",
    "rows3 = dictionary[(dictionary[\"Age of child at administration\"] == \"Aged around 15.5 years\")]\n",
    "\n",
    "columns_to_keep_names = list(rows['Variable Name'].append(rows2['Variable Name']).append(rows3['Variable Name']))\n",
    "columns_to_keep_names.append('iq')\n",
    "print(columns_to_keep_names, len(columns_to_keep_names))"
   ]
  },
  {
   "cell_type": "markdown",
   "metadata": {},
   "source": [
    "## Changing the data types:\n",
    "Changing the categories to numbers and yes/no answers to 0/1"
   ]
  },
  {
   "cell_type": "code",
   "execution_count": 105,
   "metadata": {},
   "outputs": [],
   "source": [
    "for i in ['comp_bed_9', 'pat_pres_10', 'pat_pres_8', 'pat_pres', 'mat_anx_1', 'mat_anx_18m', 'mat_anx_8m', 'emot_cruel',\n",
    "          'phys_cruel', 'mat_anx_0m', 'child_bull', 'musi_13', 'tv_bed_9', 'own_mob', 'comp_games']:\n",
    "    data[i] = data[i].replace(['Yes'], 1)\n",
    "    data[i] = data[i].replace(['No'], 0)\n",
    "    \n",
    "for i in ['comp_noint_bed_16', 'comp_int_bed_16', 'comp_house', 'tv_bed_16']:\n",
    "    data[i] = data[i].replace(['Yes'], 1)\n",
    "    data[i] = data[i].fillna(0)\n",
    "    \n",
    "for i in ['talk_phon_wend', 'musi_wend', 'talk_phon_week', 'musi_week']:\n",
    "    data[i] = data[i].replace(['Not at all'], 0)\n",
    "    data[i] = data[i].replace(['Any at all'], 1)\n",
    "\n",
    "for i in ['play_wend', 'out_sum_wend', 'play_week', 'out_sum_week']:\n",
    "    data[i] = data[i].replace(['Less than 3 hours'], 0)\n",
    "    data[i] = data[i].replace(['3 or more hours'], 3)\n",
    "    \n",
    "for i in ['tran_wend', 'tran_week']:\n",
    "    data[i] = data[i].replace(['Less than 1 hour'], 0)\n",
    "    data[i] = data[i].replace(['1 or more hours'], 1)\n"
   ]
  },
  {
   "cell_type": "code",
   "execution_count": 106,
   "metadata": {},
   "outputs": [],
   "source": [
    "for i in ['talk_mob_wend', 'read_wend', 'draw_wend', 'talk_mob_week', 'read_week', 'draw_week']:\n",
    "    data[i] = data[i].replace(['Not at all', 'Less than 1 hour', '1 or more hours'], range(3))\n",
    "    \n",
    "for i in ['work_wend', 'alon_wend', 'out_win_wend', 'work_week', 'alon_week', 'out_win_week']:\n",
    "    data[i] = data[i].replace(['Less than 1 hour', '1-2 hours', '3 or more hours'], [0, 1, 3])\n",
    "    \n",
    "for i in ['phone_14_wend', 'phone_14_week']:\n",
    "    data[i] = data[i].replace(['Not at all', '< 1 hour', '1 or more hours'], range(3))\n",
    "    \n",
    "for i in ['fam_tv_eve', 'fam_tv_aft', 'fam_tv_mor']:\n",
    "    data[i] = data[i].replace(['Other', 'Yes, Some Days', 'Yes, Every Day'], range(3))    "
   ]
  },
  {
   "cell_type": "code",
   "execution_count": 107,
   "metadata": {},
   "outputs": [],
   "source": [
    "for i in ['text_wend', 'comp_wend', 'tv_wend', 'text_week', 'comp_week', 'tv_week']:\n",
    "    data[i] = data[i].replace(['Not at all', 'Less than 1 hour', '1-2 hours', '3 or more hours'], range(4))"
   ]
  },
  {
   "cell_type": "code",
   "execution_count": 108,
   "metadata": {},
   "outputs": [],
   "source": [
    "percentages = ['dep_band_07', 'dep_band_15', 'dep_band_13', 'dep_band_10', 'anx_band_15', 'anx_band_07',\n",
    "               'anx_band_13', 'anx_band_10']\n",
    "for i in percentages:\n",
    "    data[i] = data[i].str.strip('%<>~').astype('float')"
   ]
  },
  {
   "cell_type": "code",
   "execution_count": 109,
   "metadata": {},
   "outputs": [],
   "source": [
    "data['weight_16'].round(decimals = 2)\n",
    "data['height_16'].round(decimals = 2).head()\n",
    "data['has_dep_diag'].replace(['Yes ICD-10 diagnosis of depression', ' No ICD-10 diagnosis of depression'], [1, 0], inplace = True)\n",
    "data['exercise'].replace(['Never','Less than once a month', '1-3 times a month',\n",
    "                         '1-4 times a week', '5 or more times a week'], range(5), inplace = True)"
   ]
  },
  {
   "cell_type": "code",
   "execution_count": 110,
   "metadata": {},
   "outputs": [
    {
     "name": "stdout",
     "output_type": "stream",
     "text": [
      "<class 'pandas.core.frame.DataFrame'>\n",
      "RangeIndex: 13734 entries, 0 to 13733\n",
      "Data columns (total 85 columns):\n",
      " #   Column             Non-Null Count  Dtype  \n",
      "---  ------             --------------  -----  \n",
      " 0   Unnamed: 0         13734 non-null  int64  \n",
      " 1   X                  13734 non-null  int64  \n",
      " 2   flag               13734 non-null  object \n",
      " 3   comp_bed_9         8174 non-null   float64\n",
      " 4   mat_dep            11145 non-null  float64\n",
      " 5   mat_age            13326 non-null  object \n",
      " 6   weight_16          5351 non-null   float64\n",
      " 7   height_16          5364 non-null   float64\n",
      " 8   iq                 7288 non-null   float64\n",
      " 9   comp_noint_bed_16  13734 non-null  float64\n",
      " 10  comp_int_bed_16    13734 non-null  float64\n",
      " 11  talk_phon_wend     4850 non-null   float64\n",
      " 12  text_wend          4841 non-null   float64\n",
      " 13  talk_mob_wend      4834 non-null   float64\n",
      " 14  comp_wend          4839 non-null   float64\n",
      " 15  musi_wend          4831 non-null   float64\n",
      " 16  read_wend          4834 non-null   float64\n",
      " 17  work_wend          4833 non-null   float64\n",
      " 18  alon_wend          4850 non-null   float64\n",
      " 19  draw_wend          4842 non-null   float64\n",
      " 20  play_wend          4850 non-null   float64\n",
      " 21  tv_wend            4853 non-null   float64\n",
      " 22  out_win_wend       4849 non-null   float64\n",
      " 23  out_sum_wend       4822 non-null   float64\n",
      " 24  tran_wend          4861 non-null   float64\n",
      " 25  talk_phon_week     4999 non-null   float64\n",
      " 26  text_week          5004 non-null   float64\n",
      " 27  talk_mob_week      5016 non-null   float64\n",
      " 28  comp_week          5011 non-null   float64\n",
      " 29  musi_week          5003 non-null   float64\n",
      " 30  read_week          4993 non-null   float64\n",
      " 31  work_week          5012 non-null   float64\n",
      " 32  alon_week          5008 non-null   float64\n",
      " 33  draw_week          5012 non-null   float64\n",
      " 34  play_week          5015 non-null   float64\n",
      " 35  tv_week            5020 non-null   float64\n",
      " 36  out_win_week       5007 non-null   float64\n",
      " 37  out_sum_week       5014 non-null   float64\n",
      " 38  tran_week          5024 non-null   float64\n",
      " 39  pat_pres_10        8057 non-null   float64\n",
      " 40  pat_pres_8         7729 non-null   float64\n",
      " 41  pat_pres           9579 non-null   float64\n",
      " 42  num_home           9583 non-null   object \n",
      " 43  mat_anx_1          9700 non-null   float64\n",
      " 44  mat_anx_18m        9884 non-null   float64\n",
      " 45  mat_anx_8m         10488 non-null  float64\n",
      " 46  agg_score          10714 non-null  float64\n",
      " 47  emot_cruel         11301 non-null  float64\n",
      " 48  phys_cruel         11301 non-null  float64\n",
      " 49  mat_anx_0m         11265 non-null  float64\n",
      " 50  pat_ses            11021 non-null  object \n",
      " 51  mat_ses            10110 non-null  object \n",
      " 52  pat_edu            10750 non-null  object \n",
      " 53  mat_edu            12375 non-null  object \n",
      " 54  parity             12544 non-null  float64\n",
      " 55  dep_band_15        5299 non-null   float64\n",
      " 56  dep_band_13        7003 non-null   float64\n",
      " 57  dep_band_10        7679 non-null   float64\n",
      " 58  dep_band_07        8089 non-null   float64\n",
      " 59  anx_band_15        5303 non-null   float64\n",
      " 60  anx_band_13        7158 non-null   float64\n",
      " 61  anx_band_10        7852 non-null   float64\n",
      " 62  anx_band_07        8280 non-null   float64\n",
      " 63  exercise           4971 non-null   float64\n",
      " 64  child_bull         4989 non-null   float64\n",
      " 65  phone_14_wend      5962 non-null   float64\n",
      " 66  phone_14_week      6131 non-null   float64\n",
      " 67  musi_13            6880 non-null   float64\n",
      " 68  tv_bed_9           8348 non-null   float64\n",
      " 69  own_mob            4386 non-null   float64\n",
      " 70  has_dep_diag       4513 non-null   float64\n",
      " 71  secd_diag          4513 non-null   float64\n",
      " 72  prim_diag          4513 non-null   float64\n",
      " 73  panic_score        4513 non-null   float64\n",
      " 74  dep_thoughts       1805 non-null   float64\n",
      " 75  dep_score          4513 non-null   float64\n",
      " 76  comp_house         13734 non-null  float64\n",
      " 77  tv_bed_16          13734 non-null  float64\n",
      " 78  creat_14           7093 non-null   object \n",
      " 79  comp_games         9660 non-null   float64\n",
      " 80  fam_tv_eve         11174 non-null  float64\n",
      " 81  fam_tv_aft         11038 non-null  float64\n",
      " 82  fam_tv_mor         11096 non-null  float64\n",
      " 83  sex                13734 non-null  object \n",
      " 84  birth_order        13734 non-null  object \n",
      "dtypes: float64(73), int64(2), object(10)\n",
      "memory usage: 8.9+ MB\n"
     ]
    }
   ],
   "source": [
    "data.info()"
   ]
  },
  {
   "cell_type": "markdown",
   "metadata": {},
   "source": [
    "## Remove vars at wrong ages"
   ]
  },
  {
   "cell_type": "code",
   "execution_count": 111,
   "metadata": {},
   "outputs": [
    {
     "name": "stdout",
     "output_type": "stream",
     "text": [
      "<class 'pandas.core.frame.DataFrame'>\n",
      "RangeIndex: 13734 entries, 0 to 13733\n",
      "Data columns (total 44 columns):\n",
      " #   Column             Non-Null Count  Dtype  \n",
      "---  ------             --------------  -----  \n",
      " 0   weight_16          5351 non-null   float64\n",
      " 1   height_16          5364 non-null   float64\n",
      " 2   iq                 7288 non-null   float64\n",
      " 3   comp_noint_bed_16  13734 non-null  float64\n",
      " 4   comp_int_bed_16    13734 non-null  float64\n",
      " 5   talk_phon_wend     4850 non-null   float64\n",
      " 6   text_wend          4841 non-null   float64\n",
      " 7   talk_mob_wend      4834 non-null   float64\n",
      " 8   comp_wend          4839 non-null   float64\n",
      " 9   musi_wend          4831 non-null   float64\n",
      " 10  read_wend          4834 non-null   float64\n",
      " 11  work_wend          4833 non-null   float64\n",
      " 12  alon_wend          4850 non-null   float64\n",
      " 13  draw_wend          4842 non-null   float64\n",
      " 14  play_wend          4850 non-null   float64\n",
      " 15  tv_wend            4853 non-null   float64\n",
      " 16  out_win_wend       4849 non-null   float64\n",
      " 17  out_sum_wend       4822 non-null   float64\n",
      " 18  tran_wend          4861 non-null   float64\n",
      " 19  talk_phon_week     4999 non-null   float64\n",
      " 20  text_week          5004 non-null   float64\n",
      " 21  talk_mob_week      5016 non-null   float64\n",
      " 22  comp_week          5011 non-null   float64\n",
      " 23  musi_week          5003 non-null   float64\n",
      " 24  read_week          4993 non-null   float64\n",
      " 25  work_week          5012 non-null   float64\n",
      " 26  alon_week          5008 non-null   float64\n",
      " 27  draw_week          5012 non-null   float64\n",
      " 28  play_week          5015 non-null   float64\n",
      " 29  tv_week            5020 non-null   float64\n",
      " 30  out_win_week       5007 non-null   float64\n",
      " 31  out_sum_week       5014 non-null   float64\n",
      " 32  tran_week          5024 non-null   float64\n",
      " 33  dep_band_15        5299 non-null   float64\n",
      " 34  anx_band_15        5303 non-null   float64\n",
      " 35  exercise           4971 non-null   float64\n",
      " 36  child_bull         4989 non-null   float64\n",
      " 37  has_dep_diag       4513 non-null   float64\n",
      " 38  secd_diag          4513 non-null   float64\n",
      " 39  prim_diag          4513 non-null   float64\n",
      " 40  panic_score        4513 non-null   float64\n",
      " 41  dep_thoughts       1805 non-null   float64\n",
      " 42  dep_score          4513 non-null   float64\n",
      " 43  comp_house         13734 non-null  float64\n",
      "dtypes: float64(44)\n",
      "memory usage: 4.6 MB\n"
     ]
    }
   ],
   "source": [
    "data = pd.DataFrame(data)\n",
    "for i in data.columns:\n",
    "    if (i not in columns_to_keep_names):\n",
    "        data.drop(i, inplace = True, axis = 1)\n",
    "data.info()"
   ]
  },
  {
   "cell_type": "markdown",
   "metadata": {},
   "source": [
    "## Combining variables\n",
    "Weekend + weekday columns combines into a sum column"
   ]
  },
  {
   "cell_type": "code",
   "execution_count": 112,
   "metadata": {},
   "outputs": [],
   "source": [
    "add1 = ['alon_week','draw_week','musi_week','out_sum_week','play_week','read_week','text_week',\n",
    "        'tran_week','work_week','comp_week','tv_week','talk_mob_week','talk_phon_week', 'comp_int_bed_16']\n",
    "add2 = ['alon_wend','draw_wend','musi_wend','out_sum_wend','play_wend','read_wend','text_wend',\n",
    "        'tran_wend','work_wend','comp_wend','tv_wend','talk_mob_wend','talk_phon_wend', 'comp_noint_bed_16']\n",
    "add3 = ['alon','draw','musi','out_sum','play','read','text',\n",
    "        'tran','work','comp','tv','talk_mob','talk_phon', 'comp_bed_16']\n",
    "\n",
    "for i in range(len(add1)):\n",
    "    data[add3[i]] = data[add1[i]] + data[add2[i]]\n",
    "\n",
    "data['comp_house_at_all'] = (data['comp_int_bed_16'] + data['comp_noint_bed_16'] + data['comp_house'])\n",
    "for i in ['talk_phon', 'musi']:\n",
    "    data[i].replace([2], 1, inplace = True)"
   ]
  },
  {
   "cell_type": "markdown",
   "metadata": {},
   "source": [
    "## Checking if combined variables were answered together\n"
   ]
  },
  {
   "cell_type": "code",
   "execution_count": 113,
   "metadata": {},
   "outputs": [],
   "source": [
    "error = []\n",
    "for i in data.index:\n",
    "    for j in range(len(add1)):\n",
    "        if(type(data[add1[j]][i]) != type(data[add2[j]][i])):\n",
    "            if(add1[j] not in error):\n",
    "                error.append(add1[j])\n",
    "\n",
    "for i in error:\n",
    "    print(i , data[i].unique())"
   ]
  },
  {
   "cell_type": "markdown",
   "metadata": {},
   "source": [
    "## Export the pre-proccessed data:"
   ]
  },
  {
   "cell_type": "code",
   "execution_count": 114,
   "metadata": {},
   "outputs": [],
   "source": [
    "data.to_csv(\"newdata2.csv\")"
   ]
  }
 ],
 "metadata": {
  "kernelspec": {
   "display_name": "Python 3",
   "language": "python",
   "name": "python3"
  },
  "language_info": {
   "codemirror_mode": {
    "name": "ipython",
    "version": 3
   },
   "file_extension": ".py",
   "mimetype": "text/x-python",
   "name": "python",
   "nbconvert_exporter": "python",
   "pygments_lexer": "ipython3",
   "version": "3.8.5"
  }
 },
 "nbformat": 4,
 "nbformat_minor": 4
}
