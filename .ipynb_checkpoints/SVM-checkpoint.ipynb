{
 "cells": [
  {
   "cell_type": "code",
   "execution_count": 3,
   "metadata": {},
   "outputs": [],
   "source": [
    "import pandas as pd\n",
    "import numpy as np\n",
    "import matplotlib.pyplot as plt\n",
    "from scipy import stats\n",
    "import seaborn as sns\n",
    "import missingno as msno\n",
    "from collections import Counter\n",
    "from itertools import chain, combinations\n",
    "import sklearn as sk"
   ]
  },
  {
   "cell_type": "markdown",
   "metadata": {},
   "source": [
    "# SVM"
   ]
  },
  {
   "cell_type": "code",
   "execution_count": 4,
   "metadata": {},
   "outputs": [
    {
     "data": {
      "text/html": [
       "<div>\n",
       "<style scoped>\n",
       "    .dataframe tbody tr th:only-of-type {\n",
       "        vertical-align: middle;\n",
       "    }\n",
       "\n",
       "    .dataframe tbody tr th {\n",
       "        vertical-align: top;\n",
       "    }\n",
       "\n",
       "    .dataframe thead th {\n",
       "        text-align: right;\n",
       "    }\n",
       "</style>\n",
       "<table border=\"1\" class=\"dataframe\">\n",
       "  <thead>\n",
       "    <tr style=\"text-align: right;\">\n",
       "      <th></th>\n",
       "      <th>Unnamed: 0</th>\n",
       "      <th>weight_16</th>\n",
       "      <th>height_16</th>\n",
       "      <th>iq</th>\n",
       "      <th>dep_band_15</th>\n",
       "      <th>anx_band_15</th>\n",
       "      <th>exercise</th>\n",
       "      <th>child_bull</th>\n",
       "      <th>has_dep_diag</th>\n",
       "      <th>secd_diag</th>\n",
       "      <th>...</th>\n",
       "      <th>read</th>\n",
       "      <th>text</th>\n",
       "      <th>tran</th>\n",
       "      <th>work</th>\n",
       "      <th>comp</th>\n",
       "      <th>tv</th>\n",
       "      <th>talk_mob</th>\n",
       "      <th>talk_phon</th>\n",
       "      <th>comp_bed_16</th>\n",
       "      <th>comp_house_at_all</th>\n",
       "    </tr>\n",
       "  </thead>\n",
       "  <tbody>\n",
       "    <tr>\n",
       "      <th>0</th>\n",
       "      <td>0</td>\n",
       "      <td>59.294132</td>\n",
       "      <td>181.602831</td>\n",
       "      <td>107.0</td>\n",
       "      <td>0.5</td>\n",
       "      <td>0.5</td>\n",
       "      <td>4.0</td>\n",
       "      <td>0.0</td>\n",
       "      <td>0.0</td>\n",
       "      <td>0.0</td>\n",
       "      <td>...</td>\n",
       "      <td>2.0</td>\n",
       "      <td>2.0</td>\n",
       "      <td>0.0</td>\n",
       "      <td>6.0</td>\n",
       "      <td>4.0</td>\n",
       "      <td>4.0</td>\n",
       "      <td>2.0</td>\n",
       "      <td>1.0</td>\n",
       "      <td>0.0</td>\n",
       "      <td>1.0</td>\n",
       "    </tr>\n",
       "    <tr>\n",
       "      <th>1</th>\n",
       "      <td>1</td>\n",
       "      <td>NaN</td>\n",
       "      <td>NaN</td>\n",
       "      <td>85.0</td>\n",
       "      <td>NaN</td>\n",
       "      <td>NaN</td>\n",
       "      <td>NaN</td>\n",
       "      <td>NaN</td>\n",
       "      <td>NaN</td>\n",
       "      <td>NaN</td>\n",
       "      <td>...</td>\n",
       "      <td>NaN</td>\n",
       "      <td>NaN</td>\n",
       "      <td>NaN</td>\n",
       "      <td>NaN</td>\n",
       "      <td>NaN</td>\n",
       "      <td>NaN</td>\n",
       "      <td>NaN</td>\n",
       "      <td>NaN</td>\n",
       "      <td>0.0</td>\n",
       "      <td>0.0</td>\n",
       "    </tr>\n",
       "    <tr>\n",
       "      <th>2</th>\n",
       "      <td>2</td>\n",
       "      <td>NaN</td>\n",
       "      <td>NaN</td>\n",
       "      <td>NaN</td>\n",
       "      <td>NaN</td>\n",
       "      <td>NaN</td>\n",
       "      <td>NaN</td>\n",
       "      <td>NaN</td>\n",
       "      <td>NaN</td>\n",
       "      <td>NaN</td>\n",
       "      <td>...</td>\n",
       "      <td>NaN</td>\n",
       "      <td>NaN</td>\n",
       "      <td>NaN</td>\n",
       "      <td>NaN</td>\n",
       "      <td>NaN</td>\n",
       "      <td>NaN</td>\n",
       "      <td>NaN</td>\n",
       "      <td>NaN</td>\n",
       "      <td>0.0</td>\n",
       "      <td>0.0</td>\n",
       "    </tr>\n",
       "    <tr>\n",
       "      <th>3</th>\n",
       "      <td>3</td>\n",
       "      <td>49.812426</td>\n",
       "      <td>160.224186</td>\n",
       "      <td>NaN</td>\n",
       "      <td>NaN</td>\n",
       "      <td>NaN</td>\n",
       "      <td>NaN</td>\n",
       "      <td>NaN</td>\n",
       "      <td>NaN</td>\n",
       "      <td>NaN</td>\n",
       "      <td>...</td>\n",
       "      <td>NaN</td>\n",
       "      <td>NaN</td>\n",
       "      <td>NaN</td>\n",
       "      <td>NaN</td>\n",
       "      <td>NaN</td>\n",
       "      <td>NaN</td>\n",
       "      <td>NaN</td>\n",
       "      <td>NaN</td>\n",
       "      <td>0.0</td>\n",
       "      <td>0.0</td>\n",
       "    </tr>\n",
       "    <tr>\n",
       "      <th>4</th>\n",
       "      <td>4</td>\n",
       "      <td>62.270030</td>\n",
       "      <td>191.703227</td>\n",
       "      <td>132.0</td>\n",
       "      <td>0.1</td>\n",
       "      <td>3.0</td>\n",
       "      <td>3.0</td>\n",
       "      <td>0.0</td>\n",
       "      <td>NaN</td>\n",
       "      <td>NaN</td>\n",
       "      <td>...</td>\n",
       "      <td>4.0</td>\n",
       "      <td>0.0</td>\n",
       "      <td>0.0</td>\n",
       "      <td>2.0</td>\n",
       "      <td>3.0</td>\n",
       "      <td>5.0</td>\n",
       "      <td>0.0</td>\n",
       "      <td>0.0</td>\n",
       "      <td>1.0</td>\n",
       "      <td>1.0</td>\n",
       "    </tr>\n",
       "  </tbody>\n",
       "</table>\n",
       "<p>5 rows × 31 columns</p>\n",
       "</div>"
      ],
      "text/plain": [
       "   Unnamed: 0  weight_16   height_16     iq  dep_band_15  anx_band_15  \\\n",
       "0           0  59.294132  181.602831  107.0          0.5          0.5   \n",
       "1           1        NaN         NaN   85.0          NaN          NaN   \n",
       "2           2        NaN         NaN    NaN          NaN          NaN   \n",
       "3           3  49.812426  160.224186    NaN          NaN          NaN   \n",
       "4           4  62.270030  191.703227  132.0          0.1          3.0   \n",
       "\n",
       "   exercise  child_bull  has_dep_diag  secd_diag  ...  read  text  tran  work  \\\n",
       "0       4.0         0.0           0.0        0.0  ...   2.0   2.0   0.0   6.0   \n",
       "1       NaN         NaN           NaN        NaN  ...   NaN   NaN   NaN   NaN   \n",
       "2       NaN         NaN           NaN        NaN  ...   NaN   NaN   NaN   NaN   \n",
       "3       NaN         NaN           NaN        NaN  ...   NaN   NaN   NaN   NaN   \n",
       "4       3.0         0.0           NaN        NaN  ...   4.0   0.0   0.0   2.0   \n",
       "\n",
       "   comp   tv  talk_mob  talk_phon  comp_bed_16  comp_house_at_all  \n",
       "0   4.0  4.0       2.0        1.0          0.0                1.0  \n",
       "1   NaN  NaN       NaN        NaN          0.0                0.0  \n",
       "2   NaN  NaN       NaN        NaN          0.0                0.0  \n",
       "3   NaN  NaN       NaN        NaN          0.0                0.0  \n",
       "4   3.0  5.0       0.0        0.0          1.0                1.0  \n",
       "\n",
       "[5 rows x 31 columns]"
      ]
     },
     "execution_count": 4,
     "metadata": {},
     "output_type": "execute_result"
    }
   ],
   "source": [
    "data0 = pd.read_csv(\"newdata3.csv\", engine='python')\n",
    "data0.head()"
   ]
  },
  {
   "cell_type": "code",
   "execution_count": 6,
   "metadata": {},
   "outputs": [
    {
     "data": {
      "text/html": [
       "<div>\n",
       "<style scoped>\n",
       "    .dataframe tbody tr th:only-of-type {\n",
       "        vertical-align: middle;\n",
       "    }\n",
       "\n",
       "    .dataframe tbody tr th {\n",
       "        vertical-align: top;\n",
       "    }\n",
       "\n",
       "    .dataframe thead th {\n",
       "        text-align: right;\n",
       "    }\n",
       "</style>\n",
       "<table border=\"1\" class=\"dataframe\">\n",
       "  <thead>\n",
       "    <tr style=\"text-align: right;\">\n",
       "      <th></th>\n",
       "      <th>Unnamed: 0</th>\n",
       "      <th>weight_16</th>\n",
       "      <th>height_16</th>\n",
       "      <th>comp_noint_bed_16</th>\n",
       "      <th>comp_int_bed_16</th>\n",
       "      <th>talk_phon_wend</th>\n",
       "      <th>text_wend</th>\n",
       "      <th>talk_mob_wend</th>\n",
       "      <th>comp_wend</th>\n",
       "      <th>musi_wend</th>\n",
       "      <th>...</th>\n",
       "      <th>anx_band_15</th>\n",
       "      <th>exercise</th>\n",
       "      <th>child_bull</th>\n",
       "      <th>has_dep_diag</th>\n",
       "      <th>secd_diag</th>\n",
       "      <th>prim_diag</th>\n",
       "      <th>panic_score</th>\n",
       "      <th>dep_thoughts</th>\n",
       "      <th>dep_score</th>\n",
       "      <th>comp_house</th>\n",
       "    </tr>\n",
       "  </thead>\n",
       "  <tbody>\n",
       "    <tr>\n",
       "      <th>0</th>\n",
       "      <td>0</td>\n",
       "      <td>59.294132</td>\n",
       "      <td>181.602831</td>\n",
       "      <td>0.0</td>\n",
       "      <td>0.0</td>\n",
       "      <td>1.0</td>\n",
       "      <td>1.0</td>\n",
       "      <td>1.0</td>\n",
       "      <td>2.0</td>\n",
       "      <td>0.0</td>\n",
       "      <td>...</td>\n",
       "      <td>0.5</td>\n",
       "      <td>4.0</td>\n",
       "      <td>0.0</td>\n",
       "      <td>0.0</td>\n",
       "      <td>0.0</td>\n",
       "      <td>0.0</td>\n",
       "      <td>0.0</td>\n",
       "      <td>1.0</td>\n",
       "      <td>0.0</td>\n",
       "      <td>1.0</td>\n",
       "    </tr>\n",
       "    <tr>\n",
       "      <th>1</th>\n",
       "      <td>1</td>\n",
       "      <td>62.290242</td>\n",
       "      <td>168.453878</td>\n",
       "      <td>0.0</td>\n",
       "      <td>0.0</td>\n",
       "      <td>1.0</td>\n",
       "      <td>1.0</td>\n",
       "      <td>1.0</td>\n",
       "      <td>2.0</td>\n",
       "      <td>0.0</td>\n",
       "      <td>...</td>\n",
       "      <td>3.0</td>\n",
       "      <td>3.0</td>\n",
       "      <td>0.0</td>\n",
       "      <td>0.0</td>\n",
       "      <td>1.0</td>\n",
       "      <td>1.0</td>\n",
       "      <td>0.0</td>\n",
       "      <td>3.0</td>\n",
       "      <td>1.0</td>\n",
       "      <td>0.0</td>\n",
       "    </tr>\n",
       "    <tr>\n",
       "      <th>2</th>\n",
       "      <td>2</td>\n",
       "      <td>62.290242</td>\n",
       "      <td>168.453878</td>\n",
       "      <td>0.0</td>\n",
       "      <td>0.0</td>\n",
       "      <td>1.0</td>\n",
       "      <td>1.0</td>\n",
       "      <td>1.0</td>\n",
       "      <td>2.0</td>\n",
       "      <td>0.0</td>\n",
       "      <td>...</td>\n",
       "      <td>3.0</td>\n",
       "      <td>3.0</td>\n",
       "      <td>0.0</td>\n",
       "      <td>0.0</td>\n",
       "      <td>1.0</td>\n",
       "      <td>1.0</td>\n",
       "      <td>0.0</td>\n",
       "      <td>3.0</td>\n",
       "      <td>1.0</td>\n",
       "      <td>0.0</td>\n",
       "    </tr>\n",
       "    <tr>\n",
       "      <th>3</th>\n",
       "      <td>3</td>\n",
       "      <td>49.812426</td>\n",
       "      <td>160.224186</td>\n",
       "      <td>0.0</td>\n",
       "      <td>0.0</td>\n",
       "      <td>1.0</td>\n",
       "      <td>2.0</td>\n",
       "      <td>1.0</td>\n",
       "      <td>2.0</td>\n",
       "      <td>0.0</td>\n",
       "      <td>...</td>\n",
       "      <td>3.0</td>\n",
       "      <td>3.0</td>\n",
       "      <td>0.0</td>\n",
       "      <td>0.0</td>\n",
       "      <td>0.0</td>\n",
       "      <td>1.0</td>\n",
       "      <td>0.0</td>\n",
       "      <td>2.0</td>\n",
       "      <td>0.0</td>\n",
       "      <td>0.0</td>\n",
       "    </tr>\n",
       "    <tr>\n",
       "      <th>4</th>\n",
       "      <td>4</td>\n",
       "      <td>62.270030</td>\n",
       "      <td>191.703227</td>\n",
       "      <td>1.0</td>\n",
       "      <td>0.0</td>\n",
       "      <td>0.0</td>\n",
       "      <td>0.0</td>\n",
       "      <td>0.0</td>\n",
       "      <td>1.0</td>\n",
       "      <td>0.0</td>\n",
       "      <td>...</td>\n",
       "      <td>3.0</td>\n",
       "      <td>3.0</td>\n",
       "      <td>0.0</td>\n",
       "      <td>0.0</td>\n",
       "      <td>1.0</td>\n",
       "      <td>1.0</td>\n",
       "      <td>0.0</td>\n",
       "      <td>3.0</td>\n",
       "      <td>0.0</td>\n",
       "      <td>0.0</td>\n",
       "    </tr>\n",
       "  </tbody>\n",
       "</table>\n",
       "<p>5 rows × 43 columns</p>\n",
       "</div>"
      ],
      "text/plain": [
       "   Unnamed: 0  weight_16   height_16  comp_noint_bed_16  comp_int_bed_16  \\\n",
       "0           0  59.294132  181.602831                0.0              0.0   \n",
       "1           1  62.290242  168.453878                0.0              0.0   \n",
       "2           2  62.290242  168.453878                0.0              0.0   \n",
       "3           3  49.812426  160.224186                0.0              0.0   \n",
       "4           4  62.270030  191.703227                1.0              0.0   \n",
       "\n",
       "   talk_phon_wend  text_wend  talk_mob_wend  comp_wend  musi_wend  ...  \\\n",
       "0             1.0        1.0            1.0        2.0        0.0  ...   \n",
       "1             1.0        1.0            1.0        2.0        0.0  ...   \n",
       "2             1.0        1.0            1.0        2.0        0.0  ...   \n",
       "3             1.0        2.0            1.0        2.0        0.0  ...   \n",
       "4             0.0        0.0            0.0        1.0        0.0  ...   \n",
       "\n",
       "   anx_band_15  exercise  child_bull  has_dep_diag  secd_diag  prim_diag  \\\n",
       "0          0.5       4.0         0.0           0.0        0.0        0.0   \n",
       "1          3.0       3.0         0.0           0.0        1.0        1.0   \n",
       "2          3.0       3.0         0.0           0.0        1.0        1.0   \n",
       "3          3.0       3.0         0.0           0.0        0.0        1.0   \n",
       "4          3.0       3.0         0.0           0.0        1.0        1.0   \n",
       "\n",
       "   panic_score  dep_thoughts  dep_score  comp_house  \n",
       "0          0.0           1.0        0.0         1.0  \n",
       "1          0.0           3.0        1.0         0.0  \n",
       "2          0.0           3.0        1.0         0.0  \n",
       "3          0.0           2.0        0.0         0.0  \n",
       "4          0.0           3.0        0.0         0.0  \n",
       "\n",
       "[5 rows x 43 columns]"
      ]
     },
     "execution_count": 6,
     "metadata": {},
     "output_type": "execute_result"
    }
   ],
   "source": [
    "data1 = pd.read_csv(\"imputed_dataset_1.csv\", engine='python')\n",
    "data1.head()\n",
    "data2 = pd.read_csv(\"imputed_dataset_2.csv\", engine='python')\n",
    "data2.head()\n",
    "data3 = pd.read_csv(\"imputed_dataset_3.csv\", engine='python')\n",
    "data3.head()\n",
    "data4 = pd.read_csv(\"imputed_dataset_4.csv\", engine='python')\n",
    "data4.head()\n",
    "data5 = pd.read_csv(\"imputed_dataset_5.csv\", engine='python')\n",
    "data5.head()"
   ]
  },
  {
   "cell_type": "markdown",
   "metadata": {},
   "source": [
    "Here you are going to study and discuss SVMs as a model for the fashion MNIST classification dataset. In particular you should:\n",
    "\n",
    "1. Train an SVM (with a specific Kernel), plot the training and validation learning curves. You may need to subsample the dataset if SVM training is taking too long. Do you see any signs of overfitting? Interpret and discuss your results. (1 mark)\n",
    "2. What are your results in the testing dataset? Interpret and discuss your results. (2 marks)\n",
    "3. How sensitive is this method to different hyperparameters? For example the different types of kernel (e.g. linear, RBF, etc.). Make use of plots (e.g. performance on test dataset as a function of different hyperparameters) to help you discuss this point. (5 marks)\n",
    "4. Plot decision boundaries and discuss their relevance. (2 marks)\n",
    "5. Compare your SVM results with the ANN above in terms of performance and the time it takes to train each method. For example, use bar plots to compare their performances and training times next to each other. Which is the better model? And why? (5 marks)\n"
   ]
  },
  {
   "cell_type": "code",
   "execution_count": 8,
   "metadata": {},
   "outputs": [
    {
     "name": "stdout",
     "output_type": "stream",
     "text": [
      "<class 'pandas.core.frame.DataFrame'>\n",
      "RangeIndex: 13734 entries, 0 to 13733\n",
      "Data columns (total 43 columns):\n",
      " #   Column             Non-Null Count  Dtype  \n",
      "---  ------             --------------  -----  \n",
      " 0   Unnamed: 0         13734 non-null  int64  \n",
      " 1   weight_16          13734 non-null  float64\n",
      " 2   height_16          13734 non-null  float64\n",
      " 3   comp_noint_bed_16  13734 non-null  float64\n",
      " 4   comp_int_bed_16    13734 non-null  float64\n",
      " 5   talk_phon_wend     13734 non-null  float64\n",
      " 6   text_wend          13734 non-null  float64\n",
      " 7   talk_mob_wend      13734 non-null  float64\n",
      " 8   comp_wend          13734 non-null  float64\n",
      " 9   musi_wend          13734 non-null  float64\n",
      " 10  read_wend          13734 non-null  float64\n",
      " 11  work_wend          13734 non-null  float64\n",
      " 12  alon_wend          13734 non-null  float64\n",
      " 13  draw_wend          13734 non-null  float64\n",
      " 14  play_wend          13734 non-null  float64\n",
      " 15  tv_wend            13734 non-null  float64\n",
      " 16  out_win_wend       13734 non-null  float64\n",
      " 17  out_sum_wend       13734 non-null  float64\n",
      " 18  tran_wend          13734 non-null  float64\n",
      " 19  talk_phon_week     13734 non-null  float64\n",
      " 20  talk_mob_week      13734 non-null  float64\n",
      " 21  comp_week          13734 non-null  float64\n",
      " 22  musi_week          13734 non-null  float64\n",
      " 23  read_week          13734 non-null  float64\n",
      " 24  work_week          13734 non-null  float64\n",
      " 25  alon_week          13734 non-null  float64\n",
      " 26  draw_week          13734 non-null  float64\n",
      " 27  play_week          13734 non-null  float64\n",
      " 28  tv_week            13734 non-null  float64\n",
      " 29  out_win_week       13734 non-null  float64\n",
      " 30  out_sum_week       13734 non-null  float64\n",
      " 31  tran_week          13734 non-null  float64\n",
      " 32  dep_band_15        13734 non-null  float64\n",
      " 33  anx_band_15        13734 non-null  float64\n",
      " 34  exercise           13734 non-null  float64\n",
      " 35  child_bull         13734 non-null  float64\n",
      " 36  has_dep_diag       13734 non-null  float64\n",
      " 37  secd_diag          13734 non-null  float64\n",
      " 38  prim_diag          13734 non-null  float64\n",
      " 39  panic_score        13734 non-null  float64\n",
      " 40  dep_thoughts       13734 non-null  float64\n",
      " 41  dep_score          13734 non-null  float64\n",
      " 42  comp_house         13734 non-null  float64\n",
      "dtypes: float64(42), int64(1)\n",
      "memory usage: 4.5 MB\n"
     ]
    }
   ],
   "source": [
    "data1.info()"
   ]
  },
  {
   "cell_type": "code",
   "execution_count": 16,
   "metadata": {},
   "outputs": [
    {
     "name": "stdout",
     "output_type": "stream",
     "text": [
      "(13734, 5)\n"
     ]
    }
   ],
   "source": [
    "Y = np.column_stack((data1['has_dep_diag'], data1['secd_diag'], data1['prim_diag'], data1['dep_score'], data1['dep_thoughts']))\n",
    "print(Y.shape)"
   ]
  },
  {
   "cell_type": "code",
   "execution_count": 17,
   "metadata": {},
   "outputs": [
    {
     "name": "stdout",
     "output_type": "stream",
     "text": [
      "(13734, 38)\n"
     ]
    }
   ],
   "source": [
    "X = data1.drop(['has_dep_diag'],axis=1).drop(['secd_diag'],axis=1).drop(['prim_diag'],axis=1).drop(['dep_score'],axis=1).drop(['dep_thoughts'],axis=1)\n",
    "print(X.shape)"
   ]
  },
  {
   "cell_type": "code",
   "execution_count": 18,
   "metadata": {},
   "outputs": [
    {
     "name": "stdout",
     "output_type": "stream",
     "text": [
      "(12360, 38)\n",
      "(1374, 38)\n",
      "(12360, 5)\n",
      "(1374, 5)\n"
     ]
    }
   ],
   "source": [
    "from sklearn.model_selection import train_test_split\n",
    "X_train, X_test, y_train, y_test = train_test_split(X, Y,test_size=0.1, random_state=40)\n",
    "print(X_train.shape); print(X_test.shape)\n",
    "print(y_train.shape); print(y_test.shape)\n"
   ]
  },
  {
   "cell_type": "code",
   "execution_count": 22,
   "metadata": {},
   "outputs": [
    {
     "name": "stdout",
     "output_type": "stream",
     "text": [
      "(1000, 38)\n",
      "(200, 38)\n",
      "(1000, 5)\n",
      "(200, 5)\n"
     ]
    }
   ],
   "source": [
    "##to shuffle!!!\n",
    "\n",
    "##np.random.seed(42) \n",
    "##shuffle_index = np.random.permutation(12360)\n",
    "##X_train, y_train = X_train[shuffle_index], y_train[shuffle_index]\n",
    "##np.random.seed(42)\n",
    "##shuffle_index_test = np.random.permutation(1374)\n",
    "##X_test, y_test = X_test[shuffle_index_test], y_test[shuffle_index_test]\n",
    "\n",
    "#reduce the dataset\n",
    "X_train_reduced, y_train_reduced = X_train[0:1000], y_train[0:1000]\n",
    "X_test_reduced, y_test_reduced = X_test[0:200], y_test[0:200]\n",
    "print(X_train_reduced.shape); print(X_test_reduced.shape)\n",
    "print(y_train_reduced.shape); print(y_test_reduced.shape)"
   ]
  },
  {
   "cell_type": "code",
   "execution_count": null,
   "metadata": {},
   "outputs": [],
   "source": []
  },
  {
   "cell_type": "code",
   "execution_count": 23,
   "metadata": {},
   "outputs": [],
   "source": [
    "from sklearn import svm\n",
    "from sklearn.svm import SVC"
   ]
  },
  {
   "cell_type": "code",
   "execution_count": 26,
   "metadata": {},
   "outputs": [
    {
     "name": "stdout",
     "output_type": "stream",
     "text": [
      "SVM classifier accuracy: 0.9713592233009709\n",
      "SVM classifier accuracy - test set: 0.9745269286754003\n"
     ]
    }
   ],
   "source": [
    "svm = SVC(C=4)\n",
    "svm.fit(X_train, y_train[:,0])\n",
    "print(f'SVM classifier accuracy: {svm.score(X_train, y_train[:,0])}')\n",
    "print(f'SVM classifier accuracy - test set: {svm.score(X_test, y_test[:,0])}')"
   ]
  },
  {
   "cell_type": "code",
   "execution_count": 27,
   "metadata": {},
   "outputs": [
    {
     "name": "stdout",
     "output_type": "stream",
     "text": [
      "SVM classifier accuracy: 0.961084142394822\n",
      "SVM classifier accuracy - test set: 0.9621542940320232\n"
     ]
    }
   ],
   "source": [
    "svm = SVC(C=4)\n",
    "svm.fit(X_train, y_train[:,1])\n",
    "print(f'SVM classifier accuracy: {svm.score(X_train, y_train[:,1])}')\n",
    "print(f'SVM classifier accuracy - test set: {svm.score(X_test, y_test[:,1])}')"
   ]
  },
  {
   "cell_type": "code",
   "execution_count": 28,
   "metadata": {},
   "outputs": [
    {
     "name": "stdout",
     "output_type": "stream",
     "text": [
      "SVM classifier accuracy: 0.9312297734627831\n",
      "SVM classifier accuracy - test set: 0.9344978165938864\n"
     ]
    }
   ],
   "source": [
    "svm = SVC(C=4)\n",
    "svm.fit(X_train, y_train[:,2])\n",
    "print(f'SVM classifier accuracy: {svm.score(X_train, y_train[:,2])}')\n",
    "print(f'SVM classifier accuracy - test set: {svm.score(X_test, y_test[:,2])}')"
   ]
  },
  {
   "cell_type": "code",
   "execution_count": 29,
   "metadata": {},
   "outputs": [
    {
     "name": "stdout",
     "output_type": "stream",
     "text": [
      "SVM classifier accuracy: 0.9222491909385113\n",
      "SVM classifier accuracy - test set: 0.9352256186317321\n"
     ]
    }
   ],
   "source": [
    "svm = SVC(C=4)\n",
    "svm.fit(X_train, y_train[:,3])\n",
    "print(f'SVM classifier accuracy: {svm.score(X_train, y_train[:,3])}')\n",
    "print(f'SVM classifier accuracy - test set: {svm.score(X_test, y_test[:,3])}')"
   ]
  },
  {
   "cell_type": "code",
   "execution_count": 30,
   "metadata": {},
   "outputs": [
    {
     "name": "stdout",
     "output_type": "stream",
     "text": [
      "SVM classifier accuracy: 0.9325242718446602\n",
      "SVM classifier accuracy - test set: 0.9461426491994177\n"
     ]
    }
   ],
   "source": [
    "svm = SVC(C=4)\n",
    "svm.fit(X_train, y_train[:,4])\n",
    "print(f'SVM classifier accuracy: {svm.score(X_train, y_train[:,4])}')\n",
    "print(f'SVM classifier accuracy - test set: {svm.score(X_test, y_test[:,4])}')"
   ]
  },
  {
   "cell_type": "code",
   "execution_count": null,
   "metadata": {},
   "outputs": [],
   "source": [
    "from sklearn.model_selection import GridSearchCV\n",
    "param_grid = {\n",
    "    'C': [0.01, 0.1,1, 10, 100, 1000], \n",
    "    'gamma': [1,0.1,0.01,0.001, 0.0001],\n",
    "    'kernel': ['linear', 'rbf', 'poly', 'sigmoid']\n",
    "}\n",
    "tuned_svm = GridSearchCV(svm, param_grid, cv = 5, scoring='accuracy', verbose = 2, n_jobs=-1)\n",
    "tuned_svm.fit(X_train_reduced, y_train_reduced[:,0])\n",
    "\n",
    "params = tuned_svm.best_params_\n",
    "\n",
    "print(params)\n",
    "print(tuned_svm.score(X_train,y_train[:,0]))\n",
    "print(tuned_svm.score(X_test,y_test[:,0]))"
   ]
  }
 ],
 "metadata": {
  "kernelspec": {
   "display_name": "Python 3",
   "language": "python",
   "name": "python3"
  },
  "language_info": {
   "codemirror_mode": {
    "name": "ipython",
    "version": 3
   },
   "file_extension": ".py",
   "mimetype": "text/x-python",
   "name": "python",
   "nbconvert_exporter": "python",
   "pygments_lexer": "ipython3",
   "version": "3.8.5"
  }
 },
 "nbformat": 4,
 "nbformat_minor": 4
}
