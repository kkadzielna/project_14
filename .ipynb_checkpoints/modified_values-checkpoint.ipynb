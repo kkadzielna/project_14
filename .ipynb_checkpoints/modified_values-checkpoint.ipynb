{
 "cells": [
  {
   "cell_type": "code",
   "execution_count": 32,
   "metadata": {},
   "outputs": [],
   "source": [
    "import pandas as pd\n",
    "import numpy as np\n",
    "from scipy import stats\n",
    "import seaborn as sns"
   ]
  },
  {
   "cell_type": "code",
   "execution_count": 3,
   "metadata": {},
   "outputs": [
    {
     "data": {
      "text/html": [
       "<div>\n",
       "<style scoped>\n",
       "    .dataframe tbody tr th:only-of-type {\n",
       "        vertical-align: middle;\n",
       "    }\n",
       "\n",
       "    .dataframe tbody tr th {\n",
       "        vertical-align: top;\n",
       "    }\n",
       "\n",
       "    .dataframe thead th {\n",
       "        text-align: right;\n",
       "    }\n",
       "</style>\n",
       "<table border=\"1\" class=\"dataframe\">\n",
       "  <thead>\n",
       "    <tr style=\"text-align: right;\">\n",
       "      <th></th>\n",
       "      <th>Unnamed: 0</th>\n",
       "      <th>X</th>\n",
       "      <th>flag</th>\n",
       "      <th>comp_bed_9</th>\n",
       "      <th>mat_dep</th>\n",
       "      <th>mat_age</th>\n",
       "      <th>weight_16</th>\n",
       "      <th>height_16</th>\n",
       "      <th>iq</th>\n",
       "      <th>comp_noint_bed_16</th>\n",
       "      <th>...</th>\n",
       "      <th>dep_score</th>\n",
       "      <th>comp_house</th>\n",
       "      <th>tv_bed_16</th>\n",
       "      <th>creat_14</th>\n",
       "      <th>comp_games</th>\n",
       "      <th>fam_tv_eve</th>\n",
       "      <th>fam_tv_aft</th>\n",
       "      <th>fam_tv_mor</th>\n",
       "      <th>sex</th>\n",
       "      <th>birth_order</th>\n",
       "    </tr>\n",
       "  </thead>\n",
       "  <tbody>\n",
       "    <tr>\n",
       "      <th>0</th>\n",
       "      <td>1</td>\n",
       "      <td>1</td>\n",
       "      <td>synthetic</td>\n",
       "      <td>NaN</td>\n",
       "      <td>3.0</td>\n",
       "      <td>30</td>\n",
       "      <td>59.294132</td>\n",
       "      <td>181.602831</td>\n",
       "      <td>107.0</td>\n",
       "      <td>NaN</td>\n",
       "      <td>...</td>\n",
       "      <td>0.0</td>\n",
       "      <td>Yes</td>\n",
       "      <td>Yes</td>\n",
       "      <td>often</td>\n",
       "      <td>No</td>\n",
       "      <td>Yes, Some Days</td>\n",
       "      <td>Other</td>\n",
       "      <td>Yes, Every Day</td>\n",
       "      <td>Female</td>\n",
       "      <td>A</td>\n",
       "    </tr>\n",
       "    <tr>\n",
       "      <th>1</th>\n",
       "      <td>2</td>\n",
       "      <td>2</td>\n",
       "      <td>synthetic</td>\n",
       "      <td>NaN</td>\n",
       "      <td>9.0</td>\n",
       "      <td>26</td>\n",
       "      <td>NaN</td>\n",
       "      <td>NaN</td>\n",
       "      <td>85.0</td>\n",
       "      <td>NaN</td>\n",
       "      <td>...</td>\n",
       "      <td>NaN</td>\n",
       "      <td>NaN</td>\n",
       "      <td>NaN</td>\n",
       "      <td>NaN</td>\n",
       "      <td>NaN</td>\n",
       "      <td>NaN</td>\n",
       "      <td>NaN</td>\n",
       "      <td>NaN</td>\n",
       "      <td>Female</td>\n",
       "      <td>B</td>\n",
       "    </tr>\n",
       "    <tr>\n",
       "      <th>2</th>\n",
       "      <td>3</td>\n",
       "      <td>3</td>\n",
       "      <td>synthetic</td>\n",
       "      <td>NaN</td>\n",
       "      <td>3.0</td>\n",
       "      <td>24</td>\n",
       "      <td>NaN</td>\n",
       "      <td>NaN</td>\n",
       "      <td>NaN</td>\n",
       "      <td>NaN</td>\n",
       "      <td>...</td>\n",
       "      <td>NaN</td>\n",
       "      <td>NaN</td>\n",
       "      <td>NaN</td>\n",
       "      <td>NaN</td>\n",
       "      <td>NaN</td>\n",
       "      <td>Yes, Some Days</td>\n",
       "      <td>Yes, Every Day</td>\n",
       "      <td>Other</td>\n",
       "      <td>Male</td>\n",
       "      <td>A</td>\n",
       "    </tr>\n",
       "    <tr>\n",
       "      <th>3</th>\n",
       "      <td>4</td>\n",
       "      <td>4</td>\n",
       "      <td>synthetic</td>\n",
       "      <td>No</td>\n",
       "      <td>NaN</td>\n",
       "      <td>22</td>\n",
       "      <td>49.812426</td>\n",
       "      <td>160.224186</td>\n",
       "      <td>NaN</td>\n",
       "      <td>NaN</td>\n",
       "      <td>...</td>\n",
       "      <td>NaN</td>\n",
       "      <td>NaN</td>\n",
       "      <td>NaN</td>\n",
       "      <td>NaN</td>\n",
       "      <td>No</td>\n",
       "      <td>NaN</td>\n",
       "      <td>NaN</td>\n",
       "      <td>NaN</td>\n",
       "      <td>Male</td>\n",
       "      <td>A</td>\n",
       "    </tr>\n",
       "    <tr>\n",
       "      <th>4</th>\n",
       "      <td>5</td>\n",
       "      <td>5</td>\n",
       "      <td>synthetic</td>\n",
       "      <td>No</td>\n",
       "      <td>8.0</td>\n",
       "      <td>31</td>\n",
       "      <td>62.270030</td>\n",
       "      <td>191.703227</td>\n",
       "      <td>132.0</td>\n",
       "      <td>Yes</td>\n",
       "      <td>...</td>\n",
       "      <td>NaN</td>\n",
       "      <td>NaN</td>\n",
       "      <td>NaN</td>\n",
       "      <td>often</td>\n",
       "      <td>No</td>\n",
       "      <td>Yes, Some Days</td>\n",
       "      <td>Yes, Every Day</td>\n",
       "      <td>Yes, Every Day</td>\n",
       "      <td>Female</td>\n",
       "      <td>A</td>\n",
       "    </tr>\n",
       "  </tbody>\n",
       "</table>\n",
       "<p>5 rows × 85 columns</p>\n",
       "</div>"
      ],
      "text/plain": [
       "   Unnamed: 0  X       flag comp_bed_9  mat_dep mat_age  weight_16  \\\n",
       "0           1  1  synthetic        NaN      3.0      30  59.294132   \n",
       "1           2  2  synthetic        NaN      9.0      26        NaN   \n",
       "2           3  3  synthetic        NaN      3.0      24        NaN   \n",
       "3           4  4  synthetic         No      NaN      22  49.812426   \n",
       "4           5  5  synthetic         No      8.0      31  62.270030   \n",
       "\n",
       "    height_16     iq comp_noint_bed_16  ... dep_score comp_house tv_bed_16  \\\n",
       "0  181.602831  107.0               NaN  ...       0.0        Yes       Yes   \n",
       "1         NaN   85.0               NaN  ...       NaN        NaN       NaN   \n",
       "2         NaN    NaN               NaN  ...       NaN        NaN       NaN   \n",
       "3  160.224186    NaN               NaN  ...       NaN        NaN       NaN   \n",
       "4  191.703227  132.0               Yes  ...       NaN        NaN       NaN   \n",
       "\n",
       "  creat_14 comp_games      fam_tv_eve      fam_tv_aft      fam_tv_mor     sex  \\\n",
       "0    often         No  Yes, Some Days           Other  Yes, Every Day  Female   \n",
       "1      NaN        NaN             NaN             NaN             NaN  Female   \n",
       "2      NaN        NaN  Yes, Some Days  Yes, Every Day           Other    Male   \n",
       "3      NaN         No             NaN             NaN             NaN    Male   \n",
       "4    often         No  Yes, Some Days  Yes, Every Day  Yes, Every Day  Female   \n",
       "\n",
       "  birth_order  \n",
       "0           A  \n",
       "1           B  \n",
       "2           A  \n",
       "3           A  \n",
       "4           A  \n",
       "\n",
       "[5 rows x 85 columns]"
      ]
     },
     "execution_count": 3,
     "metadata": {},
     "output_type": "execute_result"
    }
   ],
   "source": [
    "data = pd.read_csv(\"./dataset/maps_hours.csv\", engine='python')\n",
    "data.head()"
   ]
  },
  {
   "cell_type": "code",
   "execution_count": 4,
   "metadata": {},
   "outputs": [
    {
     "data": {
      "text/plain": [
       "13734"
      ]
     },
     "execution_count": 4,
     "metadata": {},
     "output_type": "execute_result"
    }
   ],
   "source": [
    "len(data)"
   ]
  },
  {
   "cell_type": "code",
   "execution_count": 5,
   "metadata": {},
   "outputs": [],
   "source": [
    "for i in range(13734):\n",
    "    if data.at[i,\"comp_week\"] == \"Not at all\":\n",
    "        data.at[i,\"comp_week\"] = 0\n",
    "    if data.at[i,\"comp_week\"] == \"Less than 1 hour\":\n",
    "        data.at[i,\"comp_week\"] = 1\n",
    "    if data.at[i,\"comp_week\"] == \"1-2 hours\":\n",
    "        data.at[i,\"comp_week\"] = 2\n",
    "    if data.at[i,\"comp_week\"] == \"3 or more hours\":\n",
    "        data.at[i,\"comp_week\"] = 3 "
   ]
  },
  {
   "cell_type": "code",
   "execution_count": 6,
   "metadata": {
    "scrolled": true
   },
   "outputs": [
    {
     "name": "stdout",
     "output_type": "stream",
     "text": [
      "2\n",
      "2\n",
      "4\n"
     ]
    }
   ],
   "source": [
    "print(data.at[0,'comp_week'])\n",
    "print(data.loc[0].comp_week)\n",
    "print(data.iat[3,0])"
   ]
  },
  {
   "cell_type": "code",
   "execution_count": 7,
   "metadata": {},
   "outputs": [
    {
     "data": {
      "text/plain": [
       "0          2\n",
       "1        NaN\n",
       "2        NaN\n",
       "3        NaN\n",
       "4          2\n",
       "        ... \n",
       "13729    NaN\n",
       "13730      2\n",
       "13731      2\n",
       "13732      1\n",
       "13733    NaN\n",
       "Name: comp_week, Length: 13734, dtype: object"
      ]
     },
     "execution_count": 7,
     "metadata": {},
     "output_type": "execute_result"
    }
   ],
   "source": [
    "data.comp_week"
   ]
  },
  {
   "cell_type": "code",
   "execution_count": 25,
   "metadata": {},
   "outputs": [
    {
     "data": {
      "text/plain": [
       "<AxesSubplot:xlabel='comp_week', ylabel='Count'>"
      ]
     },
     "execution_count": 25,
     "metadata": {},
     "output_type": "execute_result"
    },
    {
     "data": {
      "image/png": "[encoded data removed]",
      "text/plain": [
       "<Figure size 432x288 with 1 Axes>"
      ]
     },
     "metadata": {},
     "output_type": "display_data"
    }
   ],
   "source": [
    "sns.set_theme()\n",
    "sns.histplot(data.comp_week)"
   ]
  },
  {
   "cell_type": "code",
   "execution_count": 40,
   "metadata": {},
   "outputs": [
    {
     "name": "stdout",
     "output_type": "stream",
     "text": [
      "mean: 2.041907802833766\n",
      "mode: ModeResult(mode=array([2], dtype=object), count=array([2375]))\n",
      "median: nan\n"
     ]
    }
   ],
   "source": [
    "mean = np.mean(data.comp_week)\n",
    "print(\"mean:\", mean)\n",
    "mode = stats.mode(data.comp_week)\n",
    "print(\"mode:\", mode)\n",
    "median = np.median(data.comp_week)\n",
    "print(\"median:\", median)"
   ]
  },
  {
   "cell_type": "code",
   "execution_count": 42,
   "metadata": {},
   "outputs": [
    {
     "data": {
      "text/plain": [
       "Counter({2: 2375, nan: 8723, 3: 1471, 1: 1069, 0: 96})"
      ]
     },
     "execution_count": 42,
     "metadata": {},
     "output_type": "execute_result"
    }
   ],
   "source": [
    "from collections import Counter\n",
    "Counter(data.comp_week)"
   ]
  },
  {
   "cell_type": "code",
   "execution_count": null,
   "metadata": {},
   "outputs": [],
   "source": []
  }
 ],
 "metadata": {
  "kernelspec": {
   "display_name": "Python 3",
   "language": "python",
   "name": "python3"
  },
  "language_info": {
   "codemirror_mode": {
    "name": "ipython",
    "version": 3
   },
   "file_extension": ".py",
   "mimetype": "text/x-python",
   "name": "python",
   "nbconvert_exporter": "python",
   "pygments_lexer": "ipython3",
   "version": "3.8.5"
  }
 },
 "nbformat": 4,
 "nbformat_minor": 5
}
